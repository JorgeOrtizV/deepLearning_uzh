{
 "cells": [
  {
   "cell_type": "markdown",
   "metadata": {
    "id": "yjS_p66DM6_O"
   },
   "source": [
    "### Group Members:\n",
    "\n",
    "- Name, matriculation number\n",
    "- Name, matriculation number\n",
    "- Name, matriculation number"
   ]
  },
  {
   "cell_type": "markdown",
   "metadata": {
    "id": "fsSWtTLDm0Lx"
   },
   "source": [
    "# Assignment 8: Open-Set Classification\n",
    "\n",
    "In this assignment, we develop a network that is capable of correctly classifying known classes while at the same time rejecting unknown samples that occur during inference time.\n",
    "To showcase the capability, we make use of the MNIST dataset that we artificially split into known and unknown classes; this allows us to train a network on the data without requiring too expensive hardware.\n",
    "\n",
    "\n",
    "We select the MNIST dataset and define several classes to be known, negative class during training, and unknown (not used for training at all).\n",
    "\n",
    "## Dataset\n",
    "We split the MNIST dataset into 4 known classes, 4 negative classes (used for training) and 2 unknown classes (used only for testing).\n",
    "While several splits might be possible, here we restrict to the following:\n",
    "* Known class indexes: (1, 4, 5, 8)\n",
    "* negative class indexes: (0, 2, 3, 7)\n",
    "* Unknown class indexes: (6,9)\n",
    "\n",
    "Please note that, in PyTorch, class indexing starts at 0 (other than in the lecture where class indexing starts at 1).\n",
    "\n",
    "We rely on the `torchvision.datasets.MNIST` implementation of the `MNIST` dataset, which we adapt to our needs.\n",
    "The constructor of our Dataset class takes one parameter that defines the purpose of this dataset (`\"train\", \"validation\", \"test\"`).\n",
    "The `\"train\"` partition uses the training samples of the *known* and the *negative* classes.\n",
    "The `\"validation\"` partition uses the test samples of the *known* and the *negative* classes.\n",
    "Finally, the `\"test\"` partition uses the test samples of the *known* and the *unknown* classes.\n",
    "\n",
    "In our implementation of the Dataset class, we need to implement two functions.\n",
    "* First, the constructor `__init__(self, purpose)` selects the data based on our purpose.\n",
    "* Second, the index function `__getitem__(self, n)` returns a pair $(X^n, \\vec t^n)$ for the sample with the index $n$, where $X \\in \\mathbb R^{1\\times28\\times28}$ with values in range $[0,1]$ and $\\vec t \\in \\mathbb R^{O}$, see below.\n",
    "\n",
    "Since our loss function (cf. Task 5) requires our target vectors to be in vector format, we need to convert the target index $t^n$ into its vector representation $\\vec t^n$.\n",
    "Particularly, we need to provide the following target vectors:\n",
    "\n",
    "<center>\n",
    "\n",
    " $\\vec t^n = 1 : \\vec t^n = (1,0,0,0)$\n",
    "\n",
    " $\\vec t^n = 4 : \\vec t^n = (0,1,0,0)$\n",
    "\n",
    " $\\vec t^n = 5 : \\vec t^n = (0,0,1,0)$\n",
    "\n",
    " $\\vec t^n = 8 : \\vec t^n = (0,0,0,1)$\n",
    "\n",
    " else: $\\vec t^n = (\\frac14,\\frac14,\\frac14,\\frac14)$\n",
    "\n",
    "</center>\n",
    "\n",
    "\n",
    "### Task 1: Target Vectors\n",
    "\n",
    "Implement a function that generates a target vector for any of the ten different classes according to above description. The return value should be a `torch.tensor` of type float."
   ]
  },
  {
   "cell_type": "code",
   "execution_count": 1,
   "metadata": {
    "id": "pKlkqz_ym0L2"
   },
   "outputs": [],
   "source": [
    "import torch\n",
    "import torchvision\n",
    "\n",
    "# define the three types of classes\n",
    "known_classes = (1,4,5,8)\n",
    "negative_classes = (0,2,3,7)\n",
    "unknown_classes = (6,9)\n",
    "O = len(known_classes)\n",
    "\n",
    "# define one-hot vectors\n",
    "labels_known = [\n",
    "    torch.tensor([1,0,0,0]),\n",
    "    torch.tensor([0,1,0,0]),\n",
    "    torch.tensor([0,0,1,0]),\n",
    "    torch.tensor([0,0,0,1])\n",
    "]\n",
    "label_unknown = torch.tensor([1/4,1/4,1/4,1/4])\n",
    "\n",
    "def target_vector(index):\n",
    "  # select correct one-hot vector for known classes, and the 1/O-vectors for unknown classes\n",
    "  if index in known_classes:\n",
    "    return labels_known[known_classes.index(index)]\n",
    "  else:\n",
    "    return label_unknown"
   ]
  },
  {
   "cell_type": "markdown",
   "metadata": {
    "id": "WFSme-RNm0L4"
   },
   "source": [
    "### Test 1: Check your Target Vectors\n",
    "\n",
    "Test that your target vectors are correct, for all tpyes of known and unknown samples.\n"
   ]
  },
  {
   "cell_type": "code",
   "execution_count": 2,
   "metadata": {
    "id": "cn9oEs61m0L4"
   },
   "outputs": [
    {
     "name": "stdout",
     "output_type": "stream",
     "text": [
      "1 tensor([1, 0, 0, 0])\n",
      "4 tensor([0, 1, 0, 0])\n",
      "5 tensor([0, 0, 1, 0])\n",
      "8 tensor([0, 0, 0, 1])\n"
     ]
    }
   ],
   "source": [
    "# check that the target vectors for known classes are correct\n",
    "for index in known_classes:\n",
    "  t = target_vector(index)\n",
    "  print(index, t)\n",
    "  assert max(t) == 1\n",
    "  assert sum(t) == 1\n",
    "\n",
    "# check that the target vectors for unknown classes are correct\n",
    "for index in negative_classes + unknown_classes:\n",
    "  t = target_vector(index)\n",
    "  assert max(t) == 0.25\n",
    "  assert sum(t) == 1\n"
   ]
  },
  {
   "cell_type": "markdown",
   "metadata": {
    "id": "jPmC7414m0L5"
   },
   "source": [
    "### Tasks 2 and 3: Dataset Construction and Dataset Item Selection\n",
    "\n",
    "Write a dataset class that derives from `torchvision.datasets.MNIST` in `PyTorch` and adapts some parts of it.\n",
    "In the constructor, make sure that you let `PyTorch` load the dataset by calling the base class constructor `super` with the desired parameters. Afterward, the `self.data` and `self.targets` are populated with all samples and target indexes.\n",
    "From these, we need to sub-select the samples that fit our current `purpose` and store them back to `self.data` and `self.targets`.\n",
    "\n",
    "Second, we need to implement the index function of our dataset, where we need to return both the image and the target vector.\n",
    "The images in `self.data` were originally stored as `uint8` values in the dimension $\\mathbb N^{N\\times28\\times28}$ with values in $[0, 255]$.\n",
    "The targets in `self.targets` were originally stored as class indexes in the dimension $\\mathbb N^N$. Make sure that you return both in the desired format.\n",
    "\n",
    "Notes:\n",
    "\n",
    "* Since Jupyter Notebook does not allow splitting classes over several code boxes, the two tasks are required to be solved in the same code box.\n",
    "* **The definition below is just one possibility.** There are many ways to implement this dataset interface.\n",
    "* With a clever implementation of the constructor, there is no need to overwrite the `__getitem__(self,index)` function.\n",
    "* Depending on your implementation, you might also need to overwrite the `__len__(self)` function."
   ]
  },
  {
   "cell_type": "code",
   "execution_count": 3,
   "metadata": {
    "id": "xLuxLw67l4Lu"
   },
   "outputs": [],
   "source": [
    "import torchvision.transforms as transforms\n",
    "\n",
    "class DataSet(torchvision.datasets.MNIST):\n",
    "  def __init__(self, purpose=\"train\"):\n",
    "    # call base class constructor to handle the data loading\n",
    "    # make sure that you get the correct part of the data based on the purpose\n",
    "\n",
    "    super(DataSet, self).__init__(\n",
    "        root='./datasets', train=(purpose=='train'), transform=None, download=True\n",
    "      )\n",
    "    \n",
    "    self.data = self.data / 255\n",
    "\n",
    "    # select the valid classes based on the current purpose\n",
    "    if purpose == \"train\" or purpose==\"val\":\n",
    "        target_values = torch.Tensor(known_classes+negative_classes)\n",
    "    elif purpose == \"test\":\n",
    "        target_values = torch.Tensor(known_classes+unknown_classes)\n",
    "        \n",
    "    indices = torch.isin(self.targets, target_values)\n",
    "    \n",
    "    self.data = self.data[indices]\n",
    "    new_targets = [target_vector(t) for t in self.targets[indices]]\n",
    "\n",
    "    self.targets = torch.stack(new_targets)\n",
    "    \n",
    "\n",
    "  def __getitem__(self, index):\n",
    "    # perform appropriate actions on the data and the targets\n",
    "    # the format of data should be in [0, 1]\n",
    "\n",
    "    data = self.data[index].unsqueeze(0)\n",
    "\n",
    "    target = self.targets[index]\n",
    "    \n",
    "    #(input, target) = super().__getitem__(index)\n",
    "    #target = target_vector(target)\n",
    "    \n",
    "    return data, target\n"
   ]
  },
  {
   "cell_type": "markdown",
   "metadata": {
    "id": "NvmK-kmdm0L6"
   },
   "source": [
    "### Test 2: Data Sets\n",
    "\n",
    "\n",
    "Instantiate the training dataset.\n",
    "Implement a data loader for the training dataset with a batch size of 64.\n",
    "Assure that all inputs are of the desired type and shape.\n",
    "Assert that the target values are in the correct format, and the sum of the target values per sample is one.\n"
   ]
  },
  {
   "cell_type": "code",
   "execution_count": 4,
   "metadata": {
    "id": "fgFrIjoom0L6"
   },
   "outputs": [],
   "source": [
    "# instantiate the training dataset\n",
    "\n",
    "train_set = DataSet(purpose=\"train\")\n",
    "train_loader = torch.utils.data.DataLoader(train_set, 64, shuffle=True)\n",
    "\n",
    "# assert that we have not filtered out all samples\n",
    "assert len(train_set)!= 60000 and len(train_set)== 48133\n",
    "\n",
    "# check the batch and assert valid data and sizes\n",
    "for x,t in train_loader:\n",
    "  assert len(x) <= 64\n",
    "  assert len(t) == len(x)\n",
    "  assert torch.all(torch.sum(t, axis = 1) == 1)\n",
    "  assert x.shape == torch.Size([x.shape[0], 1, 28, 28])\n",
    "  assert x.dtype == torch.float32\n",
    "  assert torch.max(x) <= 1\n",
    "  assert torch.min(x) >= 0"
   ]
  },
  {
   "cell_type": "markdown",
   "metadata": {
    "id": "z-7VFbW1IfVl"
   },
   "source": [
    "### Task 4: Data Loader\n",
    "\n",
    "Call the dataset class sperately with batch size of $B=256$, and instantiate data loaders for the three datasets.\n"
   ]
  },
  {
   "cell_type": "code",
   "execution_count": 5,
   "metadata": {
    "id": "svg_iiEyIfms"
   },
   "outputs": [],
   "source": [
    "from torch.utils.data import DataLoader\n",
    "\n",
    "batch_size = 256\n",
    "\n",
    "device = 'cuda' if torch.cuda.is_available() else 'cpu'\n",
    "\n",
    "# instantiate training dataset and data loader\n",
    "train_set = DataSet('train')\n",
    "train_loader = DataLoader(train_set, batch_size=batch_size, shuffle=True)\n",
    "\n",
    "# instantiate validation set and data loader\n",
    "validation_set = DataSet('val')\n",
    "validation_loader = DataLoader(validation_set, batch_size=batch_size)\n",
    "\n",
    "# instantiate test set and according data loader\n",
    "test_set = DataSet('test')\n",
    "test_loader = DataLoader(test_set, batch_size=batch_size)\n",
    "\n"
   ]
  },
  {
   "cell_type": "markdown",
   "metadata": {
    "id": "W67k2w9Mm0L7"
   },
   "source": [
    "### Task 5: Utility Function\n",
    "\n",
    "Implement a function that splits a batch of samples into known and unknown parts. For the known parts, also provide the target vectors.\n",
    "How can we know which of the data samples are known samples, and which are unknown?\n",
    "\n",
    "This function needs to return three elements:\n",
    "* First, the samples from the batch that belong to known classes.\n",
    "* Second, the target vectors that belong to the known classes.\n",
    "* Finally, the samples from the batch that belong to unknown classes.\n"
   ]
  },
  {
   "cell_type": "code",
   "execution_count": 6,
   "metadata": {
    "id": "PSDfc-2Tm0L7"
   },
   "outputs": [],
   "source": [
    "def split_known_unknown(batch, targets):\n",
    "  # select the indexes at which known and unknown samples exist\n",
    "  known_indices = []\n",
    "  unknown_indices = []\n",
    "  a = label_unknown\n",
    "  for idx,t in enumerate(targets):\n",
    "    t_dev = t.device\n",
    "    if torch.equal(t,a.to(t_dev)):\n",
    "        unknown_indices.append(idx)\n",
    "    else:\n",
    "        known_indices.append(idx)\n",
    "  # return the known samples, the targets of the known samples, as well as the unknown samples\n",
    "  return batch[known_indices], targets[known_indices], batch[unknown_indices]"
   ]
  },
  {
   "cell_type": "markdown",
   "metadata": {
    "id": "kVq2US6am0L8"
   },
   "source": [
    "## Loss Function and Confidence\n",
    "\n",
    "We write our own PyTorch implementation of our loss function.\n",
    "Particularly, we implement a manual way to define the derivative of our loss function via `torch.autograd.Function`, which allows us to define the forward and backward pass on our own.\n",
    "For this purpose, we need to implement two `static` functions in our loss.\n",
    "The function `forward(ctx, logits, targets)` is required to compute the loss value and allows us to store some variables in the context of the backward pass.\n",
    "The `backward(ctx, result)` provides us with the result of the forward function (the loss value) as well as the context with our stored variables.\n",
    "Here, we need to compute the derivative of the loss with respect to both of the inputs to the forward function (which might look a bit confusing), i.e.,$\\frac{\\partial \\mathbf{J}^{CCE}}{\\partial \\mathbf{Z}}$ and $\\frac{\\partial \\mathbf{J}^{CCE}}{\\partial \\mathbf{T}}$.\n",
    "Since the latter is not required, we can also simply return `None` for the second derivative.\n",
    "\n",
    "<font color=#FF000>Hint: if you think the implementation of loss function is too hard, you can also cross-entropy as your loss function (**since PyTorch version 1.11**).</font>"
   ]
  },
  {
   "cell_type": "markdown",
   "metadata": {
    "id": "5oV8dE2u5B-i"
   },
   "source": [
    "### Task 6: Loss Function Implementation\n",
    "\n",
    "Implement a `torch.autograd.Function` class for the adapted SoftMax function according to the equations provided in the lecture.\n",
    "You might want to compute the log of the network output $\\ln y_o$ from the logits $z_o$ via `torch.nn.functional.log_softmax`.\n",
    "Store all the data required for the backward pass in the context during `forward`, and extract these from the context during `backward`."
   ]
  },
  {
   "cell_type": "code",
   "execution_count": 7,
   "metadata": {
    "id": "czmU2Aqqm0L8"
   },
   "outputs": [],
   "source": [
    "class AdaptedSoftMax(torch.autograd.Function):\n",
    "\n",
    "  # implement the forward propagation\n",
    "  @staticmethod\n",
    "  def forward(ctx, logits, targets):\n",
    "    # compute the log probabilities via log_softmax\n",
    "    log_probs = torch.nn.functional.log_softmax(logits, dim=1)\n",
    "    # save required values for backward pass\n",
    "    ctx.save_for_backward(log_probs, targets)\n",
    "    # compute loss\n",
    "    loss = torch.sum(-targets*log_probs, dim=1)\n",
    "    return loss\n",
    "\n",
    "  # implement Jacobian\n",
    "  @staticmethod\n",
    "  def backward(ctx, result):\n",
    "    # get results stored from forward pass\n",
    "    log_probs, targets = ctx.saved_tensors\n",
    "    # compute derivative of loss w.r.t. the logits\n",
    "    y = torch.exp(log_probs)\n",
    "    dJ_dz = y - targets\n",
    "    # return the derivatives; none for derivative for the targets\n",
    "    return dJ_dz, None\n",
    "\n",
    "# DO NOT REMOVE!\n",
    "# here we set the adapted softmax function to be used later\n",
    "adapted_softmax = AdaptedSoftMax.apply"
   ]
  },
  {
   "cell_type": "markdown",
   "metadata": {
    "id": "Eopp5YC6m0L9"
   },
   "source": [
    "### Task 6a: Alternative Loss Function\n",
    "\n",
    "In case the loss function is too difficult to implement, you can also choose to rely on PyTorch's automatic gradient computation and simply define your loss function without the backward pass.\n",
    "\n",
    "In this case, we only need to define the forward pass. A simple function `adapted_softmax(logits, targets)` is sufficient.\n",
    "\n",
    "You can implement any variant of the categorical cross-entropy loss function on top of SoftMax activations as defined in the lecture.\n"
   ]
  },
  {
   "cell_type": "code",
   "execution_count": 8,
   "metadata": {
    "id": "fFhw66Pxm0L9"
   },
   "outputs": [],
   "source": [
    "def adapted_softmax_alt(logits, targets):\n",
    "  # compute cross-entropy loss on top of softmax values of the logits\n",
    "  loss = torch.nn.functional.cross_entropy(logits, targets)\n",
    "  return loss"
   ]
  },
  {
   "cell_type": "markdown",
   "metadata": {
    "id": "bDwhq72Vm0L9"
   },
   "source": [
    "### Task 7: Confidence Evaluation\n",
    "\n",
    "Implement a function to compute the confidence value for a given batch of samples. \n",
    "Compute Softmax confidence and split these confidences between known and unknown classes. \n",
    "For samples from known classes, sum up the SoftMax confidences of the correct class. \n",
    "For unknown samples, sum 1 minus the maximum confidence for any of the known classes; also apply the $\\frac1O$ correction for the minimum possible SoftMax confidence."
   ]
  },
  {
   "cell_type": "code",
   "execution_count": 9,
   "metadata": {
    "id": "-ooydMNsm0L9"
   },
   "outputs": [],
   "source": [
    "def confidence(logits, targets):\n",
    "  # comupte softmax confidences\n",
    "  conf = torch.nn.functional.softmax(logits, dim=1)\n",
    "\n",
    "  # split between known and unknown\n",
    "  # We can't use in because targets is in one hot encoding\n",
    "  known_indices = []\n",
    "  unknown_indices = []\n",
    "  a = label_unknown\n",
    "  for idx,t in enumerate(targets):\n",
    "    t_dev = t.device\n",
    "    if torch.equal(t,a.to(t_dev)):\n",
    "        unknown_indices.append(idx)\n",
    "    else:\n",
    "        known_indices.append(idx)\n",
    "        \n",
    "        \n",
    "  # compute confidence score for known targets\n",
    "  conf_known = torch.sum(conf[known_indices] * targets[known_indices])\n",
    "  conf_unknown = torch.sum(1-torch.max(conf[unknown_indices], dim=1)[0]+1/4)\n",
    "\n",
    "  return conf_known + conf_unknown"
   ]
  },
  {
   "cell_type": "markdown",
   "metadata": {
    "id": "e543YdEvm0L-"
   },
   "source": [
    "### Test 3: Check Confidence Implementation\n",
    "\n",
    "Test that your confidence implementation does what it is supposed to do.\n",
    "\n",
    "Note that confidence values should always be between 0 and 1, other values indicate an issue in the implementation."
   ]
  },
  {
   "cell_type": "code",
   "execution_count": 10,
   "metadata": {
    "id": "TXAruuB0m0L-"
   },
   "outputs": [
    {
     "name": "stdout",
     "output_type": "stream",
     "text": [
      "tensor(2.9997)\n"
     ]
    }
   ],
   "source": [
    "# select good logit vectors for known and unknown classes\n",
    "logits = torch.tensor([[10., 0., 0., 0.], [-10., 0, -10., -10.], [0.,0.,0.,0.]])\n",
    "# select the according target vectors for these classes\n",
    "targets = torch.stack([target_vector(known_classes[0]), target_vector(known_classes[1]), target_vector(negative_classes[0])])\n",
    "\n",
    "# the confidence should be close to 1 for all cases\n",
    "print(confidence(logits, targets))\n",
    "assert 3 - confidence(logits, targets) < 1e-3"
   ]
  },
  {
   "cell_type": "markdown",
   "metadata": {
    "id": "mWFgh2Nwm0L-"
   },
   "source": [
    "## Network and Training\n",
    "\n",
    "We make use of the same convolutional network as utilized in Assignment 6, to which we append a final fully-connected layer with $K$ inputs and $O$ outputs.\n",
    "Additionally, we replace the $\\sigma$ activation function with the better-performing **PReLU** function.\n",
    "\n",
    "The topology can be found in the following:\n",
    "1. 2D convolutional layer with $Q_1$ channels, kernel size $7\\times7$, stride 1 and padding 0\n",
    "2. 2D maximum pooling layer with kernel size $2\\times2$ and stride 2\n",
    "3. activation function **PReLU**\n",
    "4. 2D convolutional layer with $Q_2$ channels, kernel size $5\\times5$, stride 1 and padding 2\n",
    "5. 2D maximum pooling layer with kernel size $2\\times2$ and stride 2\n",
    "6. activation function **PReLU**\n",
    "7. flatten layer to convert the convolution output into a vector\n",
    "8. fully-connected layer with the correct number of inputs and $K$ outputs\n",
    "9. fully-connected layer with $K$ inputs and $O$ outputs\n",
    "\n",
    "\n",
    "\n",
    "However, instead of relying on the `torch.nn.Sequential` class, we need to define our own network class, which we need to derive from `torch.nn.Module` -- since our network has two outputs.\n",
    "We basically need to implement two methods in our network.\n",
    "The constructor `__init__(self, Q1, Q2, K)` needs to call the base class constructor and initialize all required layers of our network.\n",
    "The `forward(self, x)` function then passes the input through all of our layers and returns both the deep features (extracted at the first fully-connected layer) and the logits (extracted from the second fully-connected layer)."
   ]
  },
  {
   "cell_type": "markdown",
   "metadata": {
    "id": "zAo2Qx9q5bk8"
   },
   "source": [
    "\n",
    "### Task 8: Network Definition\n",
    "\n",
    "We define our own small-scale network to classify known and unknown samples for MNIST.\n",
    "\n",
    "However, this time we need to implement our own network model since we need to modify our network output.\n",
    "\n",
    "Implement a network class, including the layers as provided above.\n",
    "Implement both the constructor and the forward function.\n",
    "Instantiate the network with $Q_1=32, Q_2=32, K=20, O=4$.\n"
   ]
  },
  {
   "cell_type": "code",
   "execution_count": 11,
   "metadata": {
    "id": "LYyPEmsWm0L-"
   },
   "outputs": [],
   "source": [
    "class Network (torch.nn.Module):\n",
    "  def __init__(self, Q1, Q2, K, O):\n",
    "    # call base class constrcutor\n",
    "    super(Network,self).__init__()\n",
    "    # define convolutional layers\n",
    "    self.conv1 = torch.nn.Conv2d(in_channels=1, out_channels=Q1, kernel_size=7, stride=1, padding=0)\n",
    "    self.conv2 = torch.nn.Conv2d(in_channels=Q1, out_channels=Q2, kernel_size=5, stride=1, padding=2)\n",
    "    # pooling and activation functions will be re-used for the different stages\n",
    "    self.pool = torch.nn.MaxPool2d(kernel_size=2, stride=2)\n",
    "    self.act = torch.nn.PReLU()\n",
    "    # define fully-connected layers\n",
    "    self.flatten = torch.nn.Flatten()\n",
    "    self.fc1 = torch.nn.Linear(5*5*Q2, K)\n",
    "    self.fc2 = torch.nn.Linear(K,O)\n",
    "\n",
    "  def forward(self,x):\n",
    "    # compute first layer of convolution, pooling and activation\n",
    "    a = self.act(self.pool(self.conv1(x)))\n",
    "    # compute second layer of convolution, pooling and activation\n",
    "    a = self.act(self.pool(self.conv2(a)))\n",
    "    # get the deep features as the output of the first fully-connected layer\n",
    "    deep_features = self.fc1(self.flatten(a))\n",
    "    # get the logits as the output of the second fully-connected layer\n",
    "    logits = self.fc2(deep_features)\n",
    "    # return both the logits and the deep features\n",
    "    return logits, deep_features"
   ]
  },
  {
   "cell_type": "markdown",
   "metadata": {
    "id": "1rxnrxtRm0L-"
   },
   "source": [
    "### Task 9: Training Loop\n",
    "\n",
    "Implement a function for training network, which contains the training and validation loop. \n",
    "Compute the training set confidence during the epoch.\n",
    "At the end of each epoch, also compute the validation set confidence measure.\n",
    "Print both the training set and validation set confidence scores to the console. \n",
    "Finally, return the trained network."
   ]
  },
  {
   "cell_type": "code",
   "execution_count": 12,
   "metadata": {
    "id": "wnLIrcTzm0L_"
   },
   "outputs": [],
   "source": [
    "from tqdm import tqdm\n",
    "\n",
    "def train(network,epochs, eta, momentum, loss_function):\n",
    "\n",
    "  # Set GPU\n",
    "  device = 'cuda' if torch.cuda.is_available() else 'cpu'\n",
    "  network = network.to(device)\n",
    "  #loss_function = torch.nn.CrossEntropyLoss()\n",
    "\n",
    "  # SGD optimizer with appropriate learning rate\n",
    "  optimizer = torch.optim.SGD(network.parameters(), lr=eta, momentum=momentum)\n",
    "\n",
    "  for epoch in tqdm(range(epochs)):\n",
    "    # evaluate average confidence for training and validation set\n",
    "    train_conf = validation_conf = 0.\n",
    "\n",
    "    for x,t in train_loader:\n",
    "\n",
    "      # extract logits (and deep features) from network\n",
    "      x=x.to(device)\n",
    "      t=t.to(device)\n",
    "      optimizer.zero_grad()\n",
    "      logits, deep_features = network(x)\n",
    "      # compute loss\n",
    "      loss_result = loss_function(logits, t)\n",
    "      # perform weight update\n",
    "      loss_result.backward()\n",
    "      optimizer.step()\n",
    "\n",
    "      # compute training confidence\n",
    "      train_conf += confidence(logits, t)\n",
    "\n",
    "    # compute validation comfidence\n",
    "    with torch.no_grad():\n",
    "      for x,t in validation_loader:\n",
    "        # extract logits (and deep features)\n",
    "        x = x.to(device)\n",
    "        t = t.to(device)\n",
    "        logits, deep_features = network(x)\n",
    "        # compute validation confidence\n",
    "        validation_conf += confidence(logits,t)\n",
    "    # print average confidence for training and validation\n",
    "    print(f\"\\rEpoch {epoch}; train: {train_conf/len(train_set):1.5f}, val: {validation_conf/len(validation_set):1.5f}\")\n",
    "\n",
    "  return network"
   ]
  },
  {
   "cell_type": "markdown",
   "metadata": {
    "id": "_MVLbae8RErZ"
   },
   "source": [
    "### Task 10: Network training\n",
    "\n",
    "Instantiate network with $K1=K2=32$, $K=20$ and $O = 4$. Train the network for 30 epochs with an appropriate learning rate (the optimal learning rate might depend on your loss function implementation and can vary between 0.1 and 0.00001), momentum=$0.9$, and call the function you defined in Task 9."
   ]
  },
  {
   "cell_type": "code",
   "execution_count": 14,
   "metadata": {
    "id": "JiZKtxFdHaJx"
   },
   "outputs": [
    {
     "name": "stderr",
     "output_type": "stream",
     "text": [
      "  3%|██▊                                                                                | 1/30 [00:10<04:50, 10.03s/it]"
     ]
    },
    {
     "name": "stdout",
     "output_type": "stream",
     "text": [
      "\r",
      "Epoch 0; train: 0.72858, val: 0.79550\n"
     ]
    },
    {
     "name": "stderr",
     "output_type": "stream",
     "text": [
      "\r",
      "  7%|█████▌                                                                             | 2/30 [00:20<04:39, 10.00s/it]"
     ]
    },
    {
     "name": "stdout",
     "output_type": "stream",
     "text": [
      "\r",
      "Epoch 1; train: 0.85238, val: 0.87618\n"
     ]
    },
    {
     "name": "stderr",
     "output_type": "stream",
     "text": [
      "\r",
      " 10%|████████▎                                                                          | 3/30 [00:29<04:29,  9.98s/it]"
     ]
    },
    {
     "name": "stdout",
     "output_type": "stream",
     "text": [
      "\r",
      "Epoch 2; train: 0.87974, val: 0.88572\n"
     ]
    },
    {
     "name": "stderr",
     "output_type": "stream",
     "text": [
      "\r",
      " 13%|███████████                                                                        | 4/30 [00:39<04:17,  9.92s/it]"
     ]
    },
    {
     "name": "stdout",
     "output_type": "stream",
     "text": [
      "\r",
      "Epoch 3; train: 0.89741, val: 0.89451\n"
     ]
    },
    {
     "name": "stderr",
     "output_type": "stream",
     "text": [
      "\r",
      " 17%|█████████████▊                                                                     | 5/30 [00:49<04:07,  9.88s/it]"
     ]
    },
    {
     "name": "stdout",
     "output_type": "stream",
     "text": [
      "\r",
      "Epoch 4; train: 0.90730, val: 0.92020\n"
     ]
    },
    {
     "name": "stderr",
     "output_type": "stream",
     "text": [
      "\r",
      " 20%|████████████████▌                                                                  | 6/30 [00:59<03:55,  9.79s/it]"
     ]
    },
    {
     "name": "stdout",
     "output_type": "stream",
     "text": [
      "\r",
      "Epoch 5; train: 0.91798, val: 0.92523\n"
     ]
    },
    {
     "name": "stderr",
     "output_type": "stream",
     "text": [
      "\r",
      " 23%|███████████████████▎                                                               | 7/30 [01:08<03:44,  9.74s/it]"
     ]
    },
    {
     "name": "stdout",
     "output_type": "stream",
     "text": [
      "\r",
      "Epoch 6; train: 0.92473, val: 0.92371\n"
     ]
    },
    {
     "name": "stderr",
     "output_type": "stream",
     "text": [
      "\r",
      " 27%|██████████████████████▏                                                            | 8/30 [01:18<03:32,  9.66s/it]"
     ]
    },
    {
     "name": "stdout",
     "output_type": "stream",
     "text": [
      "\r",
      "Epoch 7; train: 0.92834, val: 0.92226\n"
     ]
    },
    {
     "name": "stderr",
     "output_type": "stream",
     "text": [
      "\r",
      " 30%|████████████████████████▉                                                          | 9/30 [01:27<03:21,  9.60s/it]"
     ]
    },
    {
     "name": "stdout",
     "output_type": "stream",
     "text": [
      "\r",
      "Epoch 8; train: 0.93303, val: 0.93128\n"
     ]
    },
    {
     "name": "stderr",
     "output_type": "stream",
     "text": [
      "\r",
      " 33%|███████████████████████████▎                                                      | 10/30 [01:37<03:13,  9.65s/it]"
     ]
    },
    {
     "name": "stdout",
     "output_type": "stream",
     "text": [
      "\r",
      "Epoch 9; train: 0.93658, val: 0.93257\n"
     ]
    },
    {
     "name": "stderr",
     "output_type": "stream",
     "text": [
      "\r",
      " 37%|██████████████████████████████                                                    | 11/30 [01:47<03:04,  9.69s/it]"
     ]
    },
    {
     "name": "stdout",
     "output_type": "stream",
     "text": [
      "\r",
      "Epoch 10; train: 0.93830, val: 0.94169\n"
     ]
    },
    {
     "name": "stderr",
     "output_type": "stream",
     "text": [
      "\r",
      " 40%|████████████████████████████████▊                                                 | 12/30 [01:57<02:56,  9.80s/it]"
     ]
    },
    {
     "name": "stdout",
     "output_type": "stream",
     "text": [
      "\r",
      "Epoch 11; train: 0.94075, val: 0.93572\n"
     ]
    },
    {
     "name": "stderr",
     "output_type": "stream",
     "text": [
      "\r",
      " 43%|███████████████████████████████████▌                                              | 13/30 [02:07<02:46,  9.80s/it]"
     ]
    },
    {
     "name": "stdout",
     "output_type": "stream",
     "text": [
      "\r",
      "Epoch 12; train: 0.94268, val: 0.93551\n"
     ]
    },
    {
     "name": "stderr",
     "output_type": "stream",
     "text": [
      "\r",
      " 47%|██████████████████████████████████████▎                                           | 14/30 [02:17<02:37,  9.84s/it]"
     ]
    },
    {
     "name": "stdout",
     "output_type": "stream",
     "text": [
      "\r",
      "Epoch 13; train: 0.94417, val: 0.93875\n"
     ]
    },
    {
     "name": "stderr",
     "output_type": "stream",
     "text": [
      "\r",
      " 50%|█████████████████████████████████████████                                         | 15/30 [02:26<02:27,  9.82s/it]"
     ]
    },
    {
     "name": "stdout",
     "output_type": "stream",
     "text": [
      "\r",
      "Epoch 14; train: 0.94478, val: 0.92709\n"
     ]
    },
    {
     "name": "stderr",
     "output_type": "stream",
     "text": [
      "\r",
      " 53%|███████████████████████████████████████████▋                                      | 16/30 [02:36<02:17,  9.80s/it]"
     ]
    },
    {
     "name": "stdout",
     "output_type": "stream",
     "text": [
      "\r",
      "Epoch 15; train: 0.94771, val: 0.94502\n"
     ]
    },
    {
     "name": "stderr",
     "output_type": "stream",
     "text": [
      "\r",
      " 57%|██████████████████████████████████████████████▍                                   | 17/30 [02:46<02:06,  9.72s/it]"
     ]
    },
    {
     "name": "stdout",
     "output_type": "stream",
     "text": [
      "\r",
      "Epoch 16; train: 0.94920, val: 0.93087\n"
     ]
    },
    {
     "name": "stderr",
     "output_type": "stream",
     "text": [
      "\r",
      " 60%|█████████████████████████████████████████████████▏                                | 18/30 [02:55<01:56,  9.68s/it]"
     ]
    },
    {
     "name": "stdout",
     "output_type": "stream",
     "text": [
      "\r",
      "Epoch 17; train: 0.94840, val: 0.94631\n"
     ]
    },
    {
     "name": "stderr",
     "output_type": "stream",
     "text": [
      "\r",
      " 63%|███████████████████████████████████████████████████▉                              | 19/30 [03:05<01:45,  9.63s/it]"
     ]
    },
    {
     "name": "stdout",
     "output_type": "stream",
     "text": [
      "\r",
      "Epoch 18; train: 0.95076, val: 0.94367\n"
     ]
    },
    {
     "name": "stderr",
     "output_type": "stream",
     "text": [
      "\r",
      " 67%|██████████████████████████████████████████████████████▋                           | 20/30 [03:14<01:36,  9.60s/it]"
     ]
    },
    {
     "name": "stdout",
     "output_type": "stream",
     "text": [
      "\r",
      "Epoch 19; train: 0.95072, val: 0.94577\n"
     ]
    },
    {
     "name": "stderr",
     "output_type": "stream",
     "text": [
      "\r",
      " 70%|█████████████████████████████████████████████████████████▍                        | 21/30 [03:24<01:26,  9.59s/it]"
     ]
    },
    {
     "name": "stdout",
     "output_type": "stream",
     "text": [
      "\r",
      "Epoch 20; train: 0.95275, val: 0.94180\n"
     ]
    },
    {
     "name": "stderr",
     "output_type": "stream",
     "text": [
      "\r",
      " 73%|████████████████████████████████████████████████████████████▏                     | 22/30 [03:33<01:16,  9.57s/it]"
     ]
    },
    {
     "name": "stdout",
     "output_type": "stream",
     "text": [
      "\r",
      "Epoch 21; train: 0.95112, val: 0.95441\n"
     ]
    },
    {
     "name": "stderr",
     "output_type": "stream",
     "text": [
      "\r",
      " 77%|██████████████████████████████████████████████████████████████▊                   | 23/30 [03:44<01:08,  9.74s/it]"
     ]
    },
    {
     "name": "stdout",
     "output_type": "stream",
     "text": [
      "\r",
      "Epoch 22; train: 0.95480, val: 0.95502\n"
     ]
    },
    {
     "name": "stderr",
     "output_type": "stream",
     "text": [
      "\r",
      " 80%|█████████████████████████████████████████████████████████████████▌                | 24/30 [03:53<00:57,  9.62s/it]"
     ]
    },
    {
     "name": "stdout",
     "output_type": "stream",
     "text": [
      "\r",
      "Epoch 23; train: 0.95492, val: 0.95012\n"
     ]
    },
    {
     "name": "stderr",
     "output_type": "stream",
     "text": [
      "\r",
      " 83%|████████████████████████████████████████████████████████████████████▎             | 25/30 [04:02<00:47,  9.55s/it]"
     ]
    },
    {
     "name": "stdout",
     "output_type": "stream",
     "text": [
      "\r",
      "Epoch 24; train: 0.95603, val: 0.95593\n"
     ]
    },
    {
     "name": "stderr",
     "output_type": "stream",
     "text": [
      "\r",
      " 87%|███████████████████████████████████████████████████████████████████████           | 26/30 [04:12<00:38,  9.51s/it]"
     ]
    },
    {
     "name": "stdout",
     "output_type": "stream",
     "text": [
      "\r",
      "Epoch 25; train: 0.95712, val: 0.95236\n"
     ]
    },
    {
     "name": "stderr",
     "output_type": "stream",
     "text": [
      "\r",
      " 90%|█████████████████████████████████████████████████████████████████████████▊        | 27/30 [04:21<00:28,  9.52s/it]"
     ]
    },
    {
     "name": "stdout",
     "output_type": "stream",
     "text": [
      "\r",
      "Epoch 26; train: 0.95719, val: 0.95726\n"
     ]
    },
    {
     "name": "stderr",
     "output_type": "stream",
     "text": [
      "\r",
      " 93%|████████████████████████████████████████████████████████████████████████████▌     | 28/30 [04:31<00:19,  9.58s/it]"
     ]
    },
    {
     "name": "stdout",
     "output_type": "stream",
     "text": [
      "\r",
      "Epoch 27; train: 0.95805, val: 0.95743\n"
     ]
    },
    {
     "name": "stderr",
     "output_type": "stream",
     "text": [
      "\r",
      " 97%|███████████████████████████████████████████████████████████████████████████████▎  | 29/30 [04:40<00:09,  9.53s/it]"
     ]
    },
    {
     "name": "stdout",
     "output_type": "stream",
     "text": [
      "\r",
      "Epoch 28; train: 0.95954, val: 0.95656\n"
     ]
    },
    {
     "name": "stderr",
     "output_type": "stream",
     "text": [
      "100%|██████████████████████████████████████████████████████████████████████████████████| 30/30 [04:50<00:00,  9.68s/it]"
     ]
    },
    {
     "name": "stdout",
     "output_type": "stream",
     "text": [
      "\r",
      "Epoch 29; train: 0.95983, val: 0.95764\n"
     ]
    },
    {
     "name": "stderr",
     "output_type": "stream",
     "text": [
      "\n"
     ]
    }
   ],
   "source": [
    "loss_function = adapted_softmax_alt\n",
    "network_adapted = Network(Q1=32, Q2=32, K=20, O=4)\n",
    "network_adapted = train(network_adapted, 30, 0.01, 0.9, loss_function)"
   ]
  },
  {
   "cell_type": "markdown",
   "metadata": {
    "id": "WDqRH6Bsm0L_"
   },
   "source": [
    "## Evaluation\n",
    "\n",
    "For evaluation, we test two different things.\n",
    "First, we check whether our intuition is correct, and the training helps reduce the deep feature magnitudes of unknown samples while maintaining magnitudes for known samples.\n",
    "It is also interesting to see whether there is a difference between samples of the negative classes that were seen during training, and unknown classes that were not.\n",
    "For this purpose, we extract the deep features for the validation and test sets, compute their magnitudes, and plot them in a histogram.\n",
    "\n",
    "The second evaluation computes Correct Classification Rates (CCR) and False Positive Rates (FPR) for a given confidence threshold $\\zeta=0.98$ (based on your training results, you might want to vary this threshold).\n",
    "For the known samples, we compute how often the correct class was classified with a confidence over threshold.\n",
    "For unknown samples, we assess how often one of the known classes was predicted with a confidence larger than $\\zeta$."
   ]
  },
  {
   "cell_type": "markdown",
   "metadata": {
    "id": "tnwwGYj17g2J"
   },
   "source": [
    "### Task 11: Feature Magnitude Plot\n",
    "\n",
    "Define a function, which can extract deep features for validation and test set samples and compute their magnitudes. Split them into known, negative (validation set), and unknown (test set). Plot a histogram for each of the three types of samples.\n",
    "Note that the minimum magnitude is 0, and the maximum magnitude can depend on your network training success."
   ]
  },
  {
   "cell_type": "code",
   "execution_count": 15,
   "metadata": {
    "id": "iM0SayyKm0L_"
   },
   "outputs": [
    {
     "data": {
      "image/png": "[encoded data removed]",
      "text/plain": [
       "<Figure size 400x200 with 1 Axes>"
      ]
     },
     "metadata": {},
     "output_type": "display_data"
    }
   ],
   "source": [
    "def plot_features(network):\n",
    "  # collect feature magnitudes for\n",
    "  known, negative, unknown = [], [], []\n",
    "\n",
    "  with torch.no_grad():\n",
    "    # extract deep features magnitudes for validation set\n",
    "    device = 'cuda' if torch.cuda.is_available() else 'cpu'\n",
    "    for x,t in validation_loader:\n",
    "      x = x.to(device)\n",
    "      t = t.to(device)\n",
    "      # extract deep features (and logits)\n",
    "      logits, deepfeatures = network(x)\n",
    "      # compute norms\n",
    "      deepfeatures = torch.norm(deepfeatures, dim=1)\n",
    "      # split between known and unknown\n",
    "      known_x, known_t, unknown_x = split_known_unknown(deepfeatures, t)\n",
    "      # collect norms of known samples\n",
    "      known.extend(known_x.flatten().tolist())\n",
    "      # collect norms of negative samples\n",
    "      negative.extend(unknown_x.flatten().tolist())\n",
    "\n",
    "    for x,t in test_loader:\n",
    "      x = x.to(device)\n",
    "      t = t.to(device)\n",
    "      # extract deep features (and logits)\n",
    "      logits, deepfeatures = network(x)\n",
    "      # compute norms\n",
    "      deepfeatures = torch.norm(deepfeatures, dim=1)\n",
    "      # split between known and unknown\n",
    "      known_x, known_t, unknown_x = split_known_unknown(deepfeatures, t)\n",
    "      # collect norms of known samples\n",
    "      known.extend(known_x.flatten().tolist())\n",
    "      # collect norms of negative samples\n",
    "      unknown.extend(unknown_x.flatten().tolist())\n",
    "\n",
    "\n",
    "  # plot the norms as histograms\n",
    "  from matplotlib import pyplot\n",
    "  pyplot.figure(figsize=(4,2))\n",
    "\n",
    "  # keep the same maximum magnitude\n",
    "  max_mag = 20\n",
    "  # plot the three histograms\n",
    "  pyplot.hist(known, bins=100, range=(0,max_mag), density=True, color=\"g\", histtype=\"step\", label=\"Known\")\n",
    "  pyplot.hist(negative, bins=100, range=(0,max_mag), density=True, color=\"b\", histtype=\"step\", label=\"Negative\")\n",
    "  pyplot.hist(unknown, bins=100, range=(0,max_mag), density=True, color=\"r\", histtype=\"step\", label=\"Unknown\")\n",
    "\n",
    "  # beautify plot\n",
    "  pyplot.legend()\n",
    "  pyplot.xlabel(\"Deep Feature Magnitude\")\n",
    "  pyplot.ylabel(\"Density\")\n",
    "\n",
    "\n",
    "plot_features(network_adapted)"
   ]
  },
  {
   "cell_type": "markdown",
   "metadata": {
    "id": "nTSMfeJ_m0L_"
   },
   "source": [
    "### Task 12: Classification Evaluation\n",
    "\n",
    "For a fixed threshold of $\\zeta=0.98$, compute CCR and FPR for the test set.\n",
    "A well-trained network can achieve a CCR of > 90% for an FPR < 10%.\n",
    "You might need to vary the threshold."
   ]
  },
  {
   "cell_type": "code",
   "execution_count": 16,
   "metadata": {
    "id": "QlrBZlHxm0L_"
   },
   "outputs": [
    {
     "name": "stdout",
     "output_type": "stream",
     "text": [
      "CCR: 3418 of 3983 = 85.81%\n",
      "FPR: 22 of 1967 = 1.12%\n"
     ]
    }
   ],
   "source": [
    "def evaluation(network):\n",
    "  zeta = 0.98\n",
    "\n",
    "  # count the correctly classified and the total number of known samples\n",
    "  correct = known = 0\n",
    "  # count the incorrectly classified and the total number of unknown samples\n",
    "  false = unknown = 0\n",
    "\n",
    "  with torch.no_grad():\n",
    "    for x,t in test_loader:\n",
    "      #print(t)\n",
    "      # extract logits (and deep features)\n",
    "      z, deep_features = network(x.to(device))\n",
    "      # compute softmax confidences\n",
    "      confidences = torch.softmax(z, dim=1)\n",
    "      #print(confidences)\n",
    "      # split between known and unknown\n",
    "      #print(t)\n",
    "      known_feature, known_targets, unknown_feature = split_known_unknown(confidences, t)\n",
    "      #print(known_feature)\n",
    "\n",
    "      # compute number of correctly classified knowns above threshold\n",
    "      correct += known_feature [known_feature > zeta].size(0)\n",
    "      known += known_targets.size(0)\n",
    "\n",
    "      # compute number of incorrectly accepted known samples\n",
    "      false += unknown_feature[unknown_feature > zeta].size(0)\n",
    "      unknown += len(x) - known_targets.size(0)\n",
    "\n",
    "  # print both rates\n",
    "  print (f\"CCR: {correct} of {known} = {correct/known*100:2.2f}%\")\n",
    "  print (f\"FPR: {false} of {unknown} = {false/unknown*100:2.2f}%\")\n",
    "\n",
    "\n",
    "evaluation(network_adapted)"
   ]
  },
  {
   "cell_type": "code",
   "execution_count": null,
   "metadata": {},
   "outputs": [],
   "source": []
  },
  {
   "cell_type": "code",
   "execution_count": null,
   "metadata": {},
   "outputs": [],
   "source": []
  }
 ],
 "metadata": {
  "accelerator": "GPU",
  "colab": {
   "collapsed_sections": [
    "PN2b5uP2GOPh",
    "CNrxHSLz4p3y",
    "eRwI_rHe42nA"
   ],
   "gpuType": "T4",
   "provenance": []
  },
  "interpreter": {
   "hash": "2dd53f8ad749bca69f7250ce75eb4f0def59db5cf79075a9716322ffc58e8a2e"
  },
  "kernelspec": {
   "display_name": "Python 3 (ipykernel)",
   "language": "python",
   "name": "python3"
  },
  "language_info": {
   "codemirror_mode": {
    "name": "ipython",
    "version": 3
   },
   "file_extension": ".py",
   "mimetype": "text/x-python",
   "name": "python",
   "nbconvert_exporter": "python",
   "pygments_lexer": "ipython3",
   "version": "3.11.9"
  }
 },
 "nbformat": 4,
 "nbformat_minor": 1
}

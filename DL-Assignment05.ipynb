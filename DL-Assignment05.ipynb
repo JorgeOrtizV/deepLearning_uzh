{
 "cells": [
  {
   "cell_type": "markdown",
   "metadata": {},
   "source": [
    "### Group Members:\n",
    "\n",
    "- Shantam raj, 21-743-034\n",
    "- Jorge Alejandro Ortiz Valerio, 23-743-958\n",
    "- Varun Ghat Ravikumar,  23-744-535"
   ]
  },
  {
   "cell_type": "markdown",
   "metadata": {},
   "source": [
    "# Assignment 5: Classification in PyTorch \n",
    "\n",
    "\n",
    "For this exercise, we will switch to an implementation in PyTorch. \n",
    "The goal of this exercise is to get used to some concepts in PyTorch, such as relying on the `torch.tensor` data structure, implementing the network, the loss functions, the training loop and accuracy computation, which we will apply to binary and categorical classification.\n",
    "\n",
    "Please make sure that all your variables are compatible with `torch`.\n",
    "For example, you cannot mix `torch.tensor`s and `numpy.ndarray`s in any part of the code.\n",
    "\n",
    "## Dataset\n",
    "\n",
    "We will use two different datasets, the *churn* dataset https://archive.ics.uci.edu/dataset/563/iranian+churn+dataset for binary classification and the *winequality-red* dataset https://archive.ics.uci.edu/dataset/186/wine+quality for categorical classification. Both datasets are avaliable on the UCI Machine Learning repository.\n",
    "\n",
    "The binary classification dataset contains features extracted from customers of a telecommunication company, which are classified as either churn or not. \n",
    "The categorical classification dataset contains chemical measurements for six distinct qualities of a Portuguese white wine.\n",
    "In the former dataset, the class is indicated in the final column named \"Churn\", whereas for the latter, target information is provided in the last column named \"quality.\"\n",
    "\n",
    "Please run the code block below to download the data files."
   ]
  },
  {
   "cell_type": "code",
   "execution_count": 13,
   "metadata": {},
   "outputs": [],
   "source": [
    "import os\n",
    "import zipfile\n",
    "import urllib.request\n",
    "\n",
    "# download the two dataset files\n",
    "dataset_files = {\n",
    "  \"churn_data.zip\": \"https://archive.ics.uci.edu/static/public/563/iranian+churn+dataset.zip\",\n",
    "  \"winequality-red.csv\": \"https://archive.ics.uci.edu/ml/machine-learning-databases/wine-quality/winequality-red.csv\"\n",
    "}\n",
    "for name, url in dataset_files.items():\n",
    "    # Skip downloading if the file already exists\n",
    "    if not os.path.exists(name):\n",
    "        # Download the file\n",
    "        urllib.request.urlretrieve(url, name)\n",
    "        print(f\"Downloaded {name} successfully.\")\n",
    "\n",
    "        # get the extention of file\n",
    "        base,extension = os.path.splitext(name)\n",
    "        if extension == \".zip\":\n",
    "            # Extract the zip file\n",
    "            with zipfile.ZipFile(name, 'r') as zip_ref:\n",
    "                zip_ref.extractall()\n",
    "            print(f\"Extracted {name} successfully.\")\n",
    "            # rename the file\n",
    "            os.rename(\"Customer Churn.csv\", base + \".csv\")"
   ]
  },
  {
   "cell_type": "markdown",
   "metadata": {},
   "source": [
    "### Task 1: Dataset Loading\n",
    "\n",
    "The first task deals with the loading of the datasets. \n",
    "When training networks in PyTorch, all data needs to be stored as datatype ``torch.tensor``. \n",
    "The data should be split between input sets $\\mathbf X = [\\vec x^{[1]}, \\ldots, \\vec x^{[N]}]^T \\in \\mathbb R^{N\\times D}$ and targets.\n",
    "There is **no need to add a bias neuron to the input**, and the transposition of the data matrix is different from what we have seen before.\n",
    "\n",
    "For the targets, we have to be more careful as there are differences w.r.t. the applied loss function.\n",
    "For binary classification, we need $\\mathbf T = [[t^{[1]}, \\ldots, t^{[N]}]]$ to be in dimension $\\mathbb R^{N\\times1}$ and of type ``torch.float``.\n",
    "For categorical classification, we only need the class indexes $\\vec t = [t^{[1]}, \\ldots, t^{[N]}]$ to be in dimension $\\mathbb N^N$ and of type ``torch.long``.\n",
    "\n",
    "Implement a function that returns both the input and the target data for a given dataset\n",
    "\n",
    "Note:\n",
    "\n",
    "1. You can use `csv.reader()` to read the dataset, or rely on other methods such as `pandas`.\n",
    "2. Please note that in the wine dataset CSV file, all values are separated by `;`, whereas in the churn dataset, they are separated by `,`.\n",
    "3. For the wine dataset, subtract the target by `-3` to get the target values in range $\\{0, 1, 2, 3, 4, 5\\}$."
   ]
  },
  {
   "cell_type": "code",
   "execution_count": 14,
   "metadata": {},
   "outputs": [],
   "source": [
    "import torch\n",
    "import csv\n",
    "import pandas as pd\n",
    "\n",
    "def dataset(dataset_file=\"winequality-red.csv\",delimiter=\";\"):\n",
    "    # read dataset\n",
    "    data = []\n",
    "    data = pd.read_csv(dataset_file,delimiter=delimiter)\n",
    "\n",
    "    print (f\"Loaded dataset with {len(data)} samples\")\n",
    "\n",
    "    # convert to torch.tensor\n",
    "    #print(data)\n",
    "    data_tensor = torch.tensor(data.values)\n",
    "\n",
    "\n",
    "    # get the input (data samples) without the target information\n",
    "    X = data_tensor[:,:-1].type(torch.float32)\n",
    "\n",
    "    if dataset_file == \"winequality-red.csv\":\n",
    "        # target is in the last column and needs to be converted to long\n",
    "        T = data_tensor[:,-1].to(torch.long)\n",
    "        T = T - 3\n",
    "    else:\n",
    "        # target is in the last column and needs to be of type float\n",
    "        T = data_tensor[:,-1:].type(torch.float32)\n",
    "        \n",
    "\n",
    "    return X, T"
   ]
  },
  {
   "cell_type": "markdown",
   "metadata": {},
   "source": [
    "### Test 1: Dataset Check\n",
    "\n",
    "Test 1 assures the correctness of the data and target dimensions.\n",
    "\n",
    "1. For the churn data, we assure that all dimensions are correct and that class labels are in range $\\{0, 1\\}$.\n",
    "\n",
    "2. For the wine dataset, we make sure that the dataset is in the correct dimensions, i.e., $\\mathbf X\\in \\mathbb R^{N\\times D}$ and $\\mathbf T \\in \\mathbb N^N$. And all class labels are in the correct range $[0, O-1]$ where $O$ is the number of classes."
   ]
  },
  {
   "cell_type": "code",
   "execution_count": 15,
   "metadata": {},
   "outputs": [
    {
     "name": "stdout",
     "output_type": "stream",
     "text": [
      "Loaded dataset with 3150 samples\n",
      "Loaded dataset with 1599 samples\n"
     ]
    }
   ],
   "source": [
    "X, T = dataset(\"churn_data.csv\",\",\")\n",
    "\n",
    "assert X.shape[1] == 13, X.shape[1]\n",
    "assert T.shape[1] == 1, T.shape[1]\n",
    "assert torch.all(T >= 0) and torch.all(T <= 1)\n",
    "assert T.dtype == torch.float\n",
    "\n",
    "X, T = dataset(\"winequality-red.csv\",\";\")\n",
    "\n",
    "assert X.shape[1] == 11, X.shape[1]\n",
    "assert torch.all(T >= 0) and torch.all(T <= 5)\n",
    "assert T.dtype == torch.long"
   ]
  },
  {
   "cell_type": "markdown",
   "metadata": {},
   "source": [
    "### Task 2: Split Training and Validation Data\n",
    "\n",
    "The data should be split into 80% for training and 20% for validation. Implement a function that takes the full dataset $(X,T)$ and returns $(X_t, T_t, X_v, T_v)$ accordingly.\n",
    "\n",
    "Write a function that splits off training and validation samples from a given dataset. **What do we need to assure before splitting?**"
   ]
  },
  {
   "cell_type": "code",
   "execution_count": 43,
   "metadata": {},
   "outputs": [],
   "source": [
    "def subset_to_dataset(subset):\n",
    "    return torch.stack([row for row in subset])\n",
    "\n",
    "def split_training_data(X,T,train_percentage=0.8):\n",
    "  \n",
    "    # split into 80/20 training/validation\n",
    "    X_train,X_val = torch.utils.data.random_split(X, [train_percentage,1-train_percentage])\n",
    "    T_train,T_val = torch.utils.data.random_split(T, [train_percentage,1-train_percentage])\n",
    "\n",
    "    X_train = subset_to_dataset(X_train)\n",
    "    X_val = subset_to_dataset(X_val)\n",
    "    T_train = subset_to_dataset(T_train)\n",
    "    T_val = subset_to_dataset(T_val)\n",
    "    \n",
    "    #print(len(X_train),len(T_train),len(X_val),len(T_val))\n",
    "    return X_train, T_train, X_val, T_val"
   ]
  },
  {
   "cell_type": "markdown",
   "metadata": {},
   "source": [
    "### Task 3: Input Data Standardization\n",
    "\n",
    "As we have seen last week, the standardization of the data provides many advantages. \n",
    "Hence, in this task you should write a function that takes $(X_t,X_v)$ as input and standardizes them by subtracting the mean and dividing by the \n",
    "standard deviation of $X_t$, and returning the standardized versions of both. Assure that each input dimension is standardized individually.\n",
    "\n",
    "Implement a function that standardizes all input data for the training and validation set.\n",
    "Return the standardized data."
   ]
  },
  {
   "cell_type": "markdown",
   "metadata": {},
   "source": [
    "Note:\n",
    "\n",
    "1. Use `torch.mean()` and `torch.std()` with the correct dimensions."
   ]
  },
  {
   "cell_type": "code",
   "execution_count": 44,
   "metadata": {},
   "outputs": [],
   "source": [
    "def standardize(X_train, X_val):\n",
    "    # compute statistics\n",
    "    mean_train = torch.mean(X_train,dim = 0)\n",
    "    std_train = torch.std(X_train,dim = 0)\n",
    "    \n",
    "    mean_val = torch.mean(X_val,dim = 0)\n",
    "    std_val = torch.std(X_val,dim = 0)\n",
    "\n",
    "    # standardize both X_train and X_val\n",
    "    X_train = (X_train - mean_train)/std_train\n",
    "    X_val = (X_val - mean_val)/std_val\n",
    "    return X_train, X_val"
   ]
  },
  {
   "cell_type": "markdown",
   "metadata": {},
   "source": [
    "## Network Implementation\n",
    "\n",
    "We will use a two-layer fully-connected network with $D$ input neurons, $K$ hidden neurons and $O$ output neurons. \n",
    "Depending on the task, $D$ and $O$ need to be selected appropriately, while $K$ is a parameter to play around with. \n",
    "In PyTorch, the easiest way to implement a network is by providing the requested sequence of layers to `torch.nn.Sequential`, which will build a network containing the given layers. \n",
    "We will use two `torch.nn.Linear` layers and one `torch.nn.Tanh` activation function in between. \n",
    "The network will return the logits $\\vec z$ for a given input $\\vec x$.\n",
    "\n",
    "\n",
    "### Task 4: Implement Network\n",
    "\n",
    "Implement a two-layer fully-connected network in PyTorch. \n",
    "The given network uses $\\tanh$ as activation function, and provide the possibility to change the number of inputs $D$, the number of hidden neurons $K$ and the number of outputs $O$."
   ]
  },
  {
   "cell_type": "code",
   "execution_count": 45,
   "metadata": {},
   "outputs": [],
   "source": [
    "import torch\n",
    "\n",
    "def Network(D, K, O):\n",
    "    return torch.nn.Sequential(\n",
    "        torch.nn.Linear(D,K),\n",
    "        torch.nn.Tanh(),\n",
    "        torch.nn.Linear(K,O)\n",
    "    )"
   ]
  },
  {
   "cell_type": "markdown",
   "metadata": {},
   "source": [
    "### Task 5: Accuracy Computation\n",
    "\n",
    "To monitor the training process, we want to compute the accuracy. \n",
    "The function will obtain the logits $\\vec z$ extracted from the network and the according target $t$. \n",
    "Assure that this function works both for binary and categorical classification. \n",
    "\n",
    "Note: you can make use of the following pytorch functions:\n",
    "\n",
    "1. `torch.mean()` which computes the mean or average of the input tensor.\n",
    "2. `torch.argmax()` which returns the indices of the maximum values of all elements of the tensor."
   ]
  },
  {
   "cell_type": "code",
   "execution_count": 46,
   "metadata": {},
   "outputs": [],
   "source": [
    "def accuracy(Z, T):\n",
    "    # check if we have binary or categorical classification\n",
    "    if Z.shape[1]==1:\n",
    "        # binary classification\n",
    "        Y_pred = torch.round(torch.sigmoid(Z))\n",
    "        acc = torch.sum(Y_pred == T) / Z.shape[0]\n",
    "        \n",
    "        return acc\n",
    "    else:\n",
    "        # categorical classification\n",
    "        Y_pred = torch.argmax(torch.nn.functional.softmax(Z,dim=1),dim=1)\n",
    "        acc = torch.sum(Y_pred == T) / Z.shape[0]       \n",
    "        \n",
    "        return acc\n",
    "    \n",
    "    "
   ]
  },
  {
   "cell_type": "markdown",
   "metadata": {},
   "source": [
    "### Test 2: Test Accuracy Function\n",
    "\n",
    "Test 2 assures the correctness of your accuracy function in both binary and categorical cases. We make sure that the accuracy will compute the correct values."
   ]
  },
  {
   "cell_type": "code",
   "execution_count": 47,
   "metadata": {},
   "outputs": [],
   "source": [
    "# first, test binary classification\n",
    "ZZ = torch.ones((20,1)) * -5.\n",
    "ZZ[15:20] = 5\n",
    "assert(abs(accuracy(ZZ,torch.zeros((20,1))) - 0.75) < 1e-8)\n",
    "assert(abs(accuracy(ZZ,torch.ones((20,1))) - 0.25) < 1e-8)\n",
    "\n",
    "# now, test categorical classification with 4 classes\n",
    "ZZ = torch.ones((20,4)) * -5\n",
    "ZZ[0:1,0] = 5\n",
    "ZZ[1:4,1] = 5\n",
    "ZZ[4:10,2] = 5\n",
    "ZZ[10:20,3] = 5\n",
    "\n",
    "assert(abs(accuracy(ZZ,torch.zeros(20)) - 0.05) < 1e-8)\n",
    "assert(abs(accuracy(ZZ,torch.ones(20)) - 0.15) < 1e-8)\n",
    "assert(abs(accuracy(ZZ,torch.ones(20)*2) - 0.3) < 1e-8)\n",
    "assert(abs(accuracy(ZZ,torch.ones(20)*3) - 0.5) < 1e-8)\n",
    "assert(abs(accuracy(ZZ,torch.tensor((0,1,1,1,2,2,2,2,2,2,3,3,3,3,3,3,3,3,3,3))) - 1.) < 1e-8)"
   ]
  },
  {
   "cell_type": "markdown",
   "metadata": {},
   "source": [
    "### Task 6: Training Loop\n",
    "\n",
    "Implement a function that takes all necessary parameters to run a training on a given dataset.\n",
    "In this week, we will run gradient descent, i.e., we will train on the whole dataset in each training step, so there is no need to define anything related to batches. \n",
    "Select the optimizer to be `torch.optim.SGD`. \n",
    "\n",
    "Implement a training loop over **10'000** epochs with a learning rate of **$\\eta=0.1$**. \n",
    "Make sure that you train on the training data only, and **not** on the validation data.\n",
    "In each loop, compute and store the training loss, training accuracy, validation loss and validation accuracy. \n",
    "At the end, return the lists of these values.\n",
    "\n",
    "Note:\n",
    "\n",
    "1. When storing accuracy or loss values in a list, make sure to convert the to float via `v.item()`."
   ]
  },
  {
   "cell_type": "code",
   "execution_count": 48,
   "metadata": {},
   "outputs": [],
   "source": [
    "from tqdm import tqdm\n",
    "\n",
    "def train(network,loss,X_train,T_train,X_val,T_val,epochs=10000,lr=0.1,momentum=0,flag=0):\n",
    "    optimizer = torch.optim.SGD(\n",
    "        params=network.parameters(),\n",
    "        lr=lr, momentum=momentum)\n",
    "\n",
    "    # collect loss and accuracy values\n",
    "    train_loss, train_acc, val_loss, val_acc = [], [], [], []\n",
    "\n",
    "    for epoch in tqdm(range(epochs)):\n",
    "        # train on training set\n",
    "        optimizer.zero_grad()\n",
    "\n",
    "        # ... compute network output on training data\n",
    "        Z = network(X_train)\n",
    "        #print(X_train)\n",
    "        if flag == 1:\n",
    "            Predict = torch.sigmoid(Z)\n",
    "        else:\n",
    "            Predict = torch.softmax(Z,dim=1)\n",
    "        # ... compute loss from network output and target data\n",
    "        \n",
    "        \n",
    "        #print(Z.shape,T_train.squeeze().shape)\n",
    "        J = loss(Predict,T_train) \n",
    "        #print(J)\n",
    "        # ... perform parameter update\n",
    "        J.backward()\n",
    "        optimizer.step()\n",
    "        # ... remember loss\n",
    "        train_loss.append(J.item())\n",
    "        # ... compute training set accuracy\n",
    "        train_acc.append(accuracy(Z,T_train))\n",
    "\n",
    "        # test on validation data\n",
    "        with torch.no_grad():\n",
    "            # ... compute network output on validation data\n",
    "            Z_val = network(X_val)\n",
    "            # ... compute loss from network output and target data\n",
    "            if flag == 1:\n",
    "                Predict_Val = torch.sigmoid(Z_val)\n",
    "                \n",
    "            else:\n",
    "                Predict_Val = torch.softmax(Z_val,dim=1)\n",
    "            \n",
    "            J_val = loss(Predict_Val,T_val)\n",
    "            # ... remember loss\n",
    "            val_loss.append(J_val.item())\n",
    "            # ... compute validation set accuracy\n",
    "            val_acc.append(accuracy(Z_val,T_val))\n",
    "\n",
    "    # return the four lists of losses and accuracies\n",
    "    return train_loss, train_acc, val_loss, val_acc"
   ]
  },
  {
   "cell_type": "markdown",
   "metadata": {},
   "source": [
    "## Training and Evaluation\n",
    "\n",
    "Finally, we want to train our network on our data and plot the accuracy and loss values that were obtained through the epochs. \n",
    "Exemplary plots can be found in the exercise slides.\n",
    "\n",
    "\n",
    "### Task 7: Plotting Function\n",
    "\n",
    "Implement a function that takes four lists containing the training loss, the training accuracy, the validation loss and the validation accuracy and plot them into two plots. \n",
    "The first plot should contain the loss values for both training and validation. The second plot should contain the according accuracy values.\n",
    "\n",
    "Note:\n",
    "\n",
    "1. You might need to convert remaining `torch.tensor` values to `float`, lists, or `numpy.nadrray` for plotting."
   ]
  },
  {
   "cell_type": "code",
   "execution_count": 49,
   "metadata": {},
   "outputs": [],
   "source": [
    "from matplotlib import pyplot\n",
    "def plot(train_loss, train_acc, val_loss, val_acc):\n",
    "    pyplot.figure(figsize=(10,3))\n",
    "    ax = pyplot.subplot(121)\n",
    "    ax.plot(train_loss, \"g-\", label=\"Training set loss\")\n",
    "    ax.plot(val_loss, \"b-\", label=\"Validation set loss\")\n",
    "    ax.legend()\n",
    "\n",
    "    ax = pyplot.subplot(122)\n",
    "    ax.plot(train_acc, \"g-\", label=\"Training set accuracy\")\n",
    "    ax.plot(val_acc, \"b-\", label=\"Validation set accuracy\")\n",
    "    ax.legend()"
   ]
  },
  {
   "cell_type": "markdown",
   "metadata": {},
   "source": [
    "### Task 8: Binary Classification\n",
    "\n",
    "\n",
    "1. Load the data for binary classification, using the ``\"churn_data.csv\"`` file.\n",
    "2. Split the data into training and validation sets.\n",
    "3. Standardize both training and validation input data using the function from Task 3.\n",
    "4. Instantiate a network with the correct number of input neurons, a reasonable number of $K$ hidden neurons and one output neuron.\n",
    "\n",
    "**Which loss function do we need for this task?**\n",
    "\n",
    "Train the network on the churn data with the learning rate of **$\\eta=0.1$** for 10'000 epochs and plot the training and validation accuracies and losses."
   ]
  },
  {
   "cell_type": "code",
   "execution_count": 51,
   "metadata": {},
   "outputs": [
    {
     "name": "stdout",
     "output_type": "stream",
     "text": [
      "Loaded dataset with 3150 samples\n"
     ]
    },
    {
     "ename": "TypeError",
     "evalue": "train() got an unexpected keyword argument 'epochs'",
     "output_type": "error",
     "traceback": [
      "\u001b[1;31m---------------------------------------------------------------------------\u001b[0m",
      "\u001b[1;31mTypeError\u001b[0m                                 Traceback (most recent call last)",
      "Cell \u001b[1;32mIn[51], line 13\u001b[0m\n\u001b[0;32m     10\u001b[0m network \u001b[38;5;241m=\u001b[39m Network(D\u001b[38;5;241m=\u001b[39mX\u001b[38;5;241m.\u001b[39mshape[\u001b[38;5;241m1\u001b[39m],K\u001b[38;5;241m=\u001b[39m\u001b[38;5;241m30\u001b[39m,O\u001b[38;5;241m=\u001b[39m\u001b[38;5;241m1\u001b[39m)\n\u001b[0;32m     12\u001b[0m \u001b[38;5;66;03m# train network on our data\u001b[39;00m\n\u001b[1;32m---> 13\u001b[0m results \u001b[38;5;241m=\u001b[39m train(network,loss,X_train,T_train,X_val,T_val,epochs\u001b[38;5;241m=\u001b[39m\u001b[38;5;241m10000\u001b[39m,lr\u001b[38;5;241m=\u001b[39m\u001b[38;5;241m0.1\u001b[39m,momentum\u001b[38;5;241m=\u001b[39m\u001b[38;5;241m0\u001b[39m,flag\u001b[38;5;241m=\u001b[39m\u001b[38;5;241m1\u001b[39m)\n\u001b[0;32m     14\u001b[0m train_loss, train_acc, val_loss, val_acc \u001b[38;5;241m=\u001b[39m results\n\u001b[0;32m     15\u001b[0m \u001b[38;5;66;03m# plot the results\u001b[39;00m\n",
      "\u001b[1;31mTypeError\u001b[0m: train() got an unexpected keyword argument 'epochs'"
     ]
    }
   ],
   "source": [
    "# define loss function\n",
    "loss = torch.nn.BCELoss()\n",
    "# load dataset\n",
    "X, T = dataset(\"churn_data.csv\",\",\")\n",
    "# split dataset\n",
    "X_train, T_train, X_val, T_val = split_training_data(X,T,0.8)\n",
    "# standardize input data\n",
    "X_train, X_val = standardize(X_train,X_val)\n",
    "# initiate the network\n",
    "network = Network(D=X.shape[1],K=30,O=1)\n",
    "\n",
    "# train network on our data\n",
    "results = train(network,loss,X_train,T_train,X_val,T_val,epochs=10000,lr=0.1,momentum=0,flag=1)\n",
    "train_loss, train_acc, val_loss, val_acc = results\n",
    "# plot the results\n",
    "plot(train_loss, train_acc, val_loss, val_acc)"
   ]
  },
  {
   "cell_type": "markdown",
   "metadata": {},
   "source": [
    "Considering accuracies exceeding 90%, do you think our evaluation might be flawed? If so, what aspects could we be neglecting?\n",
    "\n",
    "Ans: Reasons for high accuracy could be class imbalance or overfitting. Therefore we could be neglecting those two aspects. "
   ]
  },
  {
   "cell_type": "markdown",
   "metadata": {},
   "source": [
    "### Task 9: Categorical Classification\n",
    "\n",
    "1. Load the data for categorical classification, using the ``\"winequality-red.csv\"`` file.\n",
    "2. Split the data into training and validation sets.\n",
    "3. Standardize both training and validation input data using the function from Task 3.\n",
    "4. **How many input and output neurons do we need?** Change the number of input, hidden, and output neurons accordingly.\n",
    "4. Build a network with these params you decide.\n",
    "\n",
    "**Which loss function do we need this time?**\n",
    "\n",
    "Train the network on the wine data with the learning rate of **$\\eta=0.1$** for 10'000 epochs and plot the training and validation accuracies and losses."
   ]
  },
  {
   "cell_type": "code",
   "execution_count": 31,
   "metadata": {},
   "outputs": [
    {
     "name": "stdout",
     "output_type": "stream",
     "text": [
      "Loaded dataset with 1599 samples\n",
      "6\n"
     ]
    },
    {
     "name": "stderr",
     "output_type": "stream",
     "text": [
      "100%|██████████████████████████████████████████████████████████████████████████████████████████████████████████████████████████████████████████████████████████████████████| 10000/10000 [00:38<00:00, 262.65it/s]\n"
     ]
    },
    {
     "data": {
      "image/png": "[encoded data removed]",
      "text/plain": [
       "<Figure size 1000x300 with 2 Axes>"
      ]
     },
     "metadata": {},
     "output_type": "display_data"
    }
   ],
   "source": [
    "# define loss function\n",
    "loss = torch.nn.CrossEntropyLoss()\n",
    "# load dataset\n",
    "X, T = dataset(\"winequality-red.csv\",\";\")\n",
    "# split dataset\n",
    "X_train, T_train, X_val, T_val = split_training_data(X,T,0.8)\n",
    "# standardize input data\n",
    "X_train, X_val = standardize(X_train,X_val)\n",
    "# initiate the network\n",
    "max_target = torch.max(T).item()\n",
    "print(max_target+1)\n",
    "network = Network(D=X.shape[1],K=20,O=max_target+1)\n",
    "\n",
    "# train network on our data\n",
    "results = train(network,loss,X_train,T_train,X_val,T_val,epochs=10000,lr=0.05,momentum=0,flag=2)\n",
    "train_loss, train_acc, val_loss, val_acc = results\n",
    "# plot the results\n",
    "plot(train_loss, train_acc, val_loss, val_acc)"
   ]
  },
  {
   "cell_type": "markdown",
   "metadata": {},
   "source": [
    "When reviewing the plots, do you identify any potential concerns? If so, what actions could be taken to mitigate?\n",
    "\n",
    "..."
   ]
  },
  {
   "cell_type": "code",
   "execution_count": null,
   "metadata": {},
   "outputs": [],
   "source": []
  }
 ],
 "metadata": {
  "interpreter": {
   "hash": "2dd53f8ad749bca69f7250ce75eb4f0def59db5cf79075a9716322ffc58e8a2e"
  },
  "kernelspec": {
   "display_name": "Python 3 (ipykernel)",
   "language": "python",
   "name": "python3"
  },
  "language_info": {
   "codemirror_mode": {
    "name": "ipython",
    "version": 3
   },
   "file_extension": ".py",
   "mimetype": "text/x-python",
   "name": "python",
   "nbconvert_exporter": "python",
   "pygments_lexer": "ipython3",
   "version": "3.11.5"
  }
 },
 "nbformat": 4,
 "nbformat_minor": 2
}

{
 "cells": [
  {
   "cell_type": "markdown",
   "metadata": {
    "id": "V-rBVqNINttd"
   },
   "source": [
    "### Group Members:\n",
    "\n",
    "- Shantam raj, 21-743-034\n",
    "- Jorge Alejandro Ortiz Valerio, 23-743-958\n",
    "- Varun Ghat Ravikumar,  23-744-535"
   ]
  },
  {
   "cell_type": "markdown",
   "metadata": {},
   "source": [
    "# Assignment 9: Convolutional Auto-Encoder\n",
    "\n",
    "In this assignment, we show that it is possible to learn from unlabeled data using a convolutional auto-encoder network.\n",
    "The task is to reduce an image of the handwritten digits of MNIST into a deep feature representation, without making use of their labels, and reconstruct the sample from that representation.\n",
    "\n",
    "For this purpose, we implement a convolutional auto-encoder that learns a $K=10$-dimensional deep feature representation of each image and uses this representation to reconstruct images to the original size of $28\\times28$ pixels.\n",
    "We show that such a network can be used to detect anomalies in the test set."
   ]
  },
  {
   "cell_type": "markdown",
   "metadata": {
    "id": "vjNUIs9WRTgF"
   },
   "source": [
    "## Dataset\n",
    "\n",
    "We will make use of `torchvision.datasets.MNIST` dataset and `torchvision.datasets.FashionMNIST` dataset.\n",
    "The former has 10 labels of digit images and the latter has 10 labels of merchandise images.\n",
    "However, besides the last task, we do not make use of the labels of the dataset, but we only utilize the images.\n",
    "\n",
    "These datasets can be split into train sets and test sets by the default implementation.\n",
    "We will use solely MNIST dataset for training and validation of autoencoder network.\n",
    "To use this network for anomaly detection, we will create a new testing set by combining the whole test set of MNIST and a\n",
    "randomly selected subset of FashionMNIST test set."
   ]
  },
  {
   "cell_type": "markdown",
   "metadata": {
    "id": "pwujs3MtOUBV"
   },
   "source": [
    "### Task 1: Datasets\n",
    "Write a dataset class that derives from `torch.utils.data.Dataset` that returns three values: data, target, and anomaly label. Implement the following three functions:\n",
    "\n",
    "1. The constructor `__init__(self, root, purpose, transform, anomaly_size)`. `root` is the saving path of dataset, `purpose` should be `train`, `val`, or `anomaly_detection`, and `anomaly_size` decides the number of test samples from FashionMNIST dataset. `torchvision.datasets.MNIST` and `torchvision.datasets.FashionMNIST` should be appropriately called here depending on `purpose`. Particularly, when `purpose=anomaly_detection`, a subset of FashionMNIST dataset should be randomly selected with size `anomaly_size`.\n",
    "2. The function `__len__(self)` returns the number of samples in our dataset.\n",
    "3. The index function `__getitem__(self, idx)` returns image, target, and data type indicator (-1 if anomalous, 1 otherwise) for a given index."
   ]
  },
  {
   "cell_type": "code",
   "execution_count": 317,
   "metadata": {
    "id": "ztxUX_yhJPvv"
   },
   "outputs": [],
   "source": [
    "import torch\n",
    "import torchvision\n",
    "\n",
    "class MixedDataset(torch.utils.data.Dataset):\n",
    "    def __init__(self, root='./data', purpose=\"train\", transform=None, anomaly_size=2000):\n",
    "        # load MNIST dataset based on \"purpose\"\n",
    "        self.data = None\n",
    "        self.purpose = purpose\n",
    "\n",
    "        self.mnist_dataset = torchvision.datasets.MNIST(root = root, \n",
    "                                                        train = True if purpose==\"train\" else False,\n",
    "                                                        download=True,\n",
    "                                                        transform=None,                                                       \n",
    "                                                       )\n",
    "        self.data = self.mnist_dataset.data\n",
    "        self.targets = self.mnist_dataset.targets\n",
    "        self.data_type = torch.ones(len(self.data))\n",
    "        \n",
    "        # load FashionMNIST dataset when \"purpose\" is \"anomaly_detection\" and randomly select samples with size \"anomaly_size\"\n",
    "        if purpose==\"anomaly_detection\":\n",
    "            self.fashion_mnist_dataset = torchvision.datasets.FashionMNIST(root = root,\n",
    "                                                                          train = True if purpose==\"train\" else False,\n",
    "                                                                          download = True,\n",
    "                                                                          transform = transform,\n",
    "                                                                          )\n",
    "            \n",
    "            \n",
    "            indices = torch.randperm(len(self.fashion_mnist_dataset))[:anomaly_size]\n",
    "            subset_data = self.fashion_mnist_dataset.data[indices]\n",
    "            subset_targets = self.fashion_mnist_dataset.targets[indices]\n",
    "            \n",
    "            self.data = torch.cat((self.data,subset_data),dim=0)     \n",
    "            self.targets = torch.cat((self.targets,subset_targets),dim=0)\n",
    "            self.data_type = torch.cat((self.data_type,(torch.zeros(len(subset_targets)) - 1)))\n",
    "        \n",
    "        \n",
    "\n",
    "    def __len__(self):\n",
    "        # return length of the desired dataset based on its purpose\n",
    "        return len(self.data)\n",
    "\n",
    "    def __getitem__(self, idx):\n",
    "        # perform appropriate actions on the data, target, and its data type indicator (return 1 for regular and -1 for anomalous)\n",
    "        image = self.data[idx:idx+1]\n",
    "        target = self.targets[idx:idx+1]\n",
    "        data_type = self.data_type[idx]\n",
    "\n",
    "        return image, target, data_type\n"
   ]
  },
  {
   "cell_type": "markdown",
   "metadata": {
    "id": "7Oc30hvxO4Ko"
   },
   "source": [
    "### Task 2: Data Loader\n",
    "\n",
    "Call the dataset class three times, use `torchvision.transforms.ToTensor()` as transform, with purpose = `train` (batch size = 32), `val` (batch size = 100), and `anomaly_detection` (batch size = 1000). The third dataset has `anomaly_size=2000`.\n",
    "Instantiate data loader for the three datasets.\n",
    "Remember to shuffle the third dataset."
   ]
  },
  {
   "cell_type": "code",
   "execution_count": 318,
   "metadata": {
    "id": "Dyn2F-8BNaNV"
   },
   "outputs": [],
   "source": [
    "# define transform\n",
    "transform = torchvision.transforms.ToTensor()\n",
    "\n",
    "# instantiate training dataset and data loader\n",
    "train_dataset = MixedDataset(purpose=\"train\",transform = transform)\n",
    "train_loader = torch.utils.data.DataLoader(train_dataset,32,shuffle=True)\n",
    "\n",
    "\n",
    "# instantiate validation dataset and data loader\n",
    "val_dataset = MixedDataset(purpose=\"val\",transform=transform)\n",
    "val_loader = torch.utils.data.DataLoader(val_dataset,100)\n",
    "\n",
    "# instantiate anomaly detection dataset and data loader\n",
    "anomaly_detection_dataset = MixedDataset(purpose=\"anomaly_detection\",transform=transform,anomaly_size=2000)\n",
    "anomaly_detection_loader = torch.utils.data.DataLoader(anomaly_detection_dataset,1000,shuffle=True)\n",
    "\n"
   ]
  },
  {
   "cell_type": "markdown",
   "metadata": {
    "id": "bVI7sASPA1d5"
   },
   "source": [
    "### Test 1: Data Check\n",
    "\n",
    "Load one batch of train set, validation set, and anomaly detection set.\n",
    "For each set, check that input size of each sample is (1, 28, 28), targets are between 0 and 9, and the data type for the first two sets is 1 and there are -1 in the last set.\n",
    "\n",
    "Plot 20 samples from validation loader and 20 samples from anomaly detection loader and check whether samples from FashionMNIST are correctly loaded."
   ]
  },
  {
   "cell_type": "code",
   "execution_count": 319,
   "metadata": {
    "id": "YdzbysQrKQ69"
   },
   "outputs": [
    {
     "data": {
      "image/png": "[encoded data removed]",
      "text/plain": [
       "<Figure size 1500x600 with 40 Axes>"
      ]
     },
     "metadata": {},
     "output_type": "display_data"
    }
   ],
   "source": [
    "from matplotlib import pyplot\n",
    "\n",
    "pyplot.rcParams['image.cmap'] = 'gray'\n",
    "\n",
    "fig, axes = pyplot.subplots(nrows=4, ncols=10, figsize=(15, 6))\n",
    "\n",
    "x_train, t_train, l_train = next(iter(train_loader))\n",
    "x_val, t_val, l_val = next(iter(val_loader))\n",
    "x_ad, t_ad, l_ad = next(iter(anomaly_detection_loader))\n",
    "\n",
    "assert len(train_dataset) == 60000\n",
    "assert len(val_dataset) == 10000\n",
    "assert len(anomaly_detection_dataset) == 12000\n",
    "assert x_train[0].shape == (1, 28, 28)\n",
    "assert x_val[0].shape == (1, 28, 28)\n",
    "assert x_ad[0].shape == (1, 28, 28)\n",
    "assert 0 <= t_train.all() <= 9\n",
    "assert 0 <= t_val.all() <= 9\n",
    "assert 0 <= t_ad.all() <= 9\n",
    "assert (l_val == 1).all()\n",
    "assert (l_train == 1).all()\n",
    "assert -1 in l_ad\n",
    "\n",
    "index=0\n",
    "for i in range(2):\n",
    "    for j in range(10):\n",
    "        axes[i][j].imshow(x_val[index].squeeze())\n",
    "        axes[i][j].axis(\"off\")\n",
    "        axes[i+2][j].imshow(x_ad[index].squeeze())\n",
    "        axes[i+2][j].axis(\"off\")\n",
    "        index+=1"
   ]
  },
  {
   "cell_type": "markdown",
   "metadata": {
    "id": "Ohrvuk9qLX8a"
   },
   "source": [
    "## Auto-Encoder Network\n",
    "\n",
    "The auto-encoder network is composed of two parts: the encoder that transforms the input image to a deep feature representation; and the decoder that produces an image from such a deep feature.\n",
    "\n",
    "For the encoder $\\mathcal E$, we will use a similar convolutional network topology as in the past assignments.\n",
    "An exception is that we perform our down-sampling via striding and not via pooling.\n",
    "After each convolution, we apply the ReLU activation.\n",
    "The output of the encoder is a $K=10$ dimensional deep feature representation.\n",
    "The complete encoder network topology can be found below in Topology 1(a).\n",
    "\n",
    "The decoder $\\mathcal D$ performs the inverse operations of the encoder.\n",
    "A fully-connected layer is used to increase the number of samples to the same size as the output of the flattening of the encoder.\n",
    "Then, the flattening needs to be undone by reshaping the vector into the correct dimensionality, followed by a ReLU activation.\n",
    "A fractionally-strided convolutional layer increases the intermediate representation by a factor of 2.\n",
    "Note that the fractionally-strided convolution is implemented in `torch.nn.ConvTranspose2d`, and the `stride` parameter should have the same value as for the encoder.\n",
    "Additionally, the `torch.nn.ConvTranspose2d` has a parameter `output_padding` which needs to be adapted to reach the correct output shape (see Test 2).\n",
    "After this layer, we perform another ReLU activation and another fractionally-strided convolution to arrive at the original input dimension.\n",
    "The complete decoder network topology can be found below in Topology 1(b).\n",
    "\n",
    "Finally, we combine the two sub-networks into one auto-encoder network.\n",
    "While there exist several possibilities for doing this, we will implement a third `torch.nn.Module` that contains an instance of the encoder and an instance of the decoder."
   ]
  },
  {
   "cell_type": "markdown",
   "metadata": {
    "id": "iDSQU7nvluAM"
   },
   "source": [
    "Topology 1: Network configurations of the (a) encoder and (b) decoder networks\n",
    "\n",
    "(a) Encoder Network\n",
    "\n",
    "*   2D convolutional layer with $Q_1$ output channels, kernel size $5\\times5$, **stride 2** and padding 2\n",
    "*   activation function ReLU\n",
    "*   2D convolutional layer with $Q_2$ output channels, kernel size $5\\times5$, **stride 2** and padding 2\n",
    "*   flatten layer to convert the convolution output into a vector\n",
    "*   activation function ReLU\n",
    "*   fully-connected layer with the correct number of inputs and $K$ outputs\n",
    "\n",
    "(b) Decoder Network\n",
    "\n",
    "*   fully-connected layer with $K$ inputs and the correct number of outputs\n",
    "*   activation function ReLU\n",
    "*   reshaping to convert the vector into a convolution input\n",
    "*   2D **fractionally-strided convolutional** layer with $Q_2$ input channels, kernel size $5\\times5$, stride 2 and padding 2\n",
    "*   activation function ReLU\n",
    "*   2D **fractionally-strided convolutional** layer with $Q_1$ input channels, kernel size $5\\times5$, stride 2 and padding 2"
   ]
  },
  {
   "cell_type": "markdown",
   "metadata": {
    "id": "i4SddasaA8We"
   },
   "source": [
    "### Task 3: Encoder Network\n",
    "\n",
    "Implement the encoder network for given parameters $Q_1$, $Q_2$, and $K$ as given in Topology 1(a).\n",
    "Implement a network class that derives from `torch.nn.Module` and implement the `__init__` and the `forward` methods."
   ]
  },
  {
   "cell_type": "code",
   "execution_count": 320,
   "metadata": {
    "id": "Y04EYtUUOsB0"
   },
   "outputs": [],
   "source": [
    "class Encoder (torch.nn.Module):\n",
    "    def __init__(self, Q1, Q2, K):\n",
    "        # call base class constrcutor\n",
    "        super(Encoder,self).__init__()\n",
    "        # convolutional define layers\n",
    "        self.conv1 = torch.nn.Conv2d(in_channels = 1, out_channels = Q1, kernel_size = 5, stride = 2, padding = 2)\n",
    "        self.conv2 = torch.nn.Conv2d(in_channels = Q1, out_channels = Q2, kernel_size = 5, stride = 2, padding = 2)\n",
    "        # activation functions will be re-used for the different stages\n",
    "        self.act = torch.nn.ReLU()\n",
    "        # define fully-connected layers\n",
    "        self.flatten = torch.nn.Flatten()\n",
    "        self.fc = torch.nn.Linear(in_features=Q2*7*7,out_features=K)\n",
    "\n",
    "    def forward(self, x):\n",
    "        # get the deep feature representation\n",
    "        z1 = self.conv1(x)\n",
    "        a1 = self.act(z1)\n",
    "        #print(a1.shape)\n",
    "        z2 = self.conv2(a1)\n",
    "        #print(z2.shape)\n",
    "        z3 = self.flatten(z2)\n",
    "        #print(z3.shape)\n",
    "        a3 = self.act(z3)\n",
    "        \n",
    "        deep_feature = self.act(self.fc(a3))\n",
    "        return deep_feature"
   ]
  },
  {
   "cell_type": "markdown",
   "metadata": {
    "id": "zG9vfdv1A-cj"
   },
   "source": [
    "\n",
    "### Task 4: Decoder Network\n",
    "\n",
    "Implement the decoder network for given parameters $Q_1$, $Q_2$, and $K$ as given in Topology 1(b).\n",
    "Implement a network class that derives from `torch.nn.Module` and implement the `__init__` and the `forward` methods.\n",
    "The output of the decoder network is supposed to have values in the range $[0,1]$, similar to the input values.\n",
    "We need to make sure that only these values can be achieved.\n",
    "Think of possible ways of doing that, and apply the way that seems most reasonable."
   ]
  },
  {
   "cell_type": "code",
   "execution_count": 321,
   "metadata": {
    "id": "sUibY33HOwGx"
   },
   "outputs": [],
   "source": [
    "import math\n",
    "class Decoder (torch.nn.Module):\n",
    "    def __init__(self, Q1, Q2, K):\n",
    "        # call base class constrcutor\n",
    "        super(Decoder,self).__init__()\n",
    "        # fully-connected layer\n",
    "        self.fc = torch.nn.Linear(in_features = K,out_features = Q2*7*7)\n",
    "        # convolutional layers\n",
    "        self.deconv1 = torch.nn.ConvTranspose2d(in_channels=Q2,out_channels = Q1,kernel_size=5,stride=2,padding=2,output_padding=1)\n",
    "        self.deconv2 = torch.nn.ConvTranspose2d(in_channels=Q1,out_channels = 1,kernel_size=5,stride=2,padding=2,output_padding=1)\n",
    "        # activation function\n",
    "        self.act = torch.nn.ReLU()\n",
    "\n",
    "    def forward(self, x):\n",
    "        # reconstruct the output image\n",
    "        z1 = self.fc(x)\n",
    "        a1 = self.act(z1)\n",
    "        channels = a1.shape[1]//(7*7)\n",
    "        #print(a1.shape)\n",
    "        a1_reshaped = torch.reshape(a1,(a1.shape[0],channels,7,7))\n",
    "        #print(a1_reshaped.shape)\n",
    "        z2 = self.deconv1(a1_reshaped)\n",
    "        a2 = self.act(z2)\n",
    "        #print(a2.shape)\n",
    "        output = self.deconv2(a2)\n",
    "        #print(output.shape[2:])\n",
    "        return output"
   ]
  },
  {
   "cell_type": "markdown",
   "metadata": {
    "id": "q1LIBsPnBAXR"
   },
   "source": [
    "### Task 5: Joint Auto-Encoder Network\n",
    "\n",
    "Implement the auto-encoder network by combining the encoder and the decoder.\n",
    "In the `__init__` function, instantiate an encoder from Task 3 and a decoder from Task 4.\n",
    "In `forward`, pass the input through the encoder and the decoder: $\\mathbf Y = \\mathcal D(\\mathcal E(\\mathbf X))$"
   ]
  },
  {
   "cell_type": "code",
   "execution_count": 322,
   "metadata": {
    "id": "xjaPdugsOzoX"
   },
   "outputs": [],
   "source": [
    "class AutoEncoder(torch.nn.Module):\n",
    "    def __init__(self, Q1, Q2, K):\n",
    "        super(AutoEncoder,self).__init__()\n",
    "        self.encoder = Encoder(Q1,Q2,K)\n",
    "        self.decoder = Decoder(Q1,Q2,K)\n",
    "\n",
    "    def forward(self,x):\n",
    "        # encode input\n",
    "        deep_feature = self.encoder.forward(x)\n",
    "        # decode to output\n",
    "        reconstructed = self.decoder.forward(deep_feature)\n",
    "        return reconstructed"
   ]
  },
  {
   "cell_type": "markdown",
   "metadata": {
    "id": "Gc405D2xBDbm"
   },
   "source": [
    "### Test 2: Output Sizes\n",
    "\n",
    "The code below instantiates the auto-encoder network with $Q_1 = Q_2 = 32$ and $K=10$.\n",
    "Then the given input $\\mathbf X$ is provided to the (untrained) auto-encoder network.\n",
    "Use these codes to verify that the deep feature extracted by the encoder and the output from the decoder part both have the desired size. Also, verify that the output values are between 0 and 1.\n",
    "\n",
    "If the tests cannot be passed, please check the implementation in Task 3, 4, and 5."
   ]
  },
  {
   "cell_type": "code",
   "execution_count": 323,
   "metadata": {
    "id": "jGdY4_xI9ANT"
   },
   "outputs": [
    {
     "name": "stdout",
     "output_type": "stream",
     "text": [
      "cuda\n"
     ]
    }
   ],
   "source": [
    "# run on cuda device?\n",
    "\n",
    "device = torch.device(\"cuda\") if torch.cuda.is_available() == True else torch.device(\"cpu\")\n",
    "print(device)\n",
    "\n",
    "# create network\n",
    "network = AutoEncoder(32, 32, 10).to(device)\n",
    "\n",
    "# create or select a sample\n",
    "x = torch.randn((1,1,28,28))\n",
    "\n",
    "# use encoder to encode image and check its size\n",
    "deep_features = network.encoder(x.to(device))\n",
    "assert deep_features.shape[1] == 10\n",
    "\n",
    "# use decoder to generate an image and check its size and value range\n",
    "output = network.decoder(deep_features)\n",
    "assert output.shape[2:] == (28,28)\n",
    "assert torch.all(output >= 0) and torch.all(output <= 1)"
   ]
  },
  {
   "cell_type": "markdown",
   "metadata": {
    "id": "EyHtPO8tL5vI"
   },
   "source": [
    "## Training and Evaluation\n",
    "We will implement a training procedure for an auto-encoder network.\n",
    "\n",
    "To train the network, we will use the $L_2$ distance between the output and the input of the network as a loss function, which is implemented in `torch.nn.MSELoss`:\n",
    "\n",
    "  $$\\mathcal J^{L_2} (\\mathbf X, \\mathbf Y) = \\|\\mathbf X - \\mathbf Y\\|^2$$\n",
    "\n",
    "For optimization, we will make use of the `Adam` optimizer with a learning rate of $\\eta=0.001$.\n",
    "We will run the training for 10 epochs and compute training and validation set loss after each epoch.\n",
    "\n",
    "For evaluation, we will check whether some of the validation set samples are correctly reconstructed from the auto-encoder network by visualizing them in Task 9.\n",
    "\n",
    "In our defined anomaly detection validation set, there are 10000 regular samples and 2000 anomalous samples.\n",
    "In the case of evaluating the success rate of anomaly detection (Task 7 & 8), accuracy is not the best metric because it gives equal weights to two classes with unequal numbers of samples, while the actual distribution of the two classes is unbalanced.\n",
    "A system can achieve high accuracy by simply predicting the majority class for every instance, while completely ignoring the minority class.\n",
    "\n",
    "In such cases, we choose to use the true positive rate (TPR) and true negative rate (TNR), which measure the proportion of actual positive/negative cases that are correctly identified by the system.\n",
    "\n",
    "$$\\text{TPR} = \\frac{\\text{True Positives}}{\\text{True Positives+False Negatives}} = \\frac{\\text{True Positives}}{\\text{Positives}}$$\n",
    "\n",
    "$$\\text{TNR} = \\frac{\\text{True Negatives}}{\\text{True Negatives+False Positives}} = \\frac{\\text{True Negatives}}{\\text{Negatives}}$$\n"
   ]
  },
  {
   "cell_type": "markdown",
   "metadata": {
    "id": "Ph5oHS3jBL03"
   },
   "source": [
    "### Task 6: Training Loop\n",
    "\n",
    "Instantiate the auto-encoder network with $Q_1 = Q_2 = 32$ and $K=10$.\n",
    "\n",
    "To train the auto-encoder network, we will use the $L_2$ distance between the output and the input of the network as a loss function.\n",
    "This loss function is implemented in `torch.nn.MSELoss`.\n",
    "\n",
    "Since training an auto-encoder is tricky, we will make use of the Adam optimizer.\n",
    "Choose a learning rate of $\\eta=0.001$. Implement the training loop for 10 epochs.\n",
    "\n",
    "Compute the average training loss and validation loss and print them at the end of each epoch. Note: If the training and validation loss does not decrease during training, try to reduce the learning rate (to $\\eta=0.0005$ or even lower) and re-start the training (remember to re-initialize the network, too).\n",
    "\n"
   ]
  },
  {
   "cell_type": "code",
   "execution_count": 324,
   "metadata": {
    "id": "TxaFzi4sZMaE"
   },
   "outputs": [
    {
     "name": "stdout",
     "output_type": "stream",
     "text": [
      "cuda\n"
     ]
    },
    {
     "name": "stderr",
     "output_type": "stream",
     "text": [
      "  2%|█▋                                                                                 | 1/50 [00:05<04:14,  5.20s/it]"
     ]
    },
    {
     "name": "stdout",
     "output_type": "stream",
     "text": [
      "\r",
      "Epoch 1; train: 88.53798, val: 24.33781\n"
     ]
    },
    {
     "name": "stderr",
     "output_type": "stream",
     "text": [
      "\r",
      "  4%|███▎                                                                               | 2/50 [00:10<03:58,  4.98s/it]"
     ]
    },
    {
     "name": "stdout",
     "output_type": "stream",
     "text": [
      "\r",
      "Epoch 2; train: 74.21989, val: 22.93399\n"
     ]
    },
    {
     "name": "stderr",
     "output_type": "stream",
     "text": [
      "\r",
      "  6%|████▉                                                                              | 3/50 [00:14<03:52,  4.94s/it]"
     ]
    },
    {
     "name": "stdout",
     "output_type": "stream",
     "text": [
      "\r",
      "Epoch 3; train: 71.02986, val: 22.16628\n"
     ]
    },
    {
     "name": "stderr",
     "output_type": "stream",
     "text": [
      "\r",
      "  8%|██████▋                                                                            | 4/50 [00:19<03:47,  4.95s/it]"
     ]
    },
    {
     "name": "stdout",
     "output_type": "stream",
     "text": [
      "\r",
      "Epoch 4; train: 69.23222, val: 21.74028\n"
     ]
    },
    {
     "name": "stderr",
     "output_type": "stream",
     "text": [
      "\r",
      " 10%|████████▎                                                                          | 5/50 [00:24<03:41,  4.92s/it]"
     ]
    },
    {
     "name": "stdout",
     "output_type": "stream",
     "text": [
      "\r",
      "Epoch 5; train: 68.01540, val: 21.59921\n"
     ]
    },
    {
     "name": "stderr",
     "output_type": "stream",
     "text": [
      "\r",
      " 12%|█████████▉                                                                         | 6/50 [00:30<03:41,  5.03s/it]"
     ]
    },
    {
     "name": "stdout",
     "output_type": "stream",
     "text": [
      "\r",
      "Epoch 6; train: 67.09992, val: 21.33221\n"
     ]
    },
    {
     "name": "stderr",
     "output_type": "stream",
     "text": [
      "\r",
      " 14%|███████████▌                                                                       | 7/50 [00:35<03:43,  5.19s/it]"
     ]
    },
    {
     "name": "stdout",
     "output_type": "stream",
     "text": [
      "\r",
      "Epoch 7; train: 66.40649, val: 21.07124\n"
     ]
    },
    {
     "name": "stderr",
     "output_type": "stream",
     "text": [
      "\r",
      " 16%|█████████████▎                                                                     | 8/50 [00:40<03:34,  5.12s/it]"
     ]
    },
    {
     "name": "stdout",
     "output_type": "stream",
     "text": [
      "\r",
      "Epoch 8; train: 65.81210, val: 20.91701\n"
     ]
    },
    {
     "name": "stderr",
     "output_type": "stream",
     "text": [
      "\r",
      " 18%|██████████████▉                                                                    | 9/50 [00:45<03:32,  5.18s/it]"
     ]
    },
    {
     "name": "stdout",
     "output_type": "stream",
     "text": [
      "\r",
      "Epoch 9; train: 65.37231, val: 20.82280\n"
     ]
    },
    {
     "name": "stderr",
     "output_type": "stream",
     "text": [
      "\r",
      " 20%|████████████████▍                                                                 | 10/50 [00:51<03:29,  5.24s/it]"
     ]
    },
    {
     "name": "stdout",
     "output_type": "stream",
     "text": [
      "\r",
      "Epoch 10; train: 64.92632, val: 20.86925\n"
     ]
    },
    {
     "name": "stderr",
     "output_type": "stream",
     "text": [
      "\r",
      " 22%|██████████████████                                                                | 11/50 [00:56<03:21,  5.16s/it]"
     ]
    },
    {
     "name": "stdout",
     "output_type": "stream",
     "text": [
      "\r",
      "Epoch 11; train: 64.57377, val: 20.59725\n"
     ]
    },
    {
     "name": "stderr",
     "output_type": "stream",
     "text": [
      "\r",
      " 24%|███████████████████▋                                                              | 12/50 [01:01<03:16,  5.18s/it]"
     ]
    },
    {
     "name": "stdout",
     "output_type": "stream",
     "text": [
      "\r",
      "Epoch 12; train: 64.25026, val: 20.68809\n"
     ]
    },
    {
     "name": "stderr",
     "output_type": "stream",
     "text": [
      "\r",
      " 26%|█████████████████████▎                                                            | 13/50 [01:06<03:10,  5.15s/it]"
     ]
    },
    {
     "name": "stdout",
     "output_type": "stream",
     "text": [
      "\r",
      "Epoch 13; train: 63.97055, val: 20.50096\n"
     ]
    },
    {
     "name": "stderr",
     "output_type": "stream",
     "text": [
      "\r",
      " 28%|██████████████████████▉                                                           | 14/50 [01:11<03:03,  5.09s/it]"
     ]
    },
    {
     "name": "stdout",
     "output_type": "stream",
     "text": [
      "\r",
      "Epoch 14; train: 63.72544, val: 20.47687\n"
     ]
    },
    {
     "name": "stderr",
     "output_type": "stream",
     "text": [
      "\r",
      " 30%|████████████████████████▌                                                         | 15/50 [01:16<02:56,  5.05s/it]"
     ]
    },
    {
     "name": "stdout",
     "output_type": "stream",
     "text": [
      "\r",
      "Epoch 15; train: 63.50206, val: 20.38352\n"
     ]
    },
    {
     "name": "stderr",
     "output_type": "stream",
     "text": [
      "\r",
      " 32%|██████████████████████████▏                                                       | 16/50 [01:21<02:51,  5.04s/it]"
     ]
    },
    {
     "name": "stdout",
     "output_type": "stream",
     "text": [
      "\r",
      "Epoch 16; train: 63.30600, val: 20.42709\n"
     ]
    },
    {
     "name": "stderr",
     "output_type": "stream",
     "text": [
      "\r",
      " 34%|███████████████████████████▉                                                      | 17/50 [01:26<02:44,  4.99s/it]"
     ]
    },
    {
     "name": "stdout",
     "output_type": "stream",
     "text": [
      "\r",
      "Epoch 17; train: 63.09852, val: 20.47724\n"
     ]
    },
    {
     "name": "stderr",
     "output_type": "stream",
     "text": [
      "\r",
      " 36%|█████████████████████████████▌                                                    | 18/50 [01:31<02:41,  5.04s/it]"
     ]
    },
    {
     "name": "stdout",
     "output_type": "stream",
     "text": [
      "\r",
      "Epoch 18; train: 62.92987, val: 20.24897\n"
     ]
    },
    {
     "name": "stderr",
     "output_type": "stream",
     "text": [
      "\r",
      " 38%|███████████████████████████████▏                                                  | 19/50 [01:36<02:38,  5.10s/it]"
     ]
    },
    {
     "name": "stdout",
     "output_type": "stream",
     "text": [
      "\r",
      "Epoch 19; train: 62.72713, val: 20.16417\n"
     ]
    },
    {
     "name": "stderr",
     "output_type": "stream",
     "text": [
      "\r",
      " 40%|████████████████████████████████▊                                                 | 20/50 [01:41<02:33,  5.10s/it]"
     ]
    },
    {
     "name": "stdout",
     "output_type": "stream",
     "text": [
      "\r",
      "Epoch 20; train: 61.71233, val: 19.31616\n"
     ]
    },
    {
     "name": "stderr",
     "output_type": "stream",
     "text": [
      "\r",
      " 42%|██████████████████████████████████▍                                               | 21/50 [01:46<02:27,  5.10s/it]"
     ]
    },
    {
     "name": "stdout",
     "output_type": "stream",
     "text": [
      "\r",
      "Epoch 21; train: 59.24031, val: 18.90073\n"
     ]
    },
    {
     "name": "stderr",
     "output_type": "stream",
     "text": [
      "\r",
      " 44%|████████████████████████████████████                                              | 22/50 [01:51<02:22,  5.07s/it]"
     ]
    },
    {
     "name": "stdout",
     "output_type": "stream",
     "text": [
      "\r",
      "Epoch 22; train: 58.47984, val: 18.73911\n"
     ]
    },
    {
     "name": "stderr",
     "output_type": "stream",
     "text": [
      "\r",
      " 46%|█████████████████████████████████████▋                                            | 23/50 [01:56<02:16,  5.04s/it]"
     ]
    },
    {
     "name": "stdout",
     "output_type": "stream",
     "text": [
      "\r",
      "Epoch 23; train: 57.95751, val: 18.53272\n"
     ]
    },
    {
     "name": "stderr",
     "output_type": "stream",
     "text": [
      "\r",
      " 48%|███████████████████████████████████████▎                                          | 24/50 [02:02<02:12,  5.08s/it]"
     ]
    },
    {
     "name": "stdout",
     "output_type": "stream",
     "text": [
      "\r",
      "Epoch 24; train: 57.49523, val: 18.48983\n"
     ]
    },
    {
     "name": "stderr",
     "output_type": "stream",
     "text": [
      "\r",
      " 50%|█████████████████████████████████████████                                         | 25/50 [02:07<02:06,  5.06s/it]"
     ]
    },
    {
     "name": "stdout",
     "output_type": "stream",
     "text": [
      "\r",
      "Epoch 25; train: 57.14699, val: 18.36627\n"
     ]
    },
    {
     "name": "stderr",
     "output_type": "stream",
     "text": [
      "\r",
      " 52%|██████████████████████████████████████████▋                                       | 26/50 [02:11<02:00,  5.01s/it]"
     ]
    },
    {
     "name": "stdout",
     "output_type": "stream",
     "text": [
      "\r",
      "Epoch 26; train: 56.81247, val: 18.22791\n"
     ]
    },
    {
     "name": "stderr",
     "output_type": "stream",
     "text": [
      "\r",
      " 54%|████████████████████████████████████████████▎                                     | 27/50 [02:16<01:54,  4.98s/it]"
     ]
    },
    {
     "name": "stdout",
     "output_type": "stream",
     "text": [
      "\r",
      "Epoch 27; train: 56.51931, val: 18.15499\n"
     ]
    },
    {
     "name": "stderr",
     "output_type": "stream",
     "text": [
      "\r",
      " 56%|█████████████████████████████████████████████▉                                    | 28/50 [02:21<01:49,  4.98s/it]"
     ]
    },
    {
     "name": "stdout",
     "output_type": "stream",
     "text": [
      "\r",
      "Epoch 28; train: 56.23613, val: 18.10835\n"
     ]
    },
    {
     "name": "stderr",
     "output_type": "stream",
     "text": [
      "\r",
      " 58%|███████████████████████████████████████████████▌                                  | 29/50 [02:26<01:44,  4.96s/it]"
     ]
    },
    {
     "name": "stdout",
     "output_type": "stream",
     "text": [
      "\r",
      "Epoch 29; train: 55.96788, val: 17.98775\n"
     ]
    },
    {
     "name": "stderr",
     "output_type": "stream",
     "text": [
      "\r",
      " 60%|█████████████████████████████████████████████████▏                                | 30/50 [02:31<01:38,  4.94s/it]"
     ]
    },
    {
     "name": "stdout",
     "output_type": "stream",
     "text": [
      "\r",
      "Epoch 30; train: 55.78857, val: 17.89396\n"
     ]
    },
    {
     "name": "stderr",
     "output_type": "stream",
     "text": [
      "\r",
      " 62%|██████████████████████████████████████████████████▊                               | 31/50 [02:36<01:34,  5.00s/it]"
     ]
    },
    {
     "name": "stdout",
     "output_type": "stream",
     "text": [
      "\r",
      "Epoch 31; train: 55.56150, val: 17.99389\n"
     ]
    },
    {
     "name": "stderr",
     "output_type": "stream",
     "text": [
      "\r",
      " 64%|████████████████████████████████████████████████████▍                             | 32/50 [02:41<01:30,  5.03s/it]"
     ]
    },
    {
     "name": "stdout",
     "output_type": "stream",
     "text": [
      "\r",
      "Epoch 32; train: 55.34651, val: 17.92138\n"
     ]
    },
    {
     "name": "stderr",
     "output_type": "stream",
     "text": [
      "\r",
      " 66%|██████████████████████████████████████████████████████                            | 33/50 [02:46<01:24,  4.98s/it]"
     ]
    },
    {
     "name": "stdout",
     "output_type": "stream",
     "text": [
      "\r",
      "Epoch 33; train: 55.17403, val: 17.84707\n"
     ]
    },
    {
     "name": "stderr",
     "output_type": "stream",
     "text": [
      "\r",
      " 68%|███████████████████████████████████████████████████████▊                          | 34/50 [02:51<01:19,  4.99s/it]"
     ]
    },
    {
     "name": "stdout",
     "output_type": "stream",
     "text": [
      "\r",
      "Epoch 34; train: 54.99051, val: 17.81612\n"
     ]
    },
    {
     "name": "stderr",
     "output_type": "stream",
     "text": [
      "\r",
      " 70%|█████████████████████████████████████████████████████████▍                        | 35/50 [02:56<01:14,  4.97s/it]"
     ]
    },
    {
     "name": "stdout",
     "output_type": "stream",
     "text": [
      "\r",
      "Epoch 35; train: 54.85996, val: 17.75973\n"
     ]
    },
    {
     "name": "stderr",
     "output_type": "stream",
     "text": [
      "\r",
      " 72%|███████████████████████████████████████████████████████████                       | 36/50 [03:01<01:09,  4.97s/it]"
     ]
    },
    {
     "name": "stdout",
     "output_type": "stream",
     "text": [
      "\r",
      "Epoch 36; train: 54.69585, val: 17.65404\n"
     ]
    },
    {
     "name": "stderr",
     "output_type": "stream",
     "text": [
      "\r",
      " 74%|████████████████████████████████████████████████████████████▋                     | 37/50 [03:06<01:05,  5.05s/it]"
     ]
    },
    {
     "name": "stdout",
     "output_type": "stream",
     "text": [
      "\r",
      "Epoch 37; train: 54.57139, val: 17.65810\n"
     ]
    },
    {
     "name": "stderr",
     "output_type": "stream",
     "text": [
      "\r",
      " 76%|██████████████████████████████████████████████████████████████▎                   | 38/50 [03:12<01:01,  5.13s/it]"
     ]
    },
    {
     "name": "stdout",
     "output_type": "stream",
     "text": [
      "\r",
      "Epoch 38; train: 54.42620, val: 17.62251\n"
     ]
    },
    {
     "name": "stderr",
     "output_type": "stream",
     "text": [
      "\r",
      " 78%|███████████████████████████████████████████████████████████████▉                  | 39/50 [03:17<00:56,  5.18s/it]"
     ]
    },
    {
     "name": "stdout",
     "output_type": "stream",
     "text": [
      "\r",
      "Epoch 39; train: 54.27773, val: 17.51647\n"
     ]
    },
    {
     "name": "stderr",
     "output_type": "stream",
     "text": [
      "\r",
      " 80%|█████████████████████████████████████████████████████████████████▌                | 40/50 [03:22<00:52,  5.26s/it]"
     ]
    },
    {
     "name": "stdout",
     "output_type": "stream",
     "text": [
      "\r",
      "Epoch 40; train: 54.17299, val: 17.50120\n"
     ]
    },
    {
     "name": "stderr",
     "output_type": "stream",
     "text": [
      "\r",
      " 82%|███████████████████████████████████████████████████████████████████▏              | 41/50 [03:28<00:47,  5.24s/it]"
     ]
    },
    {
     "name": "stdout",
     "output_type": "stream",
     "text": [
      "\r",
      "Epoch 41; train: 54.03548, val: 17.44406\n"
     ]
    },
    {
     "name": "stderr",
     "output_type": "stream",
     "text": [
      "\r",
      " 84%|████████████████████████████████████████████████████████████████████▉             | 42/50 [03:33<00:41,  5.16s/it]"
     ]
    },
    {
     "name": "stdout",
     "output_type": "stream",
     "text": [
      "\r",
      "Epoch 42; train: 53.93002, val: 17.59065\n"
     ]
    },
    {
     "name": "stderr",
     "output_type": "stream",
     "text": [
      "\r",
      " 86%|██████████████████████████████████████████████████████████████████████▌           | 43/50 [03:38<00:36,  5.15s/it]"
     ]
    },
    {
     "name": "stdout",
     "output_type": "stream",
     "text": [
      "\r",
      "Epoch 43; train: 53.82212, val: 17.55384\n"
     ]
    },
    {
     "name": "stderr",
     "output_type": "stream",
     "text": [
      "\r",
      " 88%|████████████████████████████████████████████████████████████████████████▏         | 44/50 [03:43<00:30,  5.15s/it]"
     ]
    },
    {
     "name": "stdout",
     "output_type": "stream",
     "text": [
      "\r",
      "Epoch 44; train: 53.72537, val: 17.36643\n"
     ]
    },
    {
     "name": "stderr",
     "output_type": "stream",
     "text": [
      "\r",
      " 90%|█████████████████████████████████████████████████████████████████████████▊        | 45/50 [03:48<00:25,  5.20s/it]"
     ]
    },
    {
     "name": "stdout",
     "output_type": "stream",
     "text": [
      "\r",
      "Epoch 45; train: 53.60331, val: 17.36188\n"
     ]
    },
    {
     "name": "stderr",
     "output_type": "stream",
     "text": [
      "\r",
      " 92%|███████████████████████████████████████████████████████████████████████████▍      | 46/50 [03:53<00:20,  5.22s/it]"
     ]
    },
    {
     "name": "stdout",
     "output_type": "stream",
     "text": [
      "\r",
      "Epoch 46; train: 53.50824, val: 17.33817\n"
     ]
    },
    {
     "name": "stderr",
     "output_type": "stream",
     "text": [
      "\r",
      " 94%|█████████████████████████████████████████████████████████████████████████████     | 47/50 [03:59<00:15,  5.23s/it]"
     ]
    },
    {
     "name": "stdout",
     "output_type": "stream",
     "text": [
      "\r",
      "Epoch 47; train: 53.42259, val: 17.38036\n"
     ]
    },
    {
     "name": "stderr",
     "output_type": "stream",
     "text": [
      "\r",
      " 96%|██████████████████████████████████████████████████████████████████████████████▋   | 48/50 [04:04<00:10,  5.23s/it]"
     ]
    },
    {
     "name": "stdout",
     "output_type": "stream",
     "text": [
      "\r",
      "Epoch 48; train: 53.35120, val: 17.30971\n"
     ]
    },
    {
     "name": "stderr",
     "output_type": "stream",
     "text": [
      "\r",
      " 98%|████████████████████████████████████████████████████████████████████████████████▎ | 49/50 [04:10<00:05,  5.41s/it]"
     ]
    },
    {
     "name": "stdout",
     "output_type": "stream",
     "text": [
      "\r",
      "Epoch 49; train: 53.25434, val: 17.25563\n"
     ]
    },
    {
     "name": "stderr",
     "output_type": "stream",
     "text": [
      "100%|██████████████████████████████████████████████████████████████████████████████████| 50/50 [04:15<00:00,  5.11s/it]"
     ]
    },
    {
     "name": "stdout",
     "output_type": "stream",
     "text": [
      "\r",
      "Epoch 50; train: 53.16264, val: 17.29695\n"
     ]
    },
    {
     "name": "stderr",
     "output_type": "stream",
     "text": [
      "\n"
     ]
    }
   ],
   "source": [
    "from tqdm import tqdm\n",
    "\n",
    "\n",
    "ETA = 0.0005\n",
    "EPOCHS = 50\n",
    "\n",
    "# set device if available\n",
    "device = torch.device(\"cuda\") if torch.cuda.is_available() == True else torch.device(\"cpu\")\n",
    "print(device)\n",
    "\n",
    "# create network\n",
    "network = AutoEncoder(Q1=32,Q2=32,K=10)\n",
    "network.to(device)\n",
    "\n",
    "# define optimizer\n",
    "optimizer = torch.optim.Adam(params=network.parameters(),lr=ETA)\n",
    "\n",
    "# define loss function\n",
    "loss = torch.nn.MSELoss()\n",
    "\n",
    "for epoch in tqdm(range(EPOCHS)):\n",
    "    # evaluate average loss for training and validation set per epoch\n",
    "    train_loss = validation_loss = 0.\n",
    "\n",
    "    for x,_,_ in train_loader:\n",
    "\n",
    "        # compute netwok output\n",
    "        optimizer.zero_grad()\n",
    "        x = (x/1).to(device)\n",
    "        y = network(x)\n",
    "        # compute loss between output and input\n",
    "        J = loss(y,x)\n",
    "\n",
    "        # perform update\n",
    "        J.backward()\n",
    "        optimizer.step()\n",
    "\n",
    "        # accumulate loss\n",
    "        train_loss += J\n",
    "\n",
    "\n",
    "    # compute validation loss\n",
    "    with torch.no_grad():\n",
    "        for x,t,_ in val_loader:\n",
    "            x = (x/1).to(device)\n",
    "            # compute network output\n",
    "            y = network(x)\n",
    "            # compute loss\n",
    "            J = loss(x,y)\n",
    "            # accumulate loss\n",
    "            validation_loss += J\n",
    "\n",
    "\n",
    "    # print average loss for training and validation\n",
    "    print(f\"\\rEpoch {epoch+1}; train: {train_loss/len(train_dataset):1.5f}, val: {validation_loss/len(val_dataset):1.5f}\")"
   ]
  },
  {
   "cell_type": "markdown",
   "metadata": {
    "id": "AXFrw0vjNYjs"
   },
   "source": [
    "### Task 7: True Positive/Negative Rate Calculation\n",
    "\n",
    "Define a function that takes the predictions and binary ground-truth values (the data type from Task 1) as lists, and returns TPR and TNR.\n",
    "\n",
    "You can use `sklearn.metrics.confusion_matrix` (https://scikit-learn.org/stable/modules/generated/sklearn.metrics.confusion_matrix.html) to compute true positives, true negatives, false positives, and false negatives, or compute them by their definitions."
   ]
  },
  {
   "cell_type": "code",
   "execution_count": 286,
   "metadata": {
    "id": "LfKZRU5-N-K5"
   },
   "outputs": [],
   "source": [
    "import numpy as np\n",
    "from sklearn.metrics import confusion_matrix\n",
    "\n",
    "def compute_tpr_tnr(predictions, truth):\n",
    "    # convert list into numpy arrary\n",
    "    predictions = np.array(predictions)\n",
    "    truth = np.array(truth)\n",
    "    # Compute the confusion matrix or tp, tn, fp, fn\n",
    "    cf_mat = confusion_matrix(y_true = truth, y_pred = predictions)\n",
    "    # Compute TPR and TNR\n",
    "   \n",
    "    tn, fp, fn, tp = cf_mat.ravel()\n",
    "    tpr = tp/(tp+fn)\n",
    "    tnr = tn/(tn+fp)\n",
    "    return tpr, tnr"
   ]
  },
  {
   "cell_type": "markdown",
   "metadata": {
    "id": "oYQTLLvjOCJF"
   },
   "source": [
    "### Test 3: TPR & TNR Calculation Check\n",
    "\n",
    "With the given truth values and predictions, call the function defined in Task 7 and check the returned TPR and TNR are correct."
   ]
  },
  {
   "cell_type": "code",
   "execution_count": 287,
   "metadata": {
    "id": "N_JYYlV6IMkt"
   },
   "outputs": [],
   "source": [
    "truth = [1, 1, 1, 1, 1, 1, -1, 1, 1, -1, -1, 1, 1, -1, 1, -1, 1, 1, 1, 1]\n",
    "predictions = [1, -1, 1, 1, 1, 1, -1, 1, 1, -1, 1, 1, 1, -1, 1, -1, 1, 1, 1, 1]\n",
    "\n",
    "tpr, tnr = compute_tpr_tnr(predictions, truth)\n",
    "\n",
    "assert(abs(tpr - 14/15) < 1e-8)\n",
    "assert(abs(tnr - 0.8) < 1e-8)\n"
   ]
  },
  {
   "cell_type": "markdown",
   "metadata": {
    "id": "XJBd6La0DllW"
   },
   "source": [
    "### Task 8: Anomaly Evaluation\n",
    "\n",
    "In this task, forward the data from the anomaly detection loader into the trained network, compute sample-wise loss (https://pytorch.org/docs/stable/generated/torch.nn.MSELoss.html), and assign -1 to samples with loss > 0.04, and 1 to samples with loss < 0.04.\n",
    "\n",
    "Forward the re-assigned loss as predictions into the function defined in Task 7 to compute TPR and TNR. Compute the regular accuracy as well to make a comparison."
   ]
  },
  {
   "cell_type": "code",
   "execution_count": 306,
   "metadata": {
    "id": "VhJjWfUG_zPs"
   },
   "outputs": [
    {
     "name": "stdout",
     "output_type": "stream",
     "text": [
      "True Positive Rate: 0.2891\n",
      "True Negative Rate: 0.0145\n",
      "Accuracy: 0.24333333333333335\n"
     ]
    }
   ],
   "source": [
    "# instantiate loss function with appropriate reduction\n",
    "loss = torch.nn.MSELoss(reduction=\"none\")\n",
    "\n",
    "correct = 0.\n",
    "predictions = []\n",
    "truth_values = []\n",
    "\n",
    "# compute tpr and tnr for the anomaly detection dataset\n",
    "with torch.no_grad():\n",
    "    for x, t, l in anomaly_detection_loader:\n",
    "        # forward input to the trained network\n",
    "        x = (x/1).to(device)\n",
    "        y = network(x)\n",
    "\n",
    "        # compute loss per input\n",
    "        J = loss(y,x)\n",
    "\n",
    "        # select the indexes at which loss is great then threshold 0.04 and replace its value by -1, and others by 1.\n",
    "        J_samplewise = torch.mean(J,dim=(1,2,3)).cpu().detach().numpy()\n",
    "        #print(J_samplewise)\n",
    "        j1 = []\n",
    "        j2 = []\n",
    "        for i,j in enumerate(J_samplewise):\n",
    "            if(l[i]==1):\n",
    "                j1.append(j)\n",
    "            else:\n",
    "                j2.append(j)\n",
    "        #print(j1,j2)\n",
    "        #print(\"J1:\",min(j1),max(j1),sum(j1)/len(j1))\n",
    "        #print(\"J2:\",min(j2),max(j2),sum(j2)/len(j2))\n",
    "\n",
    "        \n",
    "                \n",
    "            \n",
    "        prediction = [1 if j>1200 else -1 for j in J_samplewise]\n",
    "\n",
    "        # convert the prediction and l into list and add to list predictions and list truth_values\n",
    "        predictions += prediction\n",
    "        truth_values += l\n",
    "\n",
    "        # compute accuracy\n",
    "        correct += (np.array(prediction) == np.array(l)).sum()\n",
    "\n",
    "\n",
    "# print the accuracy\n",
    "acc = correct / len(predictions)\n",
    "\n",
    "# compute tpr and tnr with function defined in Task 7 and print tpr and tnr\n",
    "tpr, tnr = compute_tpr_tnr(predictions,truth_values)\n",
    "\n",
    "print(\"True Positive Rate:\", tpr)\n",
    "print(\"True Negative Rate:\", tnr)\n",
    "print(\"Accuracy:\", acc)"
   ]
  },
  {
   "cell_type": "markdown",
   "metadata": {
    "id": "jO5VTYaaBRx2"
   },
   "source": [
    "### Task 9: Reconstruction Result\n",
    "\n",
    "This task is to visualize the reconstructed images from their originals.\n",
    "For this purpose, load the first batch of the anomaly detection set. \n",
    "For both MNIST and FashionMNIST data, select one image for each label.\n",
    "\n",
    "Forward the images through the trained auto-encoder network to extract their reconstructions.\n",
    "\n",
    "Make a single plot with 4 rows and 10 columns. \n",
    "In the 1st/3rd row, plot the original MNIST/FashionMNIST samples, 2nd/4th row plot the corresponding reconstructed samples. \n",
    "See the reference plot in the slides."
   ]
  },
  {
   "cell_type": "code",
   "execution_count": 307,
   "metadata": {
    "id": "aJANkSFe-DsC"
   },
   "outputs": [
    {
     "data": {
      "image/png": "[encoded data removed]",
      "text/plain": [
       "<Figure size 1500x600 with 40 Axes>"
      ]
     },
     "metadata": {},
     "output_type": "display_data"
    }
   ],
   "source": [
    "# get the first anomaly detection set batch\n",
    "x, t, l = next(iter(anomaly_detection_loader))\n",
    "\n",
    "\n",
    "# select one image for each label\n",
    "\n",
    "num_labels = int(max(t))+1\n",
    "selected_mnist = [False for i in range(num_labels)]\n",
    "selected_fashion = [False for i in range(num_labels)]\n",
    "count_mnist=0\n",
    "count_fashion=0\n",
    "data_mnist = []\n",
    "data_fashion = []\n",
    "\n",
    "for idx,target in enumerate(t):\n",
    "    if(l[idx]==1):\n",
    "        if(selected_mnist[target]==False):\n",
    "            #print(target)\n",
    "            selected_mnist[target]=True\n",
    "            data_mnist.append(x[idx])\n",
    "            count_mnist+=1\n",
    "        if(count_mnist==num_labels and count_fashion==num_labels):\n",
    "            break\n",
    "    else:\n",
    "        if(selected_fashion[target]==False):\n",
    "            #print(target)\n",
    "            selected_fashion[target]=True\n",
    "            data_fashion.append(x[idx])\n",
    "            count_fashion+=1\n",
    "        if(count_mnist==num_labels and count_fashion==num_labels):\n",
    "            break\n",
    "            \n",
    "\n",
    "\n",
    "# If required, convert the list of select images into a tensor through torch.stack\n",
    "original_mnist = torch.stack(data_mnist)/1\n",
    "original_fashionmnist = torch.stack(data_fashion)/1\n",
    "\n",
    "# Generate reconstructed samples\n",
    "original_mnist_gpu = original_mnist.to(device)\n",
    "original_mnist = original_mnist.numpy()\n",
    "generated_mnist = network(original_mnist_gpu).cpu().detach().numpy()\n",
    "\n",
    "original_fashionmnist_gpu = original_fashionmnist.to(device)\n",
    "original_fashionmnist = original_fashionmnist.numpy()\n",
    "generated_fashionmnist = network(original_fashionmnist_gpu).cpu().detach().numpy()\n",
    "\n",
    "samples = [original_mnist, generated_mnist, original_fashionmnist, generated_fashionmnist]\n",
    "\n",
    "# plot images\n",
    "pyplot.rcParams['image.cmap'] = 'gray'\n",
    "\n",
    "fig, axes = pyplot.subplots(nrows=4, ncols=10, figsize=(15, 6))\n",
    "\n",
    "for i in range(4):\n",
    "    for j in range(10):\n",
    "        axes[i][j].imshow(samples[i][j][0])\n",
    "        axes[i][j].axis(\"off\")"
   ]
  },
  {
   "cell_type": "code",
   "execution_count": null,
   "metadata": {},
   "outputs": [],
   "source": []
  }
 ],
 "metadata": {
  "accelerator": "GPU",
  "colab": {
   "gpuType": "T4",
   "provenance": []
  },
  "kernelspec": {
   "display_name": "Python 3 (ipykernel)",
   "language": "python",
   "name": "python3"
  },
  "language_info": {
   "codemirror_mode": {
    "name": "ipython",
    "version": 3
   },
   "file_extension": ".py",
   "mimetype": "text/x-python",
   "name": "python",
   "nbconvert_exporter": "python",
   "pygments_lexer": "ipython3",
   "version": "3.11.5"
  }
 },
 "nbformat": 4,
 "nbformat_minor": 1
}

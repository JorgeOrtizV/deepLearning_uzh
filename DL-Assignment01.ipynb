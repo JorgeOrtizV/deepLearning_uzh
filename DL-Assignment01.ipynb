{
 "cells": [
  {
   "attachments": {},
   "cell_type": "markdown",
   "metadata": {},
   "source": [
    "### Group Members:\n",
    "\n",
    "- Shantam Raj, 21-743-034\n",
    "- Varun, matriculation number\n",
    "- Name, matriculation number"
   ]
  },
  {
   "cell_type": "markdown",
   "metadata": {},
   "source": [
    "# Assignment 1: Perceptron Learning\n",
    "\n",
    "The goal of this exercise is to apply the perceptron learning to a total of $N=100$ automatically generated, separable random data $X=\\bigl\\{\\vec x^1, \\vec x^2,\\ldots,\\vec x^ N \\bigr\\}$ with each $\\vec x^n = \\bigl(x_1^n, x_2^n\\bigr)^T$.\n",
    "Each data point $\\vec x^n$ is accompanied by an according target value $X=\\bigl\\{t^1, t^2,\\ldots,t^ N\\bigr\\}$ with $t^n \\in \\{-1,+1\\}$.\n",
    "\n",
    "## Data Generation\n",
    "The data should be generated such that\n",
    "$\\forall n\\leq\\frac N2\\colon \\vec x^n \\sim \\mathcal N_{\\vec\\mu_+, \\sigma_+}$.\n",
    "These samples will be our positive data labeled with $t^n=1$.\n",
    "Similarly, we generate our negative data with\n",
    "$\\forall n>\\frac N2\\colon \\vec x^n \\sim \\mathcal N_{\\vec\\mu_-, \\sigma_-}$\n",
    "and label them as $t^n=-1$.\n",
    "\n",
    "### Task 1: Data Samples\n",
    "\n",
    "Given the number of samples and the means (mu) and standard deviations (sigma) of positive (pos) and negative (neg) data, generate and return data samples including their labels. Remember to add the bias neuron $x_0=1$ to each of the samples.\n",
    "\n",
    "Hints:\n",
    "1. Use `numpy` package to generate data.\n",
    "2. Exemplary means could be selected as: $\\vec\\mu_+=(-5,3)^T$ and $\\vec\\mu_- = (5, -3)^T$. The standard deviations $\\sigma_+$ and $\\sigma_-$ should be selected such that the data is most likely separable."
   ]
  },
  {
   "cell_type": "code",
   "execution_count": 117,
   "metadata": {},
   "outputs": [],
   "source": [
    "import numpy as np\n",
    "\n",
    "def dataset(number_of_samples, mu_pos, sigma_pos, mu_neg, sigma_neg):\n",
    "  N = int(number_of_samples/2)\n",
    "  # create positive and negative data\n",
    "  positive_data = np.random.normal(loc=mu_pos, scale=sigma_pos, size=[N, 2])\n",
    "  negative_data = np.random.normal(loc=mu_neg, scale=sigma_neg, size=[N, 2])\n",
    "  ones = np.ones((N,1))\n",
    "  positive_data = np.c_[ones, positive_data]\n",
    "  negative_data = np.c_[ones, negative_data]\n",
    "\n",
    "  # assign positive and negative labels\n",
    "  positive_labels = np.full(shape=N, fill_value=1)\n",
    "  negative_labels = np.full(shape=N, fill_value=-1)\n",
    "\n",
    "  # concatenate positive and negative data\n",
    "  all_data = np.concatenate((positive_data, negative_data), axis=0)\n",
    "  all_labels = np.concatenate((positive_labels, negative_labels))\n",
    "\n",
    "  # anything else to consider?\n",
    "  #...\n",
    "\n",
    "  # return both X and T\n",
    "  return all_data, all_labels\n",
    "all_data, all_labels = dataset(100, (-5,3), 0.5, (5,-3), 0.5)\n",
    "# print(all_data)\n",
    "# print(all_labels)"
   ]
  },
  {
   "cell_type": "code",
   "execution_count": 144,
   "metadata": {},
   "outputs": [
    {
     "data": {
      "image/png": "[encoded data removed]",
      "text/plain": [
       "<Figure size 640x480 with 1 Axes>"
      ]
     },
     "metadata": {},
     "output_type": "display_data"
    }
   ],
   "source": [
    "import numpy as np\n",
    "import matplotlib.pyplot as plt\n",
    "\n",
    "# Plot the data\n",
    "plt.scatter(all_data[:, 1], all_data[:, 2], c=all_labels, cmap='viridis', s=10, alpha=0.5)\n",
    "plt.xlabel('X')\n",
    "plt.ylabel('Y')\n",
    "plt.title('2D Numpy Normal Distribution')\n",
    "plt.show()\n"
   ]
  },
  {
   "attachments": {},
   "cell_type": "markdown",
   "metadata": {},
   "source": [
    "### Task 2: Select Data Parameters and Line Parameters\n",
    "\n",
    "We want to select data points such that we exactly know where the ideal separating line should be placed.\n",
    "Note that data samples are not always separable since they are generated randomly.\n",
    "You should determine, which means and standard deviations are useful.\n",
    "\n",
    "Once you have defined your means, you should also define the separating line.\n",
    "The easiest is to provide it as Cartesian equation: $w_0 + w_1 x_1 + w_2 x_2$.\n",
    "Note that the separating line is orthogonal to the vector $\\overrightarrow{\\vec\\mu_- \\vec\\mu_+}$, that the normal of the line $(w_1, w_2)^T$ is orthogonal to the line, and that $w_0$ should be selected such that the line $\\vec w$ is in the middle of $\\vec\\mu_+$ and $\\vec\\mu_-$."
   ]
  },
  {
   "cell_type": "code",
   "execution_count": 119,
   "metadata": {},
   "outputs": [],
   "source": [
    "X, T = dataset(100,(-5,3), 0.5, (5,-3), 0.5)\n",
    "\n",
    "w_manual = np.array([0, -1, -1])"
   ]
  },
  {
   "cell_type": "code",
   "execution_count": 120,
   "metadata": {},
   "outputs": [
    {
     "data": {
      "text/plain": [
       "array([ 0, -1, -1])"
      ]
     },
     "execution_count": 120,
     "metadata": {},
     "output_type": "execute_result"
    }
   ],
   "source": [
    "w_manual"
   ]
  },
  {
   "cell_type": "code",
   "execution_count": 121,
   "metadata": {},
   "outputs": [
    {
     "data": {
      "text/plain": [
       "array([[ 1.        , -4.78502246,  3.88794423],\n",
       "       [ 1.        , -4.77560509,  3.85475185],\n",
       "       [ 1.        , -4.76637436,  2.53979444],\n",
       "       [ 1.        , -5.51853547,  2.80134468],\n",
       "       [ 1.        , -4.08098525,  2.18509122],\n",
       "       [ 1.        , -5.05305177,  3.78197989],\n",
       "       [ 1.        , -5.56803881,  3.20216281],\n",
       "       [ 1.        , -4.39969974,  3.07674736],\n",
       "       [ 1.        , -5.09842151,  1.95202165],\n",
       "       [ 1.        , -5.4115308 ,  4.35605016],\n",
       "       [ 1.        , -5.74046977,  3.47792887],\n",
       "       [ 1.        , -4.71223776,  3.05106877],\n",
       "       [ 1.        , -3.96716189,  3.27086351],\n",
       "       [ 1.        , -5.2253283 ,  3.03617134],\n",
       "       [ 1.        , -5.0101349 ,  3.48811012],\n",
       "       [ 1.        , -5.17529777,  1.9532965 ],\n",
       "       [ 1.        , -5.08644075,  3.15465446],\n",
       "       [ 1.        , -4.40067274,  3.10580559],\n",
       "       [ 1.        , -6.07528673,  2.79397039],\n",
       "       [ 1.        , -4.59748015,  2.13375827],\n",
       "       [ 1.        , -5.48856491,  2.8552584 ],\n",
       "       [ 1.        , -5.07982876,  2.615623  ],\n",
       "       [ 1.        , -6.05935782,  2.73916361],\n",
       "       [ 1.        , -4.96539378,  2.72966342],\n",
       "       [ 1.        , -5.34086021,  2.2350031 ],\n",
       "       [ 1.        , -5.5856232 ,  2.19636858],\n",
       "       [ 1.        , -4.36290002,  2.91311939],\n",
       "       [ 1.        , -4.67631662,  2.77360439],\n",
       "       [ 1.        , -4.89551472,  3.78881442],\n",
       "       [ 1.        , -4.84919955,  3.22631828],\n",
       "       [ 1.        , -5.73035735,  3.29532636],\n",
       "       [ 1.        , -4.52369567,  2.60736365],\n",
       "       [ 1.        , -5.22270985,  3.51535664],\n",
       "       [ 1.        , -4.70093509,  3.65998591],\n",
       "       [ 1.        , -4.39024838,  3.50741365],\n",
       "       [ 1.        , -5.57757484,  3.60706965],\n",
       "       [ 1.        , -5.3918044 ,  2.4772945 ],\n",
       "       [ 1.        , -4.5235215 ,  2.72827633],\n",
       "       [ 1.        , -5.10284362,  3.48435611],\n",
       "       [ 1.        , -4.59042752,  3.00135293],\n",
       "       [ 1.        , -5.40923483,  3.03003816],\n",
       "       [ 1.        , -4.42999373,  2.88123595],\n",
       "       [ 1.        , -5.24667394,  3.40496277],\n",
       "       [ 1.        , -5.1034469 ,  2.42076621],\n",
       "       [ 1.        , -5.47079432,  2.74825418],\n",
       "       [ 1.        , -4.72604051,  3.50655659],\n",
       "       [ 1.        , -4.22919681,  2.65165859],\n",
       "       [ 1.        , -5.03707547,  3.00486682],\n",
       "       [ 1.        , -4.59289908,  2.76871791],\n",
       "       [ 1.        , -5.4542042 ,  3.19020764],\n",
       "       [ 1.        ,  5.23538852, -2.47391723],\n",
       "       [ 1.        ,  4.44766363, -2.57525757],\n",
       "       [ 1.        ,  4.54728748, -2.58401021],\n",
       "       [ 1.        ,  4.20974833, -2.29257148],\n",
       "       [ 1.        ,  5.30745581, -3.49893528],\n",
       "       [ 1.        ,  4.89073574, -2.71719954],\n",
       "       [ 1.        ,  4.78503077, -3.23191255],\n",
       "       [ 1.        ,  4.84747945, -3.3304358 ],\n",
       "       [ 1.        ,  4.851197  , -3.17761558],\n",
       "       [ 1.        ,  5.12015844, -3.11634733],\n",
       "       [ 1.        ,  5.84516362, -2.96194772],\n",
       "       [ 1.        ,  4.31707495, -2.36605261],\n",
       "       [ 1.        ,  5.68880003, -3.15895163],\n",
       "       [ 1.        ,  5.15037525, -3.14305435],\n",
       "       [ 1.        ,  4.7675601 , -2.37131913],\n",
       "       [ 1.        ,  4.00786632, -3.27508594],\n",
       "       [ 1.        ,  4.76012902, -3.61810038],\n",
       "       [ 1.        ,  4.15209611, -3.18127271],\n",
       "       [ 1.        ,  5.79979668, -3.10503659],\n",
       "       [ 1.        ,  5.52970105, -2.94974222],\n",
       "       [ 1.        ,  4.64548317, -3.18291011],\n",
       "       [ 1.        ,  4.93338592, -2.63842719],\n",
       "       [ 1.        ,  3.86583654, -2.73276261],\n",
       "       [ 1.        ,  4.9960968 , -2.16540086],\n",
       "       [ 1.        ,  5.0398399 , -3.65451796],\n",
       "       [ 1.        ,  5.29447081, -2.97530984],\n",
       "       [ 1.        ,  4.02934866, -3.73862337],\n",
       "       [ 1.        ,  4.46768009, -3.42373181],\n",
       "       [ 1.        ,  5.11329646, -2.69697699],\n",
       "       [ 1.        ,  4.86632506, -2.32992729],\n",
       "       [ 1.        ,  5.57854905, -2.5420042 ],\n",
       "       [ 1.        ,  4.62360447, -3.29328808],\n",
       "       [ 1.        ,  4.94268186, -3.65945581],\n",
       "       [ 1.        ,  5.18680872, -4.02248023],\n",
       "       [ 1.        ,  4.36011859, -2.51664822],\n",
       "       [ 1.        ,  4.56113053, -2.95311389],\n",
       "       [ 1.        ,  4.36485386, -2.68180113],\n",
       "       [ 1.        ,  5.16516182, -3.11439926],\n",
       "       [ 1.        ,  5.81188448, -2.57732916],\n",
       "       [ 1.        ,  4.18052238, -2.47791872],\n",
       "       [ 1.        ,  4.622454  , -2.36781074],\n",
       "       [ 1.        ,  5.57720164, -2.33839161],\n",
       "       [ 1.        ,  5.38657878, -2.21865452],\n",
       "       [ 1.        ,  5.37329969, -3.79227274],\n",
       "       [ 1.        ,  4.33247421, -3.55680375],\n",
       "       [ 1.        ,  5.01657424, -2.821471  ],\n",
       "       [ 1.        ,  4.44840281, -2.3783706 ],\n",
       "       [ 1.        ,  4.86579286, -3.26225396],\n",
       "       [ 1.        ,  5.90841796, -2.73815624],\n",
       "       [ 1.        ,  5.48819708, -2.7642296 ]])"
      ]
     },
     "execution_count": 121,
     "metadata": {},
     "output_type": "execute_result"
    }
   ],
   "source": [
    "X"
   ]
  },
  {
   "cell_type": "code",
   "execution_count": 122,
   "metadata": {},
   "outputs": [
    {
     "data": {
      "text/plain": [
       "array([0.89707823, 0.92085324, 2.22657992, 2.7171908 , 1.89589403,\n",
       "       1.27107188, 2.365876  , 1.32295239, 3.14639986, 1.05548064,\n",
       "       2.2625409 , 1.66116899, 0.69629838, 2.18915696, 1.52202478,\n",
       "       3.22200127, 1.93178629, 1.29486715, 3.28131633, 2.46372188,\n",
       "       2.63330651, 2.46420576, 3.32019421, 2.23573035, 3.10585711,\n",
       "       3.38925462, 1.44978064, 1.90271222, 1.1067003 , 1.62288126,\n",
       "       2.435031  , 1.91633202, 1.7073532 , 1.04094918, 0.88283473,\n",
       "       1.97050519, 2.91450991, 1.79524518, 1.61848751, 1.5890746 ,\n",
       "       2.37919667, 1.54875778, 1.84171118, 2.68268069, 2.72254013,\n",
       "       1.21948392, 1.57753822, 2.03220865, 1.82418117, 2.26399656,\n",
       "       2.76147129, 1.87240606, 1.96327726, 1.91717684, 1.80852054,\n",
       "       2.1735362 , 1.55311821, 1.51704366, 1.67358142, 2.00381111,\n",
       "       2.8832159 , 1.95102234, 2.5298484 , 2.00732091, 2.39624097,\n",
       "       0.73278038, 1.14202864, 0.9708234 , 2.69476009, 2.57995884,\n",
       "       1.46257306, 2.29495873, 1.13307394, 2.83069594, 1.38532194,\n",
       "       2.31916098, 0.29072529, 1.04394829, 2.41631947, 2.53639777,\n",
       "       3.03654485, 1.33031638, 1.28322605, 1.16432849, 1.84347037,\n",
       "       1.60801663, 1.68305273, 2.05076256, 3.23455531, 1.70260366,\n",
       "       2.25464326, 3.23881003, 3.16792426, 1.58102695, 0.77567046,\n",
       "       2.19510323, 2.07003222, 1.6035389 , 3.17026172, 2.72396749])"
      ]
     },
     "execution_count": 122,
     "metadata": {},
     "output_type": "execute_result"
    }
   ],
   "source": [
    "X.dot(w_manual)*T"
   ]
  },
  {
   "cell_type": "code",
   "execution_count": 123,
   "metadata": {},
   "outputs": [
    {
     "data": {
      "text/plain": [
       "array([ 1,  1,  1,  1,  1,  1,  1,  1,  1,  1,  1,  1,  1,  1,  1,  1,  1,\n",
       "        1,  1,  1,  1,  1,  1,  1,  1,  1,  1,  1,  1,  1,  1,  1,  1,  1,\n",
       "        1,  1,  1,  1,  1,  1,  1,  1,  1,  1,  1,  1,  1,  1,  1,  1, -1,\n",
       "       -1, -1, -1, -1, -1, -1, -1, -1, -1, -1, -1, -1, -1, -1, -1, -1, -1,\n",
       "       -1, -1, -1, -1, -1, -1, -1, -1, -1, -1, -1, -1, -1, -1, -1, -1, -1,\n",
       "       -1, -1, -1, -1, -1, -1, -1, -1, -1, -1, -1, -1, -1, -1, -1])"
      ]
     },
     "execution_count": 123,
     "metadata": {},
     "output_type": "execute_result"
    }
   ],
   "source": [
    "T"
   ]
  },
  {
   "cell_type": "code",
   "execution_count": null,
   "metadata": {},
   "outputs": [],
   "source": []
  },
  {
   "attachments": {},
   "cell_type": "markdown",
   "metadata": {},
   "source": [
    "### Test 1: Linear Separability Test\n",
    "\n",
    "A line $a = f_{\\vec w}(\\vec x) = w_0 + w_1 x_1 + w_2 x_2$ linearly separates the data $(X,T)$ if $\\forall n: a^{[n]} t^{[n]} > 0$ for $a^{[n]} = f_{\\vec w}(\\vec x^{[n]})$.\n",
    "The below function implements this linear separability test. We apply this test to your data $(X,T)$ from Task 1 and your manually selected line $\\vec w$ from Task 2 to assure that the line separates the data."
   ]
  },
  {
   "cell_type": "code",
   "execution_count": null,
   "metadata": {},
   "outputs": [],
   "source": []
  },
  {
   "cell_type": "code",
   "execution_count": 124,
   "metadata": {},
   "outputs": [
    {
     "name": "stdout",
     "output_type": "stream",
     "text": [
      "[0.89707823 0.92085324 2.22657992 2.7171908  1.89589403 1.27107188\n",
      " 2.365876   1.32295239 3.14639986 1.05548064 2.2625409  1.66116899\n",
      " 0.69629838 2.18915696 1.52202478 3.22200127 1.93178629 1.29486715\n",
      " 3.28131633 2.46372188 2.63330651 2.46420576 3.32019421 2.23573035\n",
      " 3.10585711 3.38925462 1.44978064 1.90271222 1.1067003  1.62288126\n",
      " 2.435031   1.91633202 1.7073532  1.04094918 0.88283473 1.97050519\n",
      " 2.91450991 1.79524518 1.61848751 1.5890746  2.37919667 1.54875778\n",
      " 1.84171118 2.68268069 2.72254013 1.21948392 1.57753822 2.03220865\n",
      " 1.82418117 2.26399656 2.76147129 1.87240606 1.96327726 1.91717684\n",
      " 1.80852054 2.1735362  1.55311821 1.51704366 1.67358142 2.00381111\n",
      " 2.8832159  1.95102234 2.5298484  2.00732091 2.39624097 0.73278038\n",
      " 1.14202864 0.9708234  2.69476009 2.57995884 1.46257306 2.29495873\n",
      " 1.13307394 2.83069594 1.38532194 2.31916098 0.29072529 1.04394829\n",
      " 2.41631947 2.53639777 3.03654485 1.33031638 1.28322605 1.16432849\n",
      " 1.84347037 1.60801663 1.68305273 2.05076256 3.23455531 1.70260366\n",
      " 2.25464326 3.23881003 3.16792426 1.58102695 0.77567046 2.19510323\n",
      " 2.07003222 1.6035389  3.17026172 2.72396749]\n",
      "The data is separated by the manually selected line\n"
     ]
    }
   ],
   "source": [
    "def separability_test(X, T, w):\n",
    "  print(np.dot(X,w) * T)\n",
    "  return np.all(np.dot(X,w) * T > 0)\n",
    "\n",
    "# Test 1: check that the weights are separating the data\n",
    "if separability_test(X, T, w_manual):\n",
    "  print(\"The data is separated by the manually selected line\")\n",
    "else:\n",
    "  print(\"The manually selected line does not separate the data\")"
   ]
  },
  {
   "attachments": {},
   "cell_type": "markdown",
   "metadata": {},
   "source": [
    "### Task 3: Perceptron\n",
    "\n",
    "The perceptron is defined as the Adaline $$a = f_{\\vec w}(\\vec x)$$ that is thresholded using the sign function $$\\mathrm{sign}(a) = \\begin{cases} +1 &\\text{if } a \\geq 0\\\\ -1 & \\text{otherwise.}\\end{cases}$$\n",
    "Implement a function that computes and returns the perceptron for a given data point $\\vec x$ and line parameters $\\vec w$."
   ]
  },
  {
   "cell_type": "code",
   "execution_count": 125,
   "metadata": {},
   "outputs": [],
   "source": [
    "def perceptron(x, w):\n",
    "  a = np.dot(x, w)\n",
    "  if a >= 0:\n",
    "    return 1\n",
    "  else:\n",
    "    return -1"
   ]
  },
  {
   "attachments": {},
   "cell_type": "markdown",
   "metadata": {},
   "source": [
    "## Perceptron Learning\n",
    "\n",
    "The perceptron learning rule is defined as follows.\n",
    "First, the weights $\\vec w = (w_0, w_1, w_2)^T$ are initialized randomly.\n",
    "Then, for each sample $(x,t)$ of the dataset we check if the sample is correctly classified as $H(f_{\\vec w}(\\vec x)) t > 0$.\n",
    "If the sample is classified incorrectly, the weights are adapted: $w_0 = w_0 + t$, $w_1 = w_1 + tx_1$, $w_2 = w_2 + tx_2$.\n",
    "This step is repeated until all samples are classified correctly.\n",
    "\n",
    "\n",
    "### Task 4: Perceptron Learning Implementation\n",
    "\n",
    "Implement a function that performs perceptron learning for a given dataset $(X,T)$ and a given initial weight vector $\\vec w$.\n",
    "The final weight vector $\\vec w^*$ shall be returned from that function.\n",
    "Define a proper stopping criterion for the iteration.\n",
    "Consider in your implementation error cases that could arise.\n"
   ]
  },
  {
   "cell_type": "code",
   "execution_count": 126,
   "metadata": {},
   "outputs": [],
   "source": [
    "def perceptron_learning(X, T, w):\n",
    "  # first, make a copy of your weights\n",
    "  w_star = np.copy(w)\n",
    "\n",
    "  # then, iterate over the data and perform perceptron learning\n",
    "  max_epoch = 10\n",
    "  epoch = 0\n",
    "  while not separability_test(X, T, w_star) and epoch < max_epoch:\n",
    "    for i in range(len(X)):\n",
    "      if perceptron(X[i], w_star)*T[i] < 0:\n",
    "        w_star = w_star + X*T\n",
    "    epoch += 1\n",
    "  # if data is already classified correctly, return w_star\n",
    "  # if data is misclassified, update w_star\n",
    "  # return when all data is classified correctly\n",
    "\n",
    "  # finally, return the optimal weights\n",
    "  return w_star"
   ]
  },
  {
   "attachments": {},
   "cell_type": "markdown",
   "metadata": {},
   "source": [
    "### Test 2: Sanity Check\n",
    "\n",
    "We call the perceptron learning function with the data from task 1 and the manual line from task 2. If the line separates the data, it should not be changed. Here we test if this is the actual outcome of the perceptron learning function."
   ]
  },
  {
   "cell_type": "code",
   "execution_count": 127,
   "metadata": {},
   "outputs": [
    {
     "name": "stdout",
     "output_type": "stream",
     "text": [
      "[0.89707823 0.92085324 2.22657992 2.7171908  1.89589403 1.27107188\n",
      " 2.365876   1.32295239 3.14639986 1.05548064 2.2625409  1.66116899\n",
      " 0.69629838 2.18915696 1.52202478 3.22200127 1.93178629 1.29486715\n",
      " 3.28131633 2.46372188 2.63330651 2.46420576 3.32019421 2.23573035\n",
      " 3.10585711 3.38925462 1.44978064 1.90271222 1.1067003  1.62288126\n",
      " 2.435031   1.91633202 1.7073532  1.04094918 0.88283473 1.97050519\n",
      " 2.91450991 1.79524518 1.61848751 1.5890746  2.37919667 1.54875778\n",
      " 1.84171118 2.68268069 2.72254013 1.21948392 1.57753822 2.03220865\n",
      " 1.82418117 2.26399656 2.76147129 1.87240606 1.96327726 1.91717684\n",
      " 1.80852054 2.1735362  1.55311821 1.51704366 1.67358142 2.00381111\n",
      " 2.8832159  1.95102234 2.5298484  2.00732091 2.39624097 0.73278038\n",
      " 1.14202864 0.9708234  2.69476009 2.57995884 1.46257306 2.29495873\n",
      " 1.13307394 2.83069594 1.38532194 2.31916098 0.29072529 1.04394829\n",
      " 2.41631947 2.53639777 3.03654485 1.33031638 1.28322605 1.16432849\n",
      " 1.84347037 1.60801663 1.68305273 2.05076256 3.23455531 1.70260366\n",
      " 2.25464326 3.23881003 3.16792426 1.58102695 0.77567046 2.19510323\n",
      " 2.07003222 1.6035389  3.17026172 2.72396749]\n",
      "As desired, perceptron learning does not optimize an already separating line\n"
     ]
    }
   ],
   "source": [
    "w_star = perceptron_learning(X, T, w_manual)\n",
    "\n",
    "# check if the output is as expected\n",
    "if np.any(w_manual != w_star):\n",
    "    print(\"Warning: the perceptron algorithm seems to be wrong\")\n",
    "else:\n",
    "    print(\"As desired, perceptron learning does not optimize an already separating line\")"
   ]
  },
  {
   "attachments": {},
   "cell_type": "markdown",
   "metadata": {},
   "source": [
    "### Task 5: Weight Initialization\n",
    "\n",
    "Implement a function that generates and returns randomly initialized weights $\\vec w \\in [-1,1]^3$."
   ]
  },
  {
   "cell_type": "code",
   "execution_count": 128,
   "metadata": {},
   "outputs": [],
   "source": [
    "def random_weights(lowest = -1, highest = 1):\n",
    "  return np.random.uniform(low=-1, high=1, size=(3,))"
   ]
  },
  {
   "attachments": {},
   "cell_type": "markdown",
   "metadata": {},
   "source": [
    "### Task 6: Perceptron Learning Execution\n",
    "\n",
    "Call the perceptron learning function with the data from task 1 and the randomly generated initial weight vector from task 5.\n",
    "Store the resulting weight vector $\\vec w^*$."
   ]
  },
  {
   "cell_type": "code",
   "execution_count": 129,
   "metadata": {},
   "outputs": [
    {
     "name": "stdout",
     "output_type": "stream",
     "text": [
      "[4.65360018 4.64482402 4.57930466 5.17420031 4.03205513 4.85674912\n",
      " 5.23037857 4.31878641 4.81071442 5.16022183 5.37633486 4.56001433\n",
      " 3.99197645 4.95724563 4.81042519 4.87038715 4.85479941 4.32083063\n",
      " 5.60562359 4.43030934 5.1533515  4.82574836 5.59083855 4.74206749\n",
      " 5.01128069 5.19937529 4.28298667 4.51984357 4.73488531 4.67400374\n",
      " 5.3603885  4.3941106  4.9764825  4.57827458 4.33057109 5.25574436\n",
      " 5.06154049 4.39934194 4.88215252 4.46334617 5.09958962 4.33360156\n",
      " 4.99016667 4.83541557 5.13482161 4.5909338  4.16769795 4.80986957\n",
      " 4.4549379  5.14157128 3.3994034  2.79303467 2.87067963 2.59598932\n",
      " 3.50078315 3.14292885 3.0838008  3.13660134 3.13270168 3.33855719\n",
      " 3.89393302 2.68248046 3.7814194  3.36317512 3.03205732 2.48303991\n",
      " 3.08162992 2.59072385 3.86510242 3.64875577 2.9734093  3.17250718\n",
      " 2.34882871 3.20014425 3.30015698 3.46747371 2.52027202 2.84621448\n",
      " 3.31462316 3.1068107  3.66854008 2.96134161 3.22503182 3.43045973\n",
      " 2.72254384 2.89779641 2.73354585 3.37337005 3.85105531 2.5815513\n",
      " 2.91937445 3.65845835 3.50531953 3.56486293 2.74727082 3.24514217\n",
      " 2.78486956 3.14777697 3.93305319 3.60833667]\n"
     ]
    }
   ],
   "source": [
    "# create random weights\n",
    "w_initial = random_weights()\n",
    "\n",
    "# perform perceptron learning\n",
    "w_star = perceptron_learning(X, T, w_initial)"
   ]
  },
  {
   "attachments": {},
   "cell_type": "markdown",
   "metadata": {},
   "source": [
    "### Test 3: Result Validation\n",
    "\n",
    "We verify that the optimized $\\vec w^*$ actually separates the data."
   ]
  },
  {
   "cell_type": "code",
   "execution_count": 130,
   "metadata": {},
   "outputs": [
    {
     "name": "stdout",
     "output_type": "stream",
     "text": [
      "[4.65360018 4.64482402 4.57930466 5.17420031 4.03205513 4.85674912\n",
      " 5.23037857 4.31878641 4.81071442 5.16022183 5.37633486 4.56001433\n",
      " 3.99197645 4.95724563 4.81042519 4.87038715 4.85479941 4.32083063\n",
      " 5.60562359 4.43030934 5.1533515  4.82574836 5.59083855 4.74206749\n",
      " 5.01128069 5.19937529 4.28298667 4.51984357 4.73488531 4.67400374\n",
      " 5.3603885  4.3941106  4.9764825  4.57827458 4.33057109 5.25574436\n",
      " 5.06154049 4.39934194 4.88215252 4.46334617 5.09958962 4.33360156\n",
      " 4.99016667 4.83541557 5.13482161 4.5909338  4.16769795 4.80986957\n",
      " 4.4549379  5.14157128 3.3994034  2.79303467 2.87067963 2.59598932\n",
      " 3.50078315 3.14292885 3.0838008  3.13660134 3.13270168 3.33855719\n",
      " 3.89393302 2.68248046 3.7814194  3.36317512 3.03205732 2.48303991\n",
      " 3.08162992 2.59072385 3.86510242 3.64875577 2.9734093  3.17250718\n",
      " 2.34882871 3.20014425 3.30015698 3.46747371 2.52027202 2.84621448\n",
      " 3.31462316 3.1068107  3.66854008 2.96134161 3.22503182 3.43045973\n",
      " 2.72254384 2.89779641 2.73354585 3.37337005 3.85105531 2.5815513\n",
      " 2.91937445 3.65845835 3.50531953 3.56486293 2.74727082 3.24514217\n",
      " 2.78486956 3.14777697 3.93305319 3.60833667]\n",
      "The data is separated by the optimal line\n"
     ]
    }
   ],
   "source": [
    "# verify that we have learned to separate the data\n",
    "if separability_test(X, T, w_star):\n",
    "  print(\"The data is separated by the optimal line\")\n",
    "else:\n",
    "  print(\"The optimal line does not separate the data\")"
   ]
  },
  {
   "attachments": {},
   "cell_type": "markdown",
   "metadata": {},
   "source": [
    "## Visualization\n",
    "\n",
    "We have selected our data to be 2-dimensional to be able to visualize the results.\n",
    "For this purpose, we would like to jointly plot the positive and the negative data from Task 1 together with the decision boundaries of the weight vectors obtained in Tasks 2 and 6.\n",
    "An example can be found in the exercise slides.\n",
    "\n",
    "### Task 7: Plotting\n",
    "\n",
    "First, we need to plot the data points such that positive data are plotted with green dots, and negative data with red dots.\n",
    "\n",
    "Then, we need to compute the line parameters. For this purpose, we define the separating line in Cartesian coordinates $f_{\\vec w}(\\vec x) = 0$ and solve it to the parametric form $x_2 = \\beta x_1 + \\gamma$."
   ]
  },
  {
   "cell_type": "code",
   "execution_count": 143,
   "metadata": {},
   "outputs": [
    {
     "data": {
      "image/png": "[encoded data removed]",
      "text/plain": [
       "<Figure size 800x800 with 1 Axes>"
      ]
     },
     "metadata": {},
     "output_type": "display_data"
    }
   ],
   "source": [
    "def line_parameters(w):\n",
    "  # compute parametric line parameters from Cartesian coordinates\n",
    "  beta = -w[1]/w[2]\n",
    "  gamma = -w[0]/w[2]\n",
    "  return beta, gamma\n",
    "\n",
    "\n",
    "from matplotlib import pyplot\n",
    "\n",
    "# create a square plot\n",
    "pyplot.figure(figsize=(8,8))\n",
    "N = int(len(X)/2)\n",
    "# plot the positive data points\n",
    "pyplot.plot(X[:N][:,1], X[:N][:,2], \"g.\", label=\"positive data\")\n",
    "# plot the negative data points\n",
    "pyplot.plot(X[N:][:,1], X[N:][:,2], \"r.\", label=\"negative data\")\n",
    "\n",
    "# define positions where to evaluate the line:\n",
    "x1 = np.array([-1,1])\n",
    "\n",
    "# compute line parameters for manual line\n",
    "beta, gamma = line_parameters(w_manual)\n",
    "# now, compute the values according to our parametric form:\n",
    "x2 = beta * x1 + gamma\n",
    "# plot manual line\n",
    "pyplot.plot(x1, x2, \"m-\", label=\"manual line\")\n",
    "\n",
    "# compute line parameters for optimized line\n",
    "beta, gamma = line_parameters(w_star)\n",
    "# now, compute the values according to our parametric form:\n",
    "x2 = beta * x1 + gamma\n",
    "# plot optimized line\n",
    "pyplot.plot(x1, x2, \"b-\", label=\"optimized line\")\n",
    "\n",
    "# make the plot more beautiful\n",
    "pyplot.show()"
   ]
  }
 ],
 "metadata": {
  "kernelspec": {
   "display_name": "DL",
   "language": "python",
   "name": "python3"
  },
  "language_info": {
   "codemirror_mode": {
    "name": "ipython",
    "version": 3
   },
   "file_extension": ".py",
   "mimetype": "text/x-python",
   "name": "python",
   "nbconvert_exporter": "python",
   "pygments_lexer": "ipython3",
   "version": "3.9.13"
  },
  "orig_nbformat": 4,
  "vscode": {
   "interpreter": {
    "hash": "a29cabff5744fce69e08a959ab87b9e77a9f67b498d08783caa8c3bb16f23a00"
   }
  }
 },
 "nbformat": 4,
 "nbformat_minor": 2
}

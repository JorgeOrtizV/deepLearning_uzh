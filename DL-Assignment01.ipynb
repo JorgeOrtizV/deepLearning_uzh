{
 "cells": [
  {
   "cell_type": "markdown",
   "metadata": {},
   "source": [
    "### Group Members:\n",
    "\n",
    "- Shantam Raj, 21-743-034\n",
    "- Varun Ghat Ravikumar, matriculation number\n",
    "- Jorge Alejandro Ortiz Valerio, 23-743-958"
   ]
  },
  {
   "cell_type": "markdown",
   "metadata": {},
   "source": [
    "# Assignment 1: Perceptron Learning\n",
    "\n",
    "The goal of this exercise is to apply the perceptron learning to a total of $N=100$ automatically generated, separable random data $X=\\bigl\\{\\vec x^1, \\vec x^2,\\ldots,\\vec x^ N \\bigr\\}$ with each $\\vec x^n = \\bigl(x_1^n, x_2^n\\bigr)^T$.\n",
    "Each data point $\\vec x^n$ is accompanied by an according target value $X=\\bigl\\{t^1, t^2,\\ldots,t^ N\\bigr\\}$ with $t^n \\in \\{-1,+1\\}$.\n",
    "\n",
    "## Data Generation\n",
    "The data should be generated such that\n",
    "$\\forall n\\leq\\frac N2\\colon \\vec x^n \\sim \\mathcal N_{\\vec\\mu_+, \\sigma_+}$.\n",
    "These samples will be our positive data labeled with $t^n=1$.\n",
    "Similarly, we generate our negative data with\n",
    "$\\forall n>\\frac N2\\colon \\vec x^n \\sim \\mathcal N_{\\vec\\mu_-, \\sigma_-}$\n",
    "and label them as $t^n=-1$.\n",
    "\n",
    "### Task 1: Data Samples\n",
    "\n",
    "Given the number of samples and the means (mu) and standard deviations (sigma) of positive (pos) and negative (neg) data, generate and return data samples including their labels. Remember to add the bias neuron $x_0=1$ to each of the samples.\n",
    "\n",
    "Hints:\n",
    "1. Use `numpy` package to generate data.\n",
    "2. Exemplary means could be selected as: $\\vec\\mu_+=(-5,3)^T$ and $\\vec\\mu_- = (5, -3)^T$. The standard deviations $\\sigma_+$ and $\\sigma_-$ should be selected such that the data is most likely separable."
   ]
  },
  {
   "cell_type": "code",
   "execution_count": 1,
   "metadata": {},
   "outputs": [
    {
     "name": "stderr",
     "output_type": "stream",
     "text": [
      "C:\\Users\\joe\\AppData\\Local\\Programs\\Python\\Python39\\lib\\site-packages\\numpy\\_distributor_init.py:30: UserWarning: loaded more than 1 DLL from .libs:\n",
      "C:\\Users\\joe\\AppData\\Local\\Programs\\Python\\Python39\\lib\\site-packages\\numpy\\.libs\\libopenblas.FB5AE2TYXYH2IJRDKGDGQ3XBKLKTF43H.gfortran-win_amd64.dll\n",
      "C:\\Users\\joe\\AppData\\Local\\Programs\\Python\\Python39\\lib\\site-packages\\numpy\\.libs\\libopenblas64__v0.3.21-gcc_10_3_0.dll\n",
      "  warnings.warn(\"loaded more than 1 DLL from .libs:\"\n"
     ]
    }
   ],
   "source": [
    "import numpy as np\n",
    "\n",
    "def dataset(number_of_samples, mu_pos, sigma_pos, mu_neg, sigma_neg):\n",
    "  N = int(number_of_samples/2)\n",
    "  # create positive and negative data\n",
    "  positive_data = np.random.normal(loc=mu_pos, scale=sigma_pos, size=[N, 2])\n",
    "  negative_data = np.random.normal(loc=mu_neg, scale=sigma_neg, size=[N, 2])\n",
    "  ones = np.ones((N,1))\n",
    "  positive_data = np.c_[ones, positive_data]\n",
    "  negative_data = np.c_[ones, negative_data]\n",
    "\n",
    "  # assign positive and negative labels\n",
    "  positive_labels = np.full(shape=N, fill_value=1)\n",
    "  negative_labels = np.full(shape=N, fill_value=-1)\n",
    "\n",
    "  # concatenate positive and negative data\n",
    "  all_data = np.concatenate((positive_data, negative_data), axis=0)\n",
    "  all_labels = np.concatenate((positive_labels, negative_labels))\n",
    "\n",
    "  # anything else to consider?\n",
    "  #...\n",
    "\n",
    "  # return both X and T\n",
    "  return all_data, all_labels\n",
    "all_data, all_labels = dataset(100, (-5,3), 0.5, (5,-3), 0.5)\n",
    "# print(all_data)\n",
    "# print(all_labels)"
   ]
  },
  {
   "cell_type": "code",
   "execution_count": 2,
   "metadata": {},
   "outputs": [
    {
     "data": {
      "image/png": "[encoded data removed]",
      "text/plain": [
       "<Figure size 640x480 with 1 Axes>"
      ]
     },
     "metadata": {},
     "output_type": "display_data"
    }
   ],
   "source": [
    "import numpy as np\n",
    "import matplotlib.pyplot as plt\n",
    "\n",
    "# Plot the data\n",
    "plt.scatter(all_data[:, 1], all_data[:, 2], c=all_labels, cmap='viridis', s=10, alpha=0.5)\n",
    "plt.xlabel('X')\n",
    "plt.ylabel('Y')\n",
    "plt.title('2D Numpy Normal Distribution')\n",
    "plt.show()\n"
   ]
  },
  {
   "cell_type": "markdown",
   "metadata": {},
   "source": [
    "### Task 2: Select Data Parameters and Line Parameters\n",
    "\n",
    "We want to select data points such that we exactly know where the ideal separating line should be placed.\n",
    "Note that data samples are not always separable since they are generated randomly.\n",
    "You should determine, which means and standard deviations are useful.\n",
    "\n",
    "Once you have defined your means, you should also define the separating line.\n",
    "The easiest is to provide it as Cartesian equation: $w_0 + w_1 x_1 + w_2 x_2$.\n",
    "Note that the separating line is orthogonal to the vector $\\overrightarrow{\\vec\\mu_- \\vec\\mu_+}$, that the normal of the line $(w_1, w_2)^T$ is orthogonal to the line, and that $w_0$ should be selected such that the line $\\vec w$ is in the middle of $\\vec\\mu_+$ and $\\vec\\mu_-$."
   ]
  },
  {
   "cell_type": "code",
   "execution_count": 3,
   "metadata": {},
   "outputs": [],
   "source": [
    "X, T = dataset(100,(-5,3), 0.5, (5,-3), 0.5)\n",
    "\n",
    "w_manual = np.array([0, -1, -1])"
   ]
  },
  {
   "cell_type": "code",
   "execution_count": 4,
   "metadata": {},
   "outputs": [
    {
     "data": {
      "text/plain": [
       "array([ 0, -1, -1])"
      ]
     },
     "execution_count": 4,
     "metadata": {},
     "output_type": "execute_result"
    }
   ],
   "source": [
    "w_manual"
   ]
  },
  {
   "cell_type": "code",
   "execution_count": 5,
   "metadata": {},
   "outputs": [
    {
     "data": {
      "text/plain": [
       "array([[ 1.        , -5.29163553,  3.11470972],\n",
       "       [ 1.        , -3.87255475,  2.01616204],\n",
       "       [ 1.        , -5.00554535,  3.12929294],\n",
       "       [ 1.        , -5.12403571,  1.98198357],\n",
       "       [ 1.        , -5.0709706 ,  2.47286629],\n",
       "       [ 1.        , -4.57878175,  2.21376024],\n",
       "       [ 1.        , -4.12156578,  3.575076  ],\n",
       "       [ 1.        , -5.2360936 ,  2.78266926],\n",
       "       [ 1.        , -4.84954318,  2.83759765],\n",
       "       [ 1.        , -5.37295221,  3.43301278],\n",
       "       [ 1.        , -5.17842086,  3.2153191 ],\n",
       "       [ 1.        , -4.63362556,  3.1084829 ],\n",
       "       [ 1.        , -4.60102673,  2.56590858],\n",
       "       [ 1.        , -5.39109946,  3.96591732],\n",
       "       [ 1.        , -5.83072688,  3.02009032],\n",
       "       [ 1.        , -4.31193871,  1.97716999],\n",
       "       [ 1.        , -5.42719082,  2.97150658],\n",
       "       [ 1.        , -4.94909258,  3.10631149],\n",
       "       [ 1.        , -6.41563395,  2.89797499],\n",
       "       [ 1.        , -5.69152019,  2.76811943],\n",
       "       [ 1.        , -4.84432481,  3.03521783],\n",
       "       [ 1.        , -5.88488432,  3.42135906],\n",
       "       [ 1.        , -5.31851392,  2.81898912],\n",
       "       [ 1.        , -5.9657742 ,  3.14222808],\n",
       "       [ 1.        , -5.98188958,  3.3721833 ],\n",
       "       [ 1.        , -3.7220704 ,  3.28230214],\n",
       "       [ 1.        , -5.50922866,  3.1604873 ],\n",
       "       [ 1.        , -4.79068319,  3.43724788],\n",
       "       [ 1.        , -5.21373555,  3.5872623 ],\n",
       "       [ 1.        , -4.80725532,  2.61973865],\n",
       "       [ 1.        , -5.19578662,  4.03467118],\n",
       "       [ 1.        , -5.25898181,  3.01766626],\n",
       "       [ 1.        , -5.0368625 ,  2.64890299],\n",
       "       [ 1.        , -5.13455207,  3.48310655],\n",
       "       [ 1.        , -4.84240425,  3.77066731],\n",
       "       [ 1.        , -5.08138169,  3.37831743],\n",
       "       [ 1.        , -5.77671852,  3.43072581],\n",
       "       [ 1.        , -5.74471715,  1.68659134],\n",
       "       [ 1.        , -5.15219632,  3.42095285],\n",
       "       [ 1.        , -4.20815419,  2.45868985],\n",
       "       [ 1.        , -4.17423528,  2.96337269],\n",
       "       [ 1.        , -5.64008153,  3.48181326],\n",
       "       [ 1.        , -5.09256409,  1.99525584],\n",
       "       [ 1.        , -4.56425885,  2.21313219],\n",
       "       [ 1.        , -5.90638654,  3.33201782],\n",
       "       [ 1.        , -4.24171984,  2.97623766],\n",
       "       [ 1.        , -4.86330089,  2.07631011],\n",
       "       [ 1.        , -5.15455066,  1.75761985],\n",
       "       [ 1.        , -5.23027771,  2.97395448],\n",
       "       [ 1.        , -5.35233537,  3.26164109],\n",
       "       [ 1.        ,  4.70019764, -1.8761036 ],\n",
       "       [ 1.        ,  5.54112548, -4.12023412],\n",
       "       [ 1.        ,  4.69690124, -3.05894208],\n",
       "       [ 1.        ,  4.55214366, -3.34312612],\n",
       "       [ 1.        ,  5.18997713, -3.09014416],\n",
       "       [ 1.        ,  5.18727871, -3.37453186],\n",
       "       [ 1.        ,  6.11107051, -3.21657978],\n",
       "       [ 1.        ,  5.11181683, -2.40977424],\n",
       "       [ 1.        ,  4.97560156, -2.47913172],\n",
       "       [ 1.        ,  4.15825175, -3.05062286],\n",
       "       [ 1.        ,  5.22398633, -2.68036905],\n",
       "       [ 1.        ,  5.18539414, -2.64073329],\n",
       "       [ 1.        ,  4.87484471, -3.15418739],\n",
       "       [ 1.        ,  5.04103519, -2.35399481],\n",
       "       [ 1.        ,  5.14130165, -3.35156645],\n",
       "       [ 1.        ,  5.17178737, -3.84055077],\n",
       "       [ 1.        ,  4.05212505, -3.35819517],\n",
       "       [ 1.        ,  5.78572801, -3.30363286],\n",
       "       [ 1.        ,  5.10817822, -3.46461402],\n",
       "       [ 1.        ,  5.13248761, -3.30579564],\n",
       "       [ 1.        ,  5.54197113, -2.13767677],\n",
       "       [ 1.        ,  5.25415312, -2.84818145],\n",
       "       [ 1.        ,  4.80194543, -3.44039714],\n",
       "       [ 1.        ,  5.27973353, -3.8061764 ],\n",
       "       [ 1.        ,  4.87395064, -2.85671227],\n",
       "       [ 1.        ,  5.51686905, -3.54001612],\n",
       "       [ 1.        ,  4.0576454 , -2.64908437],\n",
       "       [ 1.        ,  5.64870593, -3.15371846],\n",
       "       [ 1.        ,  4.57412785, -1.2116737 ],\n",
       "       [ 1.        ,  5.32965548, -3.11391249],\n",
       "       [ 1.        ,  5.23286866, -3.41436263],\n",
       "       [ 1.        ,  3.87199916, -2.63661425],\n",
       "       [ 1.        ,  4.78018271, -3.51789   ],\n",
       "       [ 1.        ,  5.37147423, -2.30978946],\n",
       "       [ 1.        ,  4.66913413, -3.22324951],\n",
       "       [ 1.        ,  5.3379578 , -3.05944502],\n",
       "       [ 1.        ,  4.7894913 , -3.13852083],\n",
       "       [ 1.        ,  4.8699883 , -2.87490073],\n",
       "       [ 1.        ,  5.33091509, -3.34352403],\n",
       "       [ 1.        ,  4.81752871, -2.89014164],\n",
       "       [ 1.        ,  5.17609555, -2.65454038],\n",
       "       [ 1.        ,  4.84299077, -3.23709365],\n",
       "       [ 1.        ,  4.83255985, -2.90974553],\n",
       "       [ 1.        ,  5.23182771, -3.08797087],\n",
       "       [ 1.        ,  5.44219696, -3.5133601 ],\n",
       "       [ 1.        ,  4.95953163, -2.84461783],\n",
       "       [ 1.        ,  4.72359799, -3.14449783],\n",
       "       [ 1.        ,  4.82702287, -1.90423448],\n",
       "       [ 1.        ,  5.55659342, -2.87859854],\n",
       "       [ 1.        ,  5.11399628, -2.65668046]])"
      ]
     },
     "execution_count": 5,
     "metadata": {},
     "output_type": "execute_result"
    }
   ],
   "source": [
    "X"
   ]
  },
  {
   "cell_type": "code",
   "execution_count": 6,
   "metadata": {},
   "outputs": [
    {
     "data": {
      "text/plain": [
       "array([2.17692581, 1.85639271, 1.8762524 , 3.14205214, 2.59810431,\n",
       "       2.3650215 , 0.54648978, 2.45342434, 2.01194553, 1.93993943,\n",
       "       1.96310176, 1.52514266, 2.03511814, 1.42518215, 2.81063656,\n",
       "       2.33476872, 2.45568424, 1.84278109, 3.51765896, 2.92340077,\n",
       "       1.80910698, 2.46352526, 2.4995248 , 2.82354612, 2.60970628,\n",
       "       0.43976826, 2.34874137, 1.35343531, 1.62647325, 2.18751667,\n",
       "       1.16111544, 2.24131555, 2.38795951, 1.65144551, 1.07173694,\n",
       "       1.70306427, 2.34599272, 4.05812581, 1.73124347, 1.74946434,\n",
       "       1.21086259, 2.15826827, 3.09730825, 2.35112665, 2.57436872,\n",
       "       1.26548218, 2.78699077, 3.39693081, 2.25632323, 2.09069428,\n",
       "       2.82409404, 1.42089136, 1.63795915, 1.20901754, 2.09983297,\n",
       "       1.81274685, 2.89449073, 2.70204259, 2.49646984, 1.10762889,\n",
       "       2.54361728, 2.54466085, 1.72065733, 2.68704038, 1.7897352 ,\n",
       "       1.3312366 , 0.69392989, 2.48209515, 1.6435642 , 1.82669197,\n",
       "       3.40429436, 2.40597167, 1.36154828, 1.47355713, 2.01723837,\n",
       "       1.97685294, 1.40856103, 2.49498747, 3.36245414, 2.21574299,\n",
       "       1.81850603, 1.23538492, 1.26229271, 3.06168477, 1.44588462,\n",
       "       2.27851278, 1.65097048, 1.99508757, 1.98739106, 1.92738707,\n",
       "       2.52155517, 1.60589712, 1.92281432, 2.14385684, 1.92883686,\n",
       "       2.1149138 , 1.57910016, 2.92278839, 2.67799487, 2.45731582])"
      ]
     },
     "execution_count": 6,
     "metadata": {},
     "output_type": "execute_result"
    }
   ],
   "source": [
    "X.dot(w_manual)*T"
   ]
  },
  {
   "cell_type": "code",
   "execution_count": 7,
   "metadata": {},
   "outputs": [
    {
     "data": {
      "text/plain": [
       "array([ 1,  1,  1,  1,  1,  1,  1,  1,  1,  1,  1,  1,  1,  1,  1,  1,  1,\n",
       "        1,  1,  1,  1,  1,  1,  1,  1,  1,  1,  1,  1,  1,  1,  1,  1,  1,\n",
       "        1,  1,  1,  1,  1,  1,  1,  1,  1,  1,  1,  1,  1,  1,  1,  1, -1,\n",
       "       -1, -1, -1, -1, -1, -1, -1, -1, -1, -1, -1, -1, -1, -1, -1, -1, -1,\n",
       "       -1, -1, -1, -1, -1, -1, -1, -1, -1, -1, -1, -1, -1, -1, -1, -1, -1,\n",
       "       -1, -1, -1, -1, -1, -1, -1, -1, -1, -1, -1, -1, -1, -1, -1])"
      ]
     },
     "execution_count": 7,
     "metadata": {},
     "output_type": "execute_result"
    }
   ],
   "source": [
    "T"
   ]
  },
  {
   "cell_type": "code",
   "execution_count": null,
   "metadata": {},
   "outputs": [],
   "source": []
  },
  {
   "cell_type": "markdown",
   "metadata": {},
   "source": [
    "### Test 1: Linear Separability Test\n",
    "\n",
    "A line $a = f_{\\vec w}(\\vec x) = w_0 + w_1 x_1 + w_2 x_2$ linearly separates the data $(X,T)$ if $\\forall n: a^{[n]} t^{[n]} > 0$ for $a^{[n]} = f_{\\vec w}(\\vec x^{[n]})$.\n",
    "The below function implements this linear separability test. We apply this test to your data $(X,T)$ from Task 1 and your manually selected line $\\vec w$ from Task 2 to assure that the line separates the data."
   ]
  },
  {
   "cell_type": "code",
   "execution_count": null,
   "metadata": {},
   "outputs": [],
   "source": []
  },
  {
   "cell_type": "code",
   "execution_count": 8,
   "metadata": {},
   "outputs": [
    {
     "name": "stdout",
     "output_type": "stream",
     "text": [
      "[2.17692581 1.85639271 1.8762524  3.14205214 2.59810431 2.3650215\n",
      " 0.54648978 2.45342434 2.01194553 1.93993943 1.96310176 1.52514266\n",
      " 2.03511814 1.42518215 2.81063656 2.33476872 2.45568424 1.84278109\n",
      " 3.51765896 2.92340077 1.80910698 2.46352526 2.4995248  2.82354612\n",
      " 2.60970628 0.43976826 2.34874137 1.35343531 1.62647325 2.18751667\n",
      " 1.16111544 2.24131555 2.38795951 1.65144551 1.07173694 1.70306427\n",
      " 2.34599272 4.05812581 1.73124347 1.74946434 1.21086259 2.15826827\n",
      " 3.09730825 2.35112665 2.57436872 1.26548218 2.78699077 3.39693081\n",
      " 2.25632323 2.09069428 2.82409404 1.42089136 1.63795915 1.20901754\n",
      " 2.09983297 1.81274685 2.89449073 2.70204259 2.49646984 1.10762889\n",
      " 2.54361728 2.54466085 1.72065733 2.68704038 1.7897352  1.3312366\n",
      " 0.69392989 2.48209515 1.6435642  1.82669197 3.40429436 2.40597167\n",
      " 1.36154828 1.47355713 2.01723837 1.97685294 1.40856103 2.49498747\n",
      " 3.36245414 2.21574299 1.81850603 1.23538492 1.26229271 3.06168477\n",
      " 1.44588462 2.27851278 1.65097048 1.99508757 1.98739106 1.92738707\n",
      " 2.52155517 1.60589712 1.92281432 2.14385684 1.92883686 2.1149138\n",
      " 1.57910016 2.92278839 2.67799487 2.45731582]\n",
      "The data is separated by the manually selected line\n"
     ]
    }
   ],
   "source": [
    "def separability_test(X, T, w):\n",
    "  print(np.dot(X,w) * T)\n",
    "  return np.all(np.dot(X,w) * T > 0)\n",
    "\n",
    "# Test 1: check that the weights are separating the data\n",
    "if separability_test(X, T, w_manual):\n",
    "  print(\"The data is separated by the manually selected line\")\n",
    "else:\n",
    "  print(\"The manually selected line does not separate the data\")"
   ]
  },
  {
   "cell_type": "markdown",
   "metadata": {},
   "source": [
    "### Task 3: Perceptron\n",
    "\n",
    "The perceptron is defined as the Adaline $$a = f_{\\vec w}(\\vec x)$$ that is thresholded using the sign function $$\\mathrm{sign}(a) = \\begin{cases} +1 &\\text{if } a \\geq 0\\\\ -1 & \\text{otherwise.}\\end{cases}$$\n",
    "Implement a function that computes and returns the perceptron for a given data point $\\vec x$ and line parameters $\\vec w$."
   ]
  },
  {
   "cell_type": "code",
   "execution_count": 9,
   "metadata": {},
   "outputs": [],
   "source": [
    "def perceptron(x, w):\n",
    "  a = np.dot(x, w)\n",
    "  if a >= 0:\n",
    "    return 1\n",
    "  else:\n",
    "    return -1"
   ]
  },
  {
   "cell_type": "markdown",
   "metadata": {},
   "source": [
    "## Perceptron Learning\n",
    "\n",
    "The perceptron learning rule is defined as follows.\n",
    "First, the weights $\\vec w = (w_0, w_1, w_2)^T$ are initialized randomly.\n",
    "Then, for each sample $(x,t)$ of the dataset we check if the sample is correctly classified as $H(f_{\\vec w}(\\vec x)) t > 0$.\n",
    "If the sample is classified incorrectly, the weights are adapted: $w_0 = w_0 + t$, $w_1 = w_1 + tx_1$, $w_2 = w_2 + tx_2$.\n",
    "This step is repeated until all samples are classified correctly.\n",
    "\n",
    "\n",
    "### Task 4: Perceptron Learning Implementation\n",
    "\n",
    "Implement a function that performs perceptron learning for a given dataset $(X,T)$ and a given initial weight vector $\\vec w$.\n",
    "The final weight vector $\\vec w^*$ shall be returned from that function.\n",
    "Define a proper stopping criterion for the iteration.\n",
    "Consider in your implementation error cases that could arise.\n"
   ]
  },
  {
   "cell_type": "code",
   "execution_count": 10,
   "metadata": {},
   "outputs": [],
   "source": [
    "def perceptron_learning(X, T, w):\n",
    "  # first, make a copy of your weights\n",
    "  w_star = np.copy(w)\n",
    "\n",
    "  # then, iterate over the data and perform perceptron learning\n",
    "  max_epoch = 10\n",
    "  epoch = 0\n",
    "  while not separability_test(X, T, w_star) and epoch < max_epoch:\n",
    "    for i in range(len(X)):\n",
    "      if perceptron(X[i], w_star)*T[i] < 0:\n",
    "        w_star = w_star + X[i]*T[i]\n",
    "    epoch += 1\n",
    "  # if data is already classified correctly, return w_star\n",
    "  # if data is misclassified, update w_star\n",
    "  # return when all data is classified correctly\n",
    "\n",
    "  # finally, return the optimal weights\n",
    "  return w_star"
   ]
  },
  {
   "cell_type": "markdown",
   "metadata": {},
   "source": [
    "### Test 2: Sanity Check\n",
    "\n",
    "We call the perceptron learning function with the data from task 1 and the manual line from task 2. If the line separates the data, it should not be changed. Here we test if this is the actual outcome of the perceptron learning function."
   ]
  },
  {
   "cell_type": "code",
   "execution_count": 11,
   "metadata": {},
   "outputs": [
    {
     "name": "stdout",
     "output_type": "stream",
     "text": [
      "[2.17692581 1.85639271 1.8762524  3.14205214 2.59810431 2.3650215\n",
      " 0.54648978 2.45342434 2.01194553 1.93993943 1.96310176 1.52514266\n",
      " 2.03511814 1.42518215 2.81063656 2.33476872 2.45568424 1.84278109\n",
      " 3.51765896 2.92340077 1.80910698 2.46352526 2.4995248  2.82354612\n",
      " 2.60970628 0.43976826 2.34874137 1.35343531 1.62647325 2.18751667\n",
      " 1.16111544 2.24131555 2.38795951 1.65144551 1.07173694 1.70306427\n",
      " 2.34599272 4.05812581 1.73124347 1.74946434 1.21086259 2.15826827\n",
      " 3.09730825 2.35112665 2.57436872 1.26548218 2.78699077 3.39693081\n",
      " 2.25632323 2.09069428 2.82409404 1.42089136 1.63795915 1.20901754\n",
      " 2.09983297 1.81274685 2.89449073 2.70204259 2.49646984 1.10762889\n",
      " 2.54361728 2.54466085 1.72065733 2.68704038 1.7897352  1.3312366\n",
      " 0.69392989 2.48209515 1.6435642  1.82669197 3.40429436 2.40597167\n",
      " 1.36154828 1.47355713 2.01723837 1.97685294 1.40856103 2.49498747\n",
      " 3.36245414 2.21574299 1.81850603 1.23538492 1.26229271 3.06168477\n",
      " 1.44588462 2.27851278 1.65097048 1.99508757 1.98739106 1.92738707\n",
      " 2.52155517 1.60589712 1.92281432 2.14385684 1.92883686 2.1149138\n",
      " 1.57910016 2.92278839 2.67799487 2.45731582]\n",
      "As desired, perceptron learning does not optimize an already separating line\n"
     ]
    }
   ],
   "source": [
    "w_star = perceptron_learning(X, T, w_manual)\n",
    "\n",
    "# check if the output is as expected\n",
    "if np.any(w_manual != w_star):\n",
    "    print(\"Warning: the perceptron algorithm seems to be wrong\")\n",
    "else:\n",
    "    print(\"As desired, perceptron learning does not optimize an already separating line\")"
   ]
  },
  {
   "cell_type": "markdown",
   "metadata": {},
   "source": [
    "### Task 5: Weight Initialization\n",
    "\n",
    "Implement a function that generates and returns randomly initialized weights $\\vec w \\in [-1,1]^3$."
   ]
  },
  {
   "cell_type": "code",
   "execution_count": 12,
   "metadata": {},
   "outputs": [],
   "source": [
    "def random_weights(lowest = -1, highest = 1):\n",
    "  return np.random.uniform(low=-1, high=1, size=(3,))"
   ]
  },
  {
   "cell_type": "markdown",
   "metadata": {},
   "source": [
    "### Task 6: Perceptron Learning Execution\n",
    "\n",
    "Call the perceptron learning function with the data from task 1 and the randomly generated initial weight vector from task 5.\n",
    "Store the resulting weight vector $\\vec w^*$."
   ]
  },
  {
   "cell_type": "code",
   "execution_count": 13,
   "metadata": {},
   "outputs": [
    {
     "name": "stdout",
     "output_type": "stream",
     "text": [
      "[-2.22734072 -1.53437495 -2.12098707 -2.00379538 -2.05303901 -1.82991694\n",
      " -1.84898358 -2.15938189 -2.02065882 -2.30312607 -2.19865223 -1.97710784\n",
      " -1.88809875 -2.38529256 -2.41826163 -1.69537082 -2.25847749 -2.09634742\n",
      " -2.62265976 -2.32991036 -2.0466014  -2.49547649 -2.19574643 -2.48669368\n",
      " -2.52528905 -1.6562311  -2.31626526 -2.08307332 -2.26458346 -1.97385436\n",
      " -2.32099233 -2.20125613 -2.06498447 -2.21986156 -2.14977906 -2.18490785\n",
      " -2.45581037 -2.19726939 -2.21776669 -1.72407151 -1.78252031 -2.41124944\n",
      " -1.99374432 -1.82432475 -2.49100249 -1.80991119 -1.91831641 -1.98366057\n",
      " -2.18420303 -2.27110165 -2.26417844 -2.89990266 -2.43004254 -2.41533656\n",
      " -2.62130213 -2.6604583  -2.98821386 -2.49555952 -2.45373963 -2.22474575\n",
      " -2.57629626 -2.55607193 -2.5109307  -2.46085619 -2.63979069 -2.72042773\n",
      " -2.22798329 -2.87722418 -2.64321009 -2.62998403 -2.62012431 -2.61143678\n",
      " -2.52374165 -2.75647751 -2.46856414 -2.80873657 -2.12989094 -2.80411947\n",
      " -2.12253254 -2.67759132 -2.68336198 -2.05777843 -2.52644297 -2.57983079\n",
      " -2.44273379 -2.67304224 -2.47637259 -2.4696323  -2.71050853 -2.45190598\n",
      " -2.55449891 -2.51057276 -2.4603717  -2.63685438 -2.77667355 -2.49928637\n",
      " -2.45224674 -2.31621329 -2.73034402 -2.53126872]\n",
      "[36.47548247 26.23753285 35.11337365 32.2840375  33.48294985 30.29454777\n",
      " 32.09616426 35.21532405 33.47964913 37.82141701 36.21844924 33.22437171\n",
      " 31.45091815 39.4951221  38.84252455 28.28014781 36.71561868 34.7677053\n",
      " 41.35288764 37.40942856 34.04162233 40.30172676 35.72822361 39.86913736\n",
      " 40.63206249 29.26302724 37.68056537 34.97350541 37.49788558 32.62411414\n",
      " 38.74004624 36.02651332 33.83881995 36.79918241 36.21899341 36.22639016\n",
      " 39.79819362 34.45492243 36.70105349 29.20205184 30.53605711 39.27884398\n",
      " 32.16889151 30.22133389 40.14171062 30.90584055 31.28360263 31.76681844\n",
      " 35.75552523 37.21057157 27.45107247 38.25504707 30.95196355 31.08581595\n",
      " 33.46706732 34.29941719 38.36805629 31.06005929 30.59710604 28.28101162\n",
      " 32.41570691 32.1082616  32.10934887 30.54647522 34.0052604  35.60898683\n",
      " 28.67418874 37.02859707 34.17867426 33.82586354 32.36420961 33.06288501\n",
      " 32.60224179 36.03708265 31.22043573 36.41064632 26.59281844 35.90969106\n",
      " 24.85609674 34.22393644 34.6418202  25.64371793 32.72574784 32.03837674\n",
      " 31.3041088  34.10276804 31.64345106 31.25505205 34.91285796 31.04265235\n",
      " 32.10363491 32.19937631 31.17478636 33.66620389 35.96454611 31.60490624\n",
      " 31.33751018 28.15777004 34.63912197 31.80492411]\n"
     ]
    }
   ],
   "source": [
    "# create random weights\n",
    "w_initial = random_weights()\n",
    "\n",
    "# perform perceptron learning\n",
    "w_star = perceptron_learning(X, T, w_initial)"
   ]
  },
  {
   "cell_type": "markdown",
   "metadata": {},
   "source": [
    "### Test 3: Result Validation\n",
    "\n",
    "We verify that the optimized $\\vec w^*$ actually separates the data."
   ]
  },
  {
   "cell_type": "code",
   "execution_count": 14,
   "metadata": {},
   "outputs": [
    {
     "name": "stdout",
     "output_type": "stream",
     "text": [
      "[36.47548247 26.23753285 35.11337365 32.2840375  33.48294985 30.29454777\n",
      " 32.09616426 35.21532405 33.47964913 37.82141701 36.21844924 33.22437171\n",
      " 31.45091815 39.4951221  38.84252455 28.28014781 36.71561868 34.7677053\n",
      " 41.35288764 37.40942856 34.04162233 40.30172676 35.72822361 39.86913736\n",
      " 40.63206249 29.26302724 37.68056537 34.97350541 37.49788558 32.62411414\n",
      " 38.74004624 36.02651332 33.83881995 36.79918241 36.21899341 36.22639016\n",
      " 39.79819362 34.45492243 36.70105349 29.20205184 30.53605711 39.27884398\n",
      " 32.16889151 30.22133389 40.14171062 30.90584055 31.28360263 31.76681844\n",
      " 35.75552523 37.21057157 27.45107247 38.25504707 30.95196355 31.08581595\n",
      " 33.46706732 34.29941719 38.36805629 31.06005929 30.59710604 28.28101162\n",
      " 32.41570691 32.1082616  32.10934887 30.54647522 34.0052604  35.60898683\n",
      " 28.67418874 37.02859707 34.17867426 33.82586354 32.36420961 33.06288501\n",
      " 32.60224179 36.03708265 31.22043573 36.41064632 26.59281844 35.90969106\n",
      " 24.85609674 34.22393644 34.6418202  25.64371793 32.72574784 32.03837674\n",
      " 31.3041088  34.10276804 31.64345106 31.25505205 34.91285796 31.04265235\n",
      " 32.10363491 32.19937631 31.17478636 33.66620389 35.96454611 31.60490624\n",
      " 31.33751018 28.15777004 34.63912197 31.80492411]\n",
      "The data is separated by the optimal line\n"
     ]
    }
   ],
   "source": [
    "# verify that we have learned to separate the data\n",
    "if separability_test(X, T, w_star):\n",
    "  print(\"The data is separated by the optimal line\")\n",
    "else:\n",
    "  print(\"The optimal line does not separate the data\")"
   ]
  },
  {
   "cell_type": "markdown",
   "metadata": {},
   "source": [
    "## Visualization\n",
    "\n",
    "We have selected our data to be 2-dimensional to be able to visualize the results.\n",
    "For this purpose, we would like to jointly plot the positive and the negative data from Task 1 together with the decision boundaries of the weight vectors obtained in Tasks 2 and 6.\n",
    "An example can be found in the exercise slides.\n",
    "\n",
    "### Task 7: Plotting\n",
    "\n",
    "First, we need to plot the data points such that positive data are plotted with green dots, and negative data with red dots.\n",
    "\n",
    "Then, we need to compute the line parameters. For this purpose, we define the separating line in Cartesian coordinates $f_{\\vec w}(\\vec x) = 0$ and solve it to the parametric form $x_2 = \\beta x_1 + \\gamma$."
   ]
  },
  {
   "cell_type": "code",
   "execution_count": 15,
   "metadata": {},
   "outputs": [
    {
     "data": {
      "image/png": "[encoded data removed]",
      "text/plain": [
       "<Figure size 800x800 with 1 Axes>"
      ]
     },
     "metadata": {},
     "output_type": "display_data"
    }
   ],
   "source": [
    "def line_parameters(w):\n",
    "  # compute parametric line parameters from Cartesian coordinates\n",
    "  beta = -w[1]/w[2]\n",
    "  gamma = -w[0]/w[2]\n",
    "  return beta, gamma\n",
    "\n",
    "\n",
    "from matplotlib import pyplot\n",
    "\n",
    "# create a square plot\n",
    "pyplot.figure(figsize=(8,8))\n",
    "N = int(len(X)/2)\n",
    "# plot the positive data points\n",
    "pyplot.plot(X[:N][:,1], X[:N][:,2], \"g.\", label=\"positive data\")\n",
    "# plot the negative data points\n",
    "pyplot.plot(X[N:][:,1], X[N:][:,2], \"r.\", label=\"negative data\")\n",
    "\n",
    "# define positions where to evaluate the line:\n",
    "x1 = np.array([-3,3])\n",
    "\n",
    "# compute line parameters for manual line\n",
    "beta, gamma = line_parameters(w_manual)\n",
    "# now, compute the values according to our parametric form:\n",
    "x2 = beta * x1 + gamma\n",
    "# plot manual line\n",
    "pyplot.plot(x1, x2, \"m-\", label=\"manual line\")\n",
    "\n",
    "# compute line parameters for optimized line\n",
    "beta, gamma = line_parameters(w_star)\n",
    "# now, compute the values according to our parametric form:\n",
    "x2 = beta * x1 + gamma\n",
    "# plot optimized line\n",
    "pyplot.plot(x1, x2, \"b-\", label=\"optimized line\")\n",
    "\n",
    "# make the plot more beautiful\n",
    "pyplot.show()"
   ]
  }
 ],
 "metadata": {
  "kernelspec": {
   "display_name": "Python 3 (ipykernel)",
   "language": "python",
   "name": "python3"
  },
  "language_info": {
   "codemirror_mode": {
    "name": "ipython",
    "version": 3
   },
   "file_extension": ".py",
   "mimetype": "text/x-python",
   "name": "python",
   "nbconvert_exporter": "python",
   "pygments_lexer": "ipython3",
   "version": "3.9.13"
  },
  "vscode": {
   "interpreter": {
    "hash": "a29cabff5744fce69e08a959ab87b9e77a9f67b498d08783caa8c3bb16f23a00"
   }
  }
 },
 "nbformat": 4,
 "nbformat_minor": 4
}

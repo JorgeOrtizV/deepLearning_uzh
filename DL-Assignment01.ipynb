{
 "cells": [
  {
   "cell_type": "markdown",
   "metadata": {},
   "source": [
    "### Group Members:\n",
    "\n",
    "- Varun Ghat Ravikumar, matriculation number\n",
    "- Shantam Raj, matriculation number\n",
    "- Jorge Alejandro Ortiz Valerio, 23-743-958"
   ]
  },
  {
   "cell_type": "markdown",
   "metadata": {},
   "source": [
    "# Assignment 1: Perceptron Learning\n",
    "\n",
    "The goal of this exercise is to apply the perceptron learning to a total of $N=100$ automatically generated, separable random data $X=\\bigl\\{\\vec x^1, \\vec x^2,\\ldots,\\vec x^ N \\bigr\\}$ with each $\\vec x^n = \\bigl(x_1^n, x_2^n\\bigr)^T$.\n",
    "Each data point $\\vec x^n$ is accompanied by an according target value $X=\\bigl\\{t^1, t^2,\\ldots,t^ N\\bigr\\}$ with $t^n \\in \\{-1,+1\\}$.\n",
    "\n",
    "## Data Generation\n",
    "The data should be generated such that\n",
    "$\\forall n\\leq\\frac N2\\colon \\vec x^n \\sim \\mathcal N_{\\vec\\mu_+, \\sigma_+}$.\n",
    "These samples will be our positive data labeled with $t^n=1$.\n",
    "Similarly, we generate our negative data with\n",
    "$\\forall n>\\frac N2\\colon \\vec x^n \\sim \\mathcal N_{\\vec\\mu_-, \\sigma_-}$\n",
    "and label them as $t^n=-1$.\n",
    "\n",
    "### Task 1: Data Samples\n",
    "\n",
    "Given the number of samples and the means (mu) and standard deviations (sigma) of positive (pos) and negative (neg) data, generate and return data samples including their labels. Remember to add the bias neuron $x_0=1$ to each of the samples.\n",
    "\n",
    "Hints:\n",
    "1. Use `numpy` package to generate data.\n",
    "2. Exemplary means could be selected as: $\\vec\\mu_+=(-5,3)^T$ and $\\vec\\mu_- = (5, -3)^T$. The standard deviations $\\sigma_+$ and $\\sigma_-$ should be selected such that the data is most likely separable."
   ]
  },
  {
   "cell_type": "code",
   "execution_count": 148,
   "metadata": {},
   "outputs": [],
   "source": [
    "import numpy\n",
    "import numpy as np\n",
    "\n",
    "def dataset(number_of_samples, mu_pos, sigma_pos, mu_neg, sigma_neg):\n",
    "  number_of_samples = int(number_of_samples/2)\n",
    "  # create positive and negative data\n",
    "  positive_data = np.random.normal(mu_pos, sigma_pos, size=(number_of_samples, len(mu_pos)))\n",
    "  negative_data = np.random.normal(mu_neg, sigma_neg, size=(number_of_samples, len(mu_neg)))\n",
    "\n",
    "  # assign positive and negative labels\n",
    "  positive_labels = np.ones((number_of_samples, 1))\n",
    "  negative_labels = -1*np.ones((number_of_samples, 1))\n",
    "\n",
    "  # concatenate positive and negative data\n",
    "  all_data = np.concatenate((positive_data, negative_data), axis=0)\n",
    "  all_labels = np.concatenate((positive_labels, negative_labels), axis=0)\n",
    "\n",
    "  # anything else to consider?\n",
    "  all_data = np.concatenate((np.ones((number_of_samples*2, 1)), all_data), axis=1)\n",
    "\n",
    "  # return both X and T\n",
    "  return all_data, all_labels"
   ]
  },
  {
   "cell_type": "markdown",
   "metadata": {},
   "source": [
    "### Task 2: Select Data Parameters and Line Parameters\n",
    "\n",
    "We want to select data points such that we exactly know where the ideal separating line should be placed.\n",
    "Note that data samples are not always separable since they are generated randomly.\n",
    "You should determine, which means and standard deviations are useful.\n",
    "\n",
    "Once you have defined your means, you should also define the separating line.\n",
    "The easiest is to provide it as Cartesian equation: $w_0 + w_1 x_1 + w_2 x_2$.\n",
    "Note that the separating line is orthogonal to the vector $\\overrightarrow{\\vec\\mu_- \\vec\\mu_+}$, that the normal of the line $(w_1, w_2)^T$ is orthogonal to the line, and that $w_0$ should be selected such that the line $\\vec w$ is in the middle of $\\vec\\mu_+$ and $\\vec\\mu_-$."
   ]
  },
  {
   "cell_type": "code",
   "execution_count": 149,
   "metadata": {},
   "outputs": [],
   "source": [
    "mu_pos=np.array([-5, 3])\n",
    "sigma_pos=0.5\n",
    "mu_neg=np.array([5,-3])\n",
    "sigma_neg=0.5\n",
    "\n",
    "\n",
    "X, T = dataset(100, mu_pos, sigma_pos, mu_neg, sigma_neg)\n",
    "# I return T as a column vector, so we need to traspose it\n",
    "T = T.T\n",
    "\n",
    "w_manual = np.array([0, -1, -1])"
   ]
  },
  {
   "cell_type": "code",
   "execution_count": 150,
   "metadata": {},
   "outputs": [
    {
     "data": {
      "text/plain": [
       "array([[ 1.        , -4.69831868,  3.2299722 ],\n",
       "       [ 1.        , -5.33470642,  3.44131273],\n",
       "       [ 1.        , -5.40560787,  3.26426612],\n",
       "       [ 1.        , -4.80681512,  3.61385537],\n",
       "       [ 1.        , -4.46908694,  3.15852521],\n",
       "       [ 1.        , -5.10890477,  3.14085022],\n",
       "       [ 1.        , -5.07248972,  2.97627508],\n",
       "       [ 1.        , -5.57370211,  3.74842774],\n",
       "       [ 1.        , -5.15373666,  2.92898518],\n",
       "       [ 1.        , -4.34407984,  3.22993406],\n",
       "       [ 1.        , -5.31875001,  3.86619164],\n",
       "       [ 1.        , -4.91618621,  3.78143451],\n",
       "       [ 1.        , -5.46491818,  3.6098624 ],\n",
       "       [ 1.        , -4.90570121,  3.93500205],\n",
       "       [ 1.        , -5.58160326,  3.91491341],\n",
       "       [ 1.        , -4.36893917,  2.25221754],\n",
       "       [ 1.        , -5.88046663,  2.94561866],\n",
       "       [ 1.        , -4.34479503,  2.97191697],\n",
       "       [ 1.        , -5.30099754,  2.69592941],\n",
       "       [ 1.        , -5.02961977,  2.51191929],\n",
       "       [ 1.        , -5.27783963,  2.97734788],\n",
       "       [ 1.        , -4.43676042,  3.66091393],\n",
       "       [ 1.        , -4.7025495 ,  2.22256482],\n",
       "       [ 1.        , -5.14370134,  2.20651894],\n",
       "       [ 1.        , -4.42701205,  2.84900607],\n",
       "       [ 1.        , -5.94274528,  2.40205483],\n",
       "       [ 1.        , -5.04560383,  2.60357199],\n",
       "       [ 1.        , -4.96427445,  2.76234487],\n",
       "       [ 1.        , -4.9260621 ,  3.32868412],\n",
       "       [ 1.        , -4.79128   ,  3.1457046 ],\n",
       "       [ 1.        , -4.98571803,  3.02736796],\n",
       "       [ 1.        , -3.94099405,  2.97059192],\n",
       "       [ 1.        , -4.71035454,  2.88365579],\n",
       "       [ 1.        , -5.27236575,  3.30673081],\n",
       "       [ 1.        , -4.71030934,  2.62466363],\n",
       "       [ 1.        , -4.48248367,  3.10684765],\n",
       "       [ 1.        , -4.41268771,  2.69531475],\n",
       "       [ 1.        , -4.74677855,  2.07902803],\n",
       "       [ 1.        , -5.23510369,  3.68842844],\n",
       "       [ 1.        , -4.08277678,  3.29370996],\n",
       "       [ 1.        , -5.18966825,  3.55702089],\n",
       "       [ 1.        , -4.44623734,  3.24307598],\n",
       "       [ 1.        , -5.28493131,  2.92314065],\n",
       "       [ 1.        , -4.86143972,  3.73803484],\n",
       "       [ 1.        , -4.59885326,  3.9065509 ],\n",
       "       [ 1.        , -5.22001532,  2.25374007],\n",
       "       [ 1.        , -5.52494783,  2.76494402],\n",
       "       [ 1.        , -5.07310861,  3.80430442],\n",
       "       [ 1.        , -5.12707752,  3.74406896],\n",
       "       [ 1.        , -5.10235274,  2.66225253],\n",
       "       [ 1.        ,  5.82941168, -2.75054376],\n",
       "       [ 1.        ,  5.3751573 , -3.88448905],\n",
       "       [ 1.        ,  4.87607974, -2.50593969],\n",
       "       [ 1.        ,  5.2941422 , -2.4851451 ],\n",
       "       [ 1.        ,  4.44937155, -3.16573162],\n",
       "       [ 1.        ,  5.10857619, -3.45491615],\n",
       "       [ 1.        ,  4.70331595, -2.9452613 ],\n",
       "       [ 1.        ,  5.82795337, -2.29811198],\n",
       "       [ 1.        ,  5.76308973, -2.56811412],\n",
       "       [ 1.        ,  5.25904804, -3.3256047 ],\n",
       "       [ 1.        ,  4.44503304, -3.005435  ],\n",
       "       [ 1.        ,  5.19522576, -3.11706059],\n",
       "       [ 1.        ,  5.66224913, -3.04123634],\n",
       "       [ 1.        ,  4.86063909, -3.82605072],\n",
       "       [ 1.        ,  5.12310776, -2.08059249],\n",
       "       [ 1.        ,  4.63076288, -3.7374728 ],\n",
       "       [ 1.        ,  4.33667767, -1.21951598],\n",
       "       [ 1.        ,  5.23438537, -3.03220861],\n",
       "       [ 1.        ,  5.04626722, -3.18705478],\n",
       "       [ 1.        ,  5.408311  , -2.33377121],\n",
       "       [ 1.        ,  5.17458056, -2.43353191],\n",
       "       [ 1.        ,  5.28212037, -3.24868638],\n",
       "       [ 1.        ,  3.8944888 , -2.49720381],\n",
       "       [ 1.        ,  5.43868875, -2.15270869],\n",
       "       [ 1.        ,  4.98282665, -2.60113794],\n",
       "       [ 1.        ,  5.00239517, -2.98223489],\n",
       "       [ 1.        ,  4.53726794, -2.51484705],\n",
       "       [ 1.        ,  4.55572612, -3.07817938],\n",
       "       [ 1.        ,  4.02275728, -2.85360334],\n",
       "       [ 1.        ,  4.59461191, -2.29999864],\n",
       "       [ 1.        ,  4.88928856, -3.65461686],\n",
       "       [ 1.        ,  4.49834586, -3.21958348],\n",
       "       [ 1.        ,  4.70900279, -3.68923223],\n",
       "       [ 1.        ,  5.59873622, -3.48475969],\n",
       "       [ 1.        ,  5.16234576, -2.06455374],\n",
       "       [ 1.        ,  4.6114747 , -3.53521565],\n",
       "       [ 1.        ,  5.37262461, -2.41476743],\n",
       "       [ 1.        ,  5.30279945, -2.28079524],\n",
       "       [ 1.        ,  5.0083795 , -3.16628257],\n",
       "       [ 1.        ,  4.95342385, -2.84029926],\n",
       "       [ 1.        ,  6.07337575, -3.55361757],\n",
       "       [ 1.        ,  5.2847526 , -3.07723906],\n",
       "       [ 1.        ,  4.61064566, -3.06837889],\n",
       "       [ 1.        ,  4.60383209, -2.84515336],\n",
       "       [ 1.        ,  4.96419903, -2.2050712 ],\n",
       "       [ 1.        ,  4.58310898, -3.10767235],\n",
       "       [ 1.        ,  3.93678363, -2.43862403],\n",
       "       [ 1.        ,  5.68242249, -2.63656589],\n",
       "       [ 1.        ,  4.64536414, -2.23115805],\n",
       "       [ 1.        ,  5.41978816, -3.21507295]])"
      ]
     },
     "execution_count": 150,
     "metadata": {},
     "output_type": "execute_result"
    }
   ],
   "source": [
    "X"
   ]
  },
  {
   "cell_type": "code",
   "execution_count": 151,
   "metadata": {},
   "outputs": [
    {
     "data": {
      "text/plain": [
       "(1, 100)"
      ]
     },
     "execution_count": 151,
     "metadata": {},
     "output_type": "execute_result"
    }
   ],
   "source": [
    "T.shape"
   ]
  },
  {
   "cell_type": "code",
   "execution_count": 152,
   "metadata": {},
   "outputs": [
    {
     "data": {
      "text/plain": [
       "array([[1.46834648, 1.89339369, 2.14134176, 1.19295975, 1.31056173,\n",
       "        1.96805455, 2.09621464, 1.82527437, 2.22475148, 1.11414579,\n",
       "        1.45255837, 1.1347517 , 1.85505578, 0.97069916, 1.66668985,\n",
       "        2.11672163, 2.93484796, 1.37287806, 2.60506812, 2.51770048,\n",
       "        2.30049176, 0.7758465 , 2.47998469, 2.93718241, 1.57800598,\n",
       "        3.54069046, 2.44203184, 2.20192958, 1.59737798, 1.6455754 ,\n",
       "        1.95835007, 0.97040213, 1.82669875, 1.96563494, 2.08564571,\n",
       "        1.37563602, 1.71737296, 2.66775052, 1.54667525, 0.78906682,\n",
       "        1.63264736, 1.20316135, 2.36179066, 1.12340489, 0.69230236,\n",
       "        2.96627525, 2.76000381, 1.2688042 , 1.38300856, 2.44010022,\n",
       "        3.07886791, 1.49066825, 2.37014005, 2.80899709, 1.28363992,\n",
       "        1.65366004, 1.75805466, 3.52984139, 3.19497561, 1.93344334,\n",
       "        1.43959805, 2.07816517, 2.62101279, 1.03458837, 3.04251526,\n",
       "        0.89329008, 3.11716168, 2.20217677, 1.85921244, 3.07453979,\n",
       "        2.74104865, 2.033434  , 1.39728499, 3.28598005, 2.38168871,\n",
       "        2.02016028, 2.02242089, 1.47754673, 1.16915394, 2.29461327,\n",
       "        1.23467169, 1.27876238, 1.01977056, 2.11397652, 3.09779202,\n",
       "        1.07625905, 2.95785718, 3.02200421, 1.84209692, 2.11312459,\n",
       "        2.51975818, 2.20751354, 1.54226678, 1.75867873, 2.75912782,\n",
       "        1.47543662, 1.49815961, 3.04585661, 2.41420609, 2.20471522]])"
      ]
     },
     "execution_count": 152,
     "metadata": {},
     "output_type": "execute_result"
    }
   ],
   "source": [
    "X.dot(w_manual)*T"
   ]
  },
  {
   "cell_type": "markdown",
   "metadata": {},
   "source": [
    "### Test 1: Linear Separability Test\n",
    "\n",
    "A line $a = f_{\\vec w}(\\vec x) = w_0 + w_1 x_1 + w_2 x_2$ linearly separates the data $(X,T)$ if $\\forall n: a^{[n]} t^{[n]} > 0$ for $a^{[n]} = f_{\\vec w}(\\vec x^{[n]})$.\n",
    "The below function implements this linear separability test. We apply this test to your data $(X,T)$ from Task 1 and your manually selected line $\\vec w$ from Task 2 to assure that the line separates the data."
   ]
  },
  {
   "cell_type": "code",
   "execution_count": 153,
   "metadata": {},
   "outputs": [
    {
     "name": "stdout",
     "output_type": "stream",
     "text": [
      "[[1.46834648 1.89339369 2.14134176 1.19295975 1.31056173 1.96805455\n",
      "  2.09621464 1.82527437 2.22475148 1.11414579 1.45255837 1.1347517\n",
      "  1.85505578 0.97069916 1.66668985 2.11672163 2.93484796 1.37287806\n",
      "  2.60506812 2.51770048 2.30049176 0.7758465  2.47998469 2.93718241\n",
      "  1.57800598 3.54069046 2.44203184 2.20192958 1.59737798 1.6455754\n",
      "  1.95835007 0.97040213 1.82669875 1.96563494 2.08564571 1.37563602\n",
      "  1.71737296 2.66775052 1.54667525 0.78906682 1.63264736 1.20316135\n",
      "  2.36179066 1.12340489 0.69230236 2.96627525 2.76000381 1.2688042\n",
      "  1.38300856 2.44010022 3.07886791 1.49066825 2.37014005 2.80899709\n",
      "  1.28363992 1.65366004 1.75805466 3.52984139 3.19497561 1.93344334\n",
      "  1.43959805 2.07816517 2.62101279 1.03458837 3.04251526 0.89329008\n",
      "  3.11716168 2.20217677 1.85921244 3.07453979 2.74104865 2.033434\n",
      "  1.39728499 3.28598005 2.38168871 2.02016028 2.02242089 1.47754673\n",
      "  1.16915394 2.29461327 1.23467169 1.27876238 1.01977056 2.11397652\n",
      "  3.09779202 1.07625905 2.95785718 3.02200421 1.84209692 2.11312459\n",
      "  2.51975818 2.20751354 1.54226678 1.75867873 2.75912782 1.47543662\n",
      "  1.49815961 3.04585661 2.41420609 2.20471522]]\n",
      "The data is separated by the manually selected line\n"
     ]
    }
   ],
   "source": [
    "def separability_test(X, T, w):\n",
    "  print(np.dot(X,w) * T)\n",
    "  return numpy.all(numpy.dot(X,w) * T > 0)\n",
    "\n",
    "# Test 1: check that the weights are separating the data\n",
    "if separability_test(X, T, w_manual):\n",
    "  print(\"The data is separated by the manually selected line\")\n",
    "else:\n",
    "  print(\"The anually selected line does not separate the data\")"
   ]
  },
  {
   "cell_type": "markdown",
   "metadata": {},
   "source": [
    "### Task 3: Perceptron\n",
    "\n",
    "The perceptron is defined as the Adaline $$a = f_{\\vec w}(\\vec x)$$ that is thresholded using the sign function $$\\mathrm{sign}(a) = \\begin{cases} +1 &\\text{if } a \\geq 0\\\\ -1 & \\text{otherwise.}\\end{cases}$$\n",
    "Implement a function that computes and returns the perceptron for a given data point $\\vec x$ and line parameters $\\vec w$."
   ]
  },
  {
   "cell_type": "code",
   "execution_count": 154,
   "metadata": {},
   "outputs": [],
   "source": [
    "def perceptron(x, w):\n",
    "  activation = np.dot(x,w)\n",
    "  if activation>=0:\n",
    "    return 1\n",
    "  return -1"
   ]
  },
  {
   "cell_type": "markdown",
   "metadata": {},
   "source": [
    "## Perceptron Learning\n",
    "\n",
    "The perceptron learning rule is defined as follows.\n",
    "First, the weights $\\vec w = (w_0, w_1, w_2)^T$ are initialized randomly.\n",
    "Then, for each sample $(x,t)$ of the dataset we check if the sample is correctly classified as $H(f_{\\vec w}(\\vec x)) t > 0$.\n",
    "If the sample is classified incorrectly, the weights are adapted: $w_0 = w_0 + t$, $w_1 = w_1 + tx_1$, $w_2 = w_2 + tx_2$.\n",
    "This step is repeated until all samples are classified correctly.\n",
    "\n",
    "\n",
    "### Task 4: Perceptron Learning Implementation\n",
    "\n",
    "Implement a function that performs perceptron learning for a given dataset $(X,T)$ and a given initial weight vector $\\vec w$.\n",
    "The final weight vector $\\vec w^*$ shall be returned from that function.\n",
    "Define a proper stopping criterion for the iteration.\n",
    "Consider in your implementation error cases that could arise.\n"
   ]
  },
  {
   "cell_type": "code",
   "execution_count": 155,
   "metadata": {},
   "outputs": [],
   "source": [
    "def perceptron_learning(X, T, w):\n",
    "  # first, make a copy of your weights\n",
    "  w_star = w.copy()\n",
    "\n",
    "  # then, iterate over the data and perform perceptron learning\n",
    "  # Adding epoch iterations\n",
    "  max_epoch = 10\n",
    "  epoch = 0\n",
    "  while not separability_test(X, T, w_star) and epoch<max_epoch:\n",
    "      for i in range(X.shape[0]):\n",
    "        result = perceptron(X[i,:], w_star)\n",
    "        expected = T[:, i]\n",
    "        if result != expected:\n",
    "            w_star = w_star + (T@X).reshape(3)\n",
    "      epoch+=1\n",
    "\n",
    "  # finally, return the optimal weights\n",
    "  return w_star"
   ]
  },
  {
   "cell_type": "markdown",
   "metadata": {},
   "source": [
    "### Test 2: Sanity Check\n",
    "\n",
    "We call the perceptron learning function with the data from task 1 and the manual line from task 2. If the line separates the data, it should not be changed. Here we test if this is the actual outcome of the perceptron learning function."
   ]
  },
  {
   "cell_type": "code",
   "execution_count": 156,
   "metadata": {},
   "outputs": [
    {
     "name": "stdout",
     "output_type": "stream",
     "text": [
      "[[1.46834648 1.89339369 2.14134176 1.19295975 1.31056173 1.96805455\n",
      "  2.09621464 1.82527437 2.22475148 1.11414579 1.45255837 1.1347517\n",
      "  1.85505578 0.97069916 1.66668985 2.11672163 2.93484796 1.37287806\n",
      "  2.60506812 2.51770048 2.30049176 0.7758465  2.47998469 2.93718241\n",
      "  1.57800598 3.54069046 2.44203184 2.20192958 1.59737798 1.6455754\n",
      "  1.95835007 0.97040213 1.82669875 1.96563494 2.08564571 1.37563602\n",
      "  1.71737296 2.66775052 1.54667525 0.78906682 1.63264736 1.20316135\n",
      "  2.36179066 1.12340489 0.69230236 2.96627525 2.76000381 1.2688042\n",
      "  1.38300856 2.44010022 3.07886791 1.49066825 2.37014005 2.80899709\n",
      "  1.28363992 1.65366004 1.75805466 3.52984139 3.19497561 1.93344334\n",
      "  1.43959805 2.07816517 2.62101279 1.03458837 3.04251526 0.89329008\n",
      "  3.11716168 2.20217677 1.85921244 3.07453979 2.74104865 2.033434\n",
      "  1.39728499 3.28598005 2.38168871 2.02016028 2.02242089 1.47754673\n",
      "  1.16915394 2.29461327 1.23467169 1.27876238 1.01977056 2.11397652\n",
      "  3.09779202 1.07625905 2.95785718 3.02200421 1.84209692 2.11312459\n",
      "  2.51975818 2.20751354 1.54226678 1.75867873 2.75912782 1.47543662\n",
      "  1.49815961 3.04585661 2.41420609 2.20471522]]\n",
      "As desired, perceptron learning does not optimize an already separating line\n"
     ]
    }
   ],
   "source": [
    "w_star = perceptron_learning(X, T, w_manual)\n",
    "\n",
    "# check if the output is as expected\n",
    "if numpy.any(w_manual != w_star):\n",
    "    print(\"Warning: the perceptron algorithm seems to be wrong\")\n",
    "else:\n",
    "    print(\"As desired, perceptron learning does not optimize an already separating line\")"
   ]
  },
  {
   "cell_type": "markdown",
   "metadata": {},
   "source": [
    "### Task 5: Weight Initialization\n",
    "\n",
    "Implement a function that generates and returns randomly initialized weights $\\vec w \\in [-1,1]^3$."
   ]
  },
  {
   "cell_type": "code",
   "execution_count": 157,
   "metadata": {},
   "outputs": [],
   "source": [
    "def random_weights(lowest = -1, highest = 1):\n",
    "  return np.random.uniform(lowest, highest, size=(3,))"
   ]
  },
  {
   "cell_type": "markdown",
   "metadata": {},
   "source": [
    "### Task 6: Perceptron Learning Execution\n",
    "\n",
    "Call the perceptron learning function with the data from task 1 and the randomly generated initial weight vector from task 5.\n",
    "Store the resulting weight vector $\\vec w^*$."
   ]
  },
  {
   "cell_type": "code",
   "execution_count": 158,
   "metadata": {},
   "outputs": [
    {
     "name": "stdout",
     "output_type": "stream",
     "text": [
      "[[-0.70777612 -0.94332056 -1.03755888 -0.63002061 -0.62134498 -0.93617554\n",
      "  -0.97438481 -0.95457931 -1.02963266 -0.53679845 -0.79159533 -0.62600884\n",
      "  -0.94903957 -0.56889227 -0.90195879 -0.88021894 -1.37478589 -0.62460487\n",
      "  -1.17971524 -1.1110963  -1.07314328 -0.43544407 -1.05130371 -1.26968624\n",
      "  -0.70595457 -1.58910198 -1.08774386 -0.99466633 -0.78424674 -0.78121299\n",
      "  -0.91518105 -0.43013985 -0.83097823 -0.95884864 -0.91874814 -0.64532893\n",
      "  -0.75113767 -1.12130832 -0.81147655 -0.38904942 -0.83408873 -0.58165495\n",
      "  -1.09494129 -0.61429416 -0.4304214  -1.29051613 -1.26442155 -0.69400275\n",
      "  -0.74047175 -1.09524528 -2.34670265 -1.74305619 -1.96944517 -2.17829217\n",
      "  -1.53982109 -1.7599921  -1.73713352 -2.49936154 -2.37652812 -1.87645793\n",
      "  -1.59206336 -1.91634213 -2.16747616 -1.51450806 -2.23286709 -1.43357278\n",
      "  -2.14514131 -1.96400708 -1.82071381 -2.28471318 -2.13807549 -1.91366826\n",
      "  -1.49859381 -2.36075205 -1.98870198 -1.86896554 -1.80288181 -1.62083627\n",
      "  -1.43969849 -1.90338979 -1.58644881 -1.54520652 -1.4876914  -1.98647547\n",
      "  -2.25724395 -1.49282241 -2.24003176 -2.2517404  -1.8094667  -1.89343971\n",
      "  -2.19224225 -1.97305509 -1.65066798 -1.72304683 -2.11396696 -1.62405657\n",
      "  -1.53886652 -2.31438676 -1.95122302 -1.99151441]]\n",
      "[[3302.81330115 3682.41727227 3664.66374039 3471.65852506 3167.47781439\n",
      "  3480.23250886 3412.86651964 3893.15201203 3439.09744686 3126.71410732\n",
      "  3801.67032877 3576.18929887 3797.59820483 3616.94679416 3946.91599747\n",
      "  2846.39817457 3805.32511385 3049.83384715 3442.53526215 3252.55444864\n",
      "  3515.26457367 3301.79555769 3003.35542278 3217.8433541  3053.91032872\n",
      "  3673.57070591 3287.93557764 3295.03539527 3445.57054073 3323.79826511\n",
      "  3385.0277036  2848.71269263 3205.12857318 3611.14225183 3127.57845816\n",
      "  3158.66782046 3000.78335649 2982.37432146 3706.87848745 3015.91447385\n",
      "  3644.9570794  3181.42929389 3502.56316904 3535.98407687 3455.89977633\n",
      "  3269.91343923 3574.51728167 3661.03945644 3669.83563872 3333.71041406\n",
      "  3720.6214635  3834.25647232 3173.5111968  3375.10018457 3158.90429523\n",
      "  3573.15236926 3219.14055775 3584.4639912  3633.04448696 3609.24152646\n",
      "  3108.76390778 3515.08990254 3724.54398355 3561.00265028 3168.98082276\n",
      "  3420.2187737  2520.29832503 3509.15576859 3461.99675844 3386.53928754\n",
      "  3300.21747958 3597.68548787 2682.95936345 3347.43978199 3255.07076572\n",
      "  3378.87697341 3007.7583729  3185.56364199 2853.40597196 2971.94985365\n",
      "  3523.92631501 3199.36903838 3444.67036069 3825.7383783  3183.68445186\n",
      "  3350.08647087 3393.04572171 3318.23276779 3436.94520805 3312.04640494\n",
      "  4082.28802362 3547.67227686 3209.92975776 3139.72167578 3127.25115064\n",
      "  3208.00385796 2686.44812055 3613.43639641 2976.57117692 3656.05649217]]\n"
     ]
    },
    {
     "data": {
      "text/plain": [
       "array([0.46521775, 0.48269862, 0.33897446])"
      ]
     },
     "execution_count": 158,
     "metadata": {},
     "output_type": "execute_result"
    }
   ],
   "source": [
    "# create random weights\n",
    "w_initial = random_weights()\n",
    "\n",
    "# perform perceptron learning\n",
    "w_star = perceptron_learning(X, T, w_initial)\n",
    "\n",
    "w_initial"
   ]
  },
  {
   "cell_type": "markdown",
   "metadata": {},
   "source": [
    "### Test 3: Result Validation\n",
    "\n",
    "We verify that the optimized $\\vec w^*$ actually separates the data."
   ]
  },
  {
   "cell_type": "code",
   "execution_count": 159,
   "metadata": {},
   "outputs": [
    {
     "name": "stdout",
     "output_type": "stream",
     "text": [
      "[[3302.81330115 3682.41727227 3664.66374039 3471.65852506 3167.47781439\n",
      "  3480.23250886 3412.86651964 3893.15201203 3439.09744686 3126.71410732\n",
      "  3801.67032877 3576.18929887 3797.59820483 3616.94679416 3946.91599747\n",
      "  2846.39817457 3805.32511385 3049.83384715 3442.53526215 3252.55444864\n",
      "  3515.26457367 3301.79555769 3003.35542278 3217.8433541  3053.91032872\n",
      "  3673.57070591 3287.93557764 3295.03539527 3445.57054073 3323.79826511\n",
      "  3385.0277036  2848.71269263 3205.12857318 3611.14225183 3127.57845816\n",
      "  3158.66782046 3000.78335649 2982.37432146 3706.87848745 3015.91447385\n",
      "  3644.9570794  3181.42929389 3502.56316904 3535.98407687 3455.89977633\n",
      "  3269.91343923 3574.51728167 3661.03945644 3669.83563872 3333.71041406\n",
      "  3720.6214635  3834.25647232 3173.5111968  3375.10018457 3158.90429523\n",
      "  3573.15236926 3219.14055775 3584.4639912  3633.04448696 3609.24152646\n",
      "  3108.76390778 3515.08990254 3724.54398355 3561.00265028 3168.98082276\n",
      "  3420.2187737  2520.29832503 3509.15576859 3461.99675844 3386.53928754\n",
      "  3300.21747958 3597.68548787 2682.95936345 3347.43978199 3255.07076572\n",
      "  3378.87697341 3007.7583729  3185.56364199 2853.40597196 2971.94985365\n",
      "  3523.92631501 3199.36903838 3444.67036069 3825.7383783  3183.68445186\n",
      "  3350.08647087 3393.04572171 3318.23276779 3436.94520805 3312.04640494\n",
      "  4082.28802362 3547.67227686 3209.92975776 3139.72167578 3127.25115064\n",
      "  3208.00385796 2686.44812055 3613.43639641 2976.57117692 3656.05649217]]\n",
      "The data is separated by the optimal line\n"
     ]
    }
   ],
   "source": [
    "# verify that we have learned to separate the data\n",
    "if separability_test(X, T, w_star):\n",
    "  print(\"The data is separated by the optimal line\")\n",
    "else:\n",
    "  print(\"The optimal line does not separate the data\")"
   ]
  },
  {
   "cell_type": "markdown",
   "metadata": {},
   "source": [
    "## Visualization\n",
    "\n",
    "We have selected our data to be 2-dimensional to be able to visualize the results.\n",
    "For this purpose, we would like to jointly plot the positive and the negative data from Task 1 together with the decision boundaries of the weight vectors obtained in Tasks 2 and 6.\n",
    "An example can be found in the exercise slides.\n",
    "\n",
    "### Task 7: Plotting\n",
    "\n",
    "First, we need to plot the data points such that positive data are plotted with green dots, and negative data with red dots.\n",
    "\n",
    "Then, we need to compute the line parameters. For this purpose, we define the separating line in Cartesian coordinates $f_{\\vec w}(\\vec x) = 0$ and solve it to the parametric form $x_2 = \\beta x_1 + \\gamma$."
   ]
  },
  {
   "cell_type": "code",
   "execution_count": 160,
   "metadata": {},
   "outputs": [
    {
     "data": {
      "image/png": "[encoded data removed]",
      "text/plain": [
       "<Figure size 800x800 with 1 Axes>"
      ]
     },
     "metadata": {},
     "output_type": "display_data"
    }
   ],
   "source": [
    "def line_parameters(w):\n",
    "  # compute parametric line parameters from Cartesian coordinates\n",
    "  beta = -1*(w[1]/w[2])\n",
    "  gamma = -1*(w[0]/w[2])\n",
    "  return beta, gamma\n",
    "\n",
    "\n",
    "from matplotlib import pyplot\n",
    "\n",
    "# create a square plot\n",
    "pyplot.figure(figsize=(8,8))\n",
    "\n",
    "# plot the positive data points\n",
    "pyplot.plot(X[:50,1], X[:50, 2], \"g.\", label=\"positive data\")\n",
    "# plot the negative data points\n",
    "pyplot.plot(X[50:,1], X[50:,2], \"r.\", label=\"negative data\")\n",
    "\n",
    "# define positions where to evaluate the line:\n",
    "x1 = np.array([-3,3])\n",
    "\n",
    "# compute line parameters for manual line\n",
    "beta, gamma = line_parameters(w_manual)\n",
    "# now, compute the values according to our parametric form:\n",
    "x2 = beta * x1 + gamma\n",
    "# plot manual line\n",
    "pyplot.plot(x1, x2, \"m-\", label=\"manual line\")\n",
    "\n",
    "# compute line parameters for optimized line\n",
    "beta, gamma = line_parameters(w_star)\n",
    "# now, compute the values according to our parametric form:\n",
    "x2 = beta * x1 + gamma\n",
    "# plot optimized line\n",
    "pyplot.plot(x1, x2, \"b-\", label=\"optimized line\")\n",
    "\n",
    "# make the plot more beautiful\n",
    "pyplot.show()"
   ]
  },
  {
   "cell_type": "code",
   "execution_count": null,
   "metadata": {},
   "outputs": [],
   "source": []
  }
 ],
 "metadata": {
  "kernelspec": {
   "display_name": "Python 3 (ipykernel)",
   "language": "python",
   "name": "python3"
  },
  "language_info": {
   "codemirror_mode": {
    "name": "ipython",
    "version": 3
   },
   "file_extension": ".py",
   "mimetype": "text/x-python",
   "name": "python",
   "nbconvert_exporter": "python",
   "pygments_lexer": "ipython3",
   "version": "3.10.13"
  },
  "vscode": {
   "interpreter": {
    "hash": "a29cabff5744fce69e08a959ab87b9e77a9f67b498d08783caa8c3bb16f23a00"
   }
  }
 },
 "nbformat": 4,
 "nbformat_minor": 2
}

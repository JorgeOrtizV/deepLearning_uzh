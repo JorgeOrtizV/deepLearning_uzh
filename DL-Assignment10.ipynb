{
 "cells": [
  {
   "cell_type": "markdown",
   "metadata": {},
   "source": [
    "### Group Members:\n",
    "\n",
    "- Shantam raj, 21-743-034\n",
    "- Jorge Alejandro Ortiz Valerio, 23-743-958\n",
    "- Varun Ghat Ravikumar,  23-744-535"
   ]
  },
  {
   "cell_type": "markdown",
   "metadata": {},
   "source": [
    "# Assignment 10: Predict Stock Price\n",
    "\n",
    "In this assignment we will construct a simple recurrent network with a single hidden layer: a long short-term memory network (LSTM).\n",
    "This network will be trained on historical stock market datasets of two distinct companies, and our objective is to leverage them for predicting their future stock prices.\n",
    "\n",
    "Given that our dataset is non-textual, we will skip any text-based data transformations during the network training process, focusing only on normalization of the data.\n",
    "Basically, the dataset comprises the daily closing prices of a stock in the market spanning from early 2000 to 2021.\n",
    "Since we will be working with a single time series feature, it is important to select the appropriate dimension $D$ to represent the stock price at each time step.\n",
    "\n",
    "Price sequences of length $S$ will, hence, be turned into matrices of size $\\mathbf X = \\{\\vec x^{\\{s\\}}, 1 \\leq s\\leq S\\} \\in \\mathbb R^{S\\times D}$.\n",
    "For each input, you should provide the target value $\\mathbf T$ based on a sequence length $S$, where the target for each sample corresponds to the price of the next time step: $\\vec t^{\\{s\\}} = \\vec x ^{\\{s+1\\}}$.\n",
    "\n",
    "To speed up processing, these sequences will be put into batches, i.e., $\\mathcal X \\in \\mathbb R^{B\\times S\\times D}$ and $\\mathcal T \\in \\mathbb R^{B\\times D}$.\n",
    "This will automatically be achieved using the default PyTorch `DataLoader`.\n",
    "\n",
    "The datasets that we will use are provided here:\n",
    "\n",
    "GAIL stock: https://raw.githubusercontent.com/Pranavd0828/NIFTY50-StockMarket/main/Dataset/GAIL.csv\n",
    "\n",
    "NTPC stock: https://raw.githubusercontent.com/Pranavd0828/NIFTY50-StockMarket/main/Dataset/NTPC.csv\n"
   ]
  },
  {
   "cell_type": "markdown",
   "metadata": {},
   "source": [
    "## Data and Targets Preprocessing\n",
    "\n",
    "\n",
    "Initially, we will load the datasets for GAIL and NTPC, selecting only the \"Date\" and \"Close\" features to be able to obtain $\\mathbf X$ and $\\mathbf T$. \n",
    "Then, we will normalize the value of prices since neural networks are sensitive to the scale of input features.\n",
    "Finally, we will reserve data from '2018-01-01' onwards from both datasets for testing purposes, where our objective is to predict future stock prices.\n",
    "\n",
    "For a given index $n$ into our data and a given sequence length $S$, we provide the input $\\mathbf X ^{[n]}$ and the target $\\mathbf T^{[n]}$ as follows:\n",
    "\n",
    "  $$\\mathbf X^{[n]} = \\{ \\vec x[t] \\ | \\ n \\leq t < n+S \\ | \\ 0 \\leq n < N-S \\}$$\n",
    "  $$\\mathbf T^{[n]} = \\vec x[n+S] $$\n",
    "\n",
    "where $\\mathbf N$ is the length of the data. \n",
    "\n",
    "\n",
    "For example, for the original data $[10,20,30,40,50,30,40,25,60,70,...]$, sequence length $S=5$ and index $n=2$, we would have the representations for $x = $ `[30,40,50,30,40]` and $t=$ `25`.\n",
    "\n",
    "Finally, we implement our own `Dataset` that returns the input and target."
   ]
  },
  {
   "cell_type": "markdown",
   "metadata": {},
   "source": [
    "### Download the data file\n",
    "\n",
    "Please run the code block below to download the data file."
   ]
  },
  {
   "cell_type": "code",
   "execution_count": 6,
   "metadata": {},
   "outputs": [
    {
     "name": "stdout",
     "output_type": "stream",
     "text": [
      "Downloaded datafile:  GAIL.csv\n",
      "Downloaded datafile:  NTPC.csv\n"
     ]
    }
   ],
   "source": [
    "import os\n",
    "import urllib.request\n",
    "import torch\n",
    "import numpy\n",
    "\n",
    "# URLs for GAIL and NTPC stock CSV files\n",
    "urls = [\n",
    "    \"https://raw.githubusercontent.com/Pranavd0828/NIFTY50-StockMarket/main/Dataset/GAIL.csv\",\n",
    "    \"https://raw.githubusercontent.com/Pranavd0828/NIFTY50-StockMarket/main/Dataset/NTPC.csv\"\n",
    "]\n",
    "for url in urls:\n",
    "  filename = url.split(\"/\")[-1]\n",
    "\n",
    "  if not os.path.exists(filename):\n",
    "    urllib.request.urlretrieve(url)\n",
    "    print (\"Downloaded datafile: \", filename)"
   ]
  },
  {
   "cell_type": "markdown",
   "metadata": {},
   "source": [
    "### Task 1: Data Loading\n",
    "\n",
    "Implement a function that:\n",
    "1. Loads/read all data from the .csv files `GAIL.csv` and `NTPC.csv` \n",
    "2. Choose only the `Date` and `Close` features to retrieve the date and price variables\n",
    "3. The `date` variable should be returned as a 1D NumPy array with the data type `numpy.datetime64()`\n",
    "4. The `price`  price should be returned as a 1D `Torch.Tensor`.\n",
    "\n",
    "Note:\n",
    "\n",
    "* Please make sure that you convert each date to specified dtype above.\n"
   ]
  },
  {
   "cell_type": "code",
   "execution_count": 20,
   "metadata": {},
   "outputs": [],
   "source": [
    "import pandas\n",
    "\n",
    "# load all data from the text file\n",
    "def get_data(datafile):\n",
    "\n",
    "    # Read/open datafile CSV file into a pandas DataFrame\n",
    "    data = pandas.read_csv(datafile)\n",
    "    \n",
    "    # Extract date and convert to numpy array\n",
    "    date = data[\"Date\"].to_numpy(dtype=numpy.datetime64)\n",
    "\n",
    "    # Extract closing prices and convert to torch Tensor\n",
    "    price = torch.Tensor(data[\"Close\"].to_numpy())\n",
    "\n",
    "    return date, price"
   ]
  },
  {
   "cell_type": "code",
   "execution_count": 29,
   "metadata": {},
   "outputs": [],
   "source": [
    "# read each datafile\n",
    "gail_data = get_data(\"GAIL.csv\")\n",
    "ntpc_data = get_data(\"NTPC.csv\")\n",
    "\n"
   ]
  },
  {
   "cell_type": "markdown",
   "metadata": {},
   "source": [
    "### Task 2: Train Test Split\n",
    "\n",
    "Implement a function that splits the entire dataset into training and test sets:\n",
    "\n",
    "1. This function takes a tuple containing dates and corresponding prices as input.\n",
    "2. Prices corresponding to dates before `2018-01-01` should be allocated to the training set, while prices from `2018-01-01` onwards should be assigned to the test set.\n",
    "3. The function returns two tensors: one for the training prices and another for the test prices based on the split criteria."
   ]
  },
  {
   "cell_type": "code",
   "execution_count": 58,
   "metadata": {},
   "outputs": [],
   "source": [
    "def train_test_split(stock_data):\n",
    "\n",
    "    split_date = numpy.datetime64(\"2018-01-01\")\n",
    "    \n",
    "    date,price = stock_data\n",
    "    boolean_mask = date<split_date\n",
    "    train_data = price[boolean_mask]\n",
    "    test_data = price[~boolean_mask]\n",
    "\n",
    "    return train_data, test_data\n",
    "\n",
    "# split the datas for both dataset\n",
    "gail_train,gail_test = train_test_split(gail_data)\n",
    "ntpc_train,ntpc_test = train_test_split(ntpc_data)"
   ]
  },
  {
   "cell_type": "markdown",
   "metadata": {},
   "source": [
    "### Task 3: Data Normalization (Min Max Scaler) \n",
    "\n",
    "Implement two functions: one for scaling data, and the other for reversing this scaling.\n",
    "\n",
    "1. Scaling function will normalize the data with correct statistics `min` and `max`.\n",
    "2. Reverse scaling function will convert the scaled data back to its original scale \n",
    "3. With `min` and `max`, here is the formula for the scaling process:\n",
    "\n",
    "    $$X_{\\text{scaled}} = \\frac{X - X_{\\text{min}}}{X_{\\text{max}} - X_{\\text{min}}}$$\n",
    "4. Normalize train and test sets of both datasets.\n",
    "\n",
    "Note:\n",
    "\n",
    "* When returning to the original values, ensure that you use the correct minimum and maximum values."
   ]
  },
  {
   "cell_type": "code",
   "execution_count": 63,
   "metadata": {},
   "outputs": [],
   "source": [
    "def min_max_scaler(train_data, test_data):\n",
    "\n",
    "    # Compute the correct statistics\n",
    "    price = train_data\n",
    "    min_val = min(price)\n",
    "    max_val = max(price)\n",
    "\n",
    "    # Scale the training data\n",
    "    price_scaled = (price - min_val)/(max_val - min_val)\n",
    "    train_data_scaled = price_scaled\n",
    "\n",
    "    price = test_data\n",
    "    # Scale the test data using the same min and max values\n",
    "    price_scaled = (price - min_val)/(max_val - min_val)\n",
    "    test_data_scaled = price_scaled\n",
    "\n",
    "    return train_data_scaled, test_data_scaled, min_val, max_val\n",
    "\n",
    "\n",
    "def inverse_min_max_scaler(scaled_data, min_val, max_val):\n",
    "\n",
    "    # Revert the scaling\n",
    "    price = scaled_data\n",
    "    original_price = price*(max_val - min_val) + min_val\n",
    "    original_data = original_price\n",
    "\n",
    "    return original_data\n",
    "\n",
    "# scale the data for both datasets\n",
    "train_gail_scaled,test_gail_scaled,min_gail,max_gail = min_max_scaler(gail_train,gail_test)\n",
    "train_ntpc_scaled,test_ntpc_scaled,min_ntpc,max_ntpc = min_max_scaler(ntpc_train,ntpc_test)"
   ]
  },
  {
   "cell_type": "markdown",
   "metadata": {},
   "source": [
    "### Test 1: Scaling\n",
    "This test ensures that both scaling and its inverse operation are implemented correctly."
   ]
  },
  {
   "cell_type": "code",
   "execution_count": 64,
   "metadata": {},
   "outputs": [],
   "source": [
    "random_train_data = torch.ones(50)*20.\n",
    "random_train_data[:15] = -10.\n",
    "random_train_data[15:25] = 5.\n",
    "\n",
    "random_test_data = torch.ones(30)*25\n",
    "\n",
    "# scaling\n",
    "scaled_train_data,scaled_test_data,min_val,max_val = min_max_scaler(random_train_data,random_test_data)\n",
    "assert torch.sum(scaled_train_data) - 30 < 1e-5\n",
    "assert torch.sum(scaled_test_data) - 35 < 1e-5\n",
    "\n",
    "# reverse scaling\n",
    "reversed_train_data = inverse_min_max_scaler(scaled_train_data,min_val,max_val)\n",
    "reversed_test_data = inverse_min_max_scaler(scaled_test_data,min_val,max_val)\n",
    "assert all(reversed_train_data==random_train_data)\n",
    "assert all(reversed_test_data==random_test_data)"
   ]
  },
  {
   "cell_type": "markdown",
   "metadata": {},
   "source": [
    "### Task 4: Plot the Stock Prices\n",
    "Plot the scaled stock prices of two datasets, distinguishing between train and test data points on the plot."
   ]
  },
  {
   "cell_type": "code",
   "execution_count": 72,
   "metadata": {},
   "outputs": [
    {
     "data": {
      "image/png": "[encoded data removed]",
      "text/plain": [
       "<Figure size 1600x400 with 2 Axes>"
      ]
     },
     "metadata": {},
     "output_type": "display_data"
    }
   ],
   "source": [
    "import matplotlib.pyplot as plt\n",
    "\n",
    "stock_data = {\n",
    "    'GAIL': (gail_data[0], train_gail_scaled, test_gail_scaled),  # gail_data[0] contains dates for GAIL\n",
    "    'NTPC': (ntpc_data[0], train_ntpc_scaled, test_ntpc_scaled)   # ntpc_data[0] contains dates for NTPC\n",
    "}\n",
    "\n",
    "# Create a figure with two subplots side by side (1 row, 2 columns)\n",
    "fig, ax = plt.subplots(1, 2, figsize=(16, 4))\n",
    "\n",
    "\n",
    "for idx, (dataset, (date, train, test)) in enumerate(stock_data.items()):\n",
    "    #print(dataset,data,train,test)\n",
    "    plt.subplot(1, 2, idx+1)\n",
    "\n",
    "    # Plot the training data on the left side\n",
    "    plt.plot(date[:len(train)],train, label='Training')\n",
    "\n",
    "    # Plot the test data on the right side\n",
    "    plt.plot(date[len(train):],test, label='Test')\n",
    "\n",
    "\n",
    "    # Add a vertical line at 2018-01-01 for reference\n",
    "    plt.axvline(numpy.datetime64(\"2018-01-01\"), color='black', ls='--')\n",
    "    \n",
    "\n",
    "    # Set labels and title for the subplot\n",
    "    plt.xlabel('Time')\n",
    "    plt.ylabel('Price')\n",
    "    plt.title(dataset)\n",
    "\n",
    "    # Display legend for the plotted lines\n",
    "    plt.legend()\n",
    "    plt.grid(True, linestyle='--', linewidth=0.5, color='gray')\n",
    "\n",
    "plt.tight_layout()\n",
    "plt.show()"
   ]
  },
  {
   "cell_type": "markdown",
   "metadata": {},
   "source": [
    "### Task 5: Sequences\n",
    "\n",
    "Convert the stock prices into sequences based on the specified sequence length $S$:\n",
    "\n",
    "1. Start the sequence from the initial time step 0.\n",
    "2. Each sequence includes the number of $S$ prices.\n",
    "3. The target for each sequence should be the price at the following time step (after $S$).\n",
    "4. The function should return two tensors: $X$ for the input sequences and $T$ for the target price."
   ]
  },
  {
   "cell_type": "code",
   "execution_count": 97,
   "metadata": {},
   "outputs": [],
   "source": [
    "def create_sequences_targets(data: torch.Tensor, S):\n",
    "\n",
    "    # Initialize empty lists to hold the input sequences and the corresponding target values\n",
    "    X, T = [], []\n",
    "\n",
    "    # Go through the data to extract sequences based on S\n",
    "    for i in range(len(data) - S):\n",
    "        X.append(data[i:i+S])\n",
    "        T.append(data[i+S])\n",
    "    \n",
    "\n",
    "    # Convert lists of sequences and targets into PyTorch tensors\n",
    "    return torch.stack(X), torch.stack(T)"
   ]
  },
  {
   "cell_type": "markdown",
   "metadata": {},
   "source": [
    "### Test 2: Check Sequences and Corresponding Targets\n",
    "\n",
    "Get all sequences and targets for a given data. This test assures that the X and T vectors are as desired."
   ]
  },
  {
   "cell_type": "code",
   "execution_count": 98,
   "metadata": {},
   "outputs": [],
   "source": [
    "# get sequence and targets\n",
    "data = torch.arange(100,143)\n",
    "S = 5\n",
    "X,T = create_sequences_targets(data,S)\n",
    "\n",
    "assert (X.size(0)==len(data)-S) and X.size(1)==S\n",
    "assert X.size(0) == T.size(0)\n",
    "assert torch.sum(T)-4693 < 1e-5\n",
    "assert X[0,0]-100 < 1e-5 and X[-1,-1] - 141 < 1e-5"
   ]
  },
  {
   "cell_type": "markdown",
   "metadata": {},
   "source": [
    "### Task 6: Dataset and Data Loader\n",
    "\n",
    "To enable batch processing, the sequence size must be the same for each element in the batch (otherwise it cannot be transformed as one large tensor). Thus, our dataset needs to have a fixed sequence size $S$. An exact value for $S$ can be selected by yourself.\n",
    "\n",
    "Implement a `Dataset` class derived from `torch.utils.data.Dataset` that provides $\\mathbf X^{[n]}$ and $\\mathbf T^{[n]}$. Implement three functions:\n",
    "\n",
    "1. The constructor `__init__(self, data, S)` that takes the `data` (stock prices) and (initial) sequence length $S$. It should create $X$ and $T$ here by utilizing the function in Task 5.\n",
    "2. The function `__len__(self)` that returns the number of samples in our dataset.\n",
    "3. Finally, the index function `__getitem__(self, index)` that returns the sequences $\\mathbf X^{[n]}$ and $\\mathbf T^{[n]}$ for a given `index`.\n",
    "\n",
    "After implementing the `Dataset`, initialize `DataLoader` for train and test sets of both datasets with batch size of $B=256$. For the test set, you can opt for the largest feasible batch size.\n",
    "\n",
    "Hint: When iterating through the dataloader, ensure that  $X$ is shaped as $\\mathbb R^{B\\times S\\times D}$.\n",
    "\n",
    "Note:\n",
    "* Be careful about `shuffle` parameter for test dataloaders and keep in mind that you should use scaled data."
   ]
  },
  {
   "cell_type": "code",
   "execution_count": 188,
   "metadata": {},
   "outputs": [],
   "source": [
    "class Dataset(torch.utils.data.Dataset):\n",
    "  def __init__(self, data, S):\n",
    "\n",
    "    # store the data and targets as required\n",
    "    self.data,self.targets = create_sequences_targets(data,S)\n",
    "\n",
    "  def __getitem__(self, index):\n",
    "    # return input and target value for the given index\n",
    "    return (self.data[index],self.targets[index])\n",
    "\n",
    "  def __len__(self):\n",
    "    # return the length of this dataset\n",
    "    return len(self.targets)\n",
    "\n",
    "# instantiate dataset and data loader for a reasonable sequence length S\n",
    "S = 12\n",
    "gail_train_dataset = Dataset(train_gail_scaled,S)\n",
    "gail_train_dataloader = torch.utils.data.DataLoader(gail_train_dataset,batch_size=256,shuffle=True)\n",
    "\n",
    "gail_test_dataset = Dataset(test_gail_scaled,S)\n",
    "gail_test_dataloader =  torch.utils.data.DataLoader(gail_test_dataset,batch_size=256,shuffle=False)\n",
    "\n",
    "ntpc_train_dataset = Dataset(train_ntpc_scaled,S)\n",
    "ntpc_train_dataloader = torch.utils.data.DataLoader(ntpc_train_dataset,batch_size=256,shuffle=True)\n",
    "\n",
    "ntpc_test_dataset = Dataset(test_ntpc_scaled,S)\n",
    "ntpc_test_dataloader =  torch.utils.data.DataLoader(ntpc_test_dataset,batch_size=256,shuffle=False)"
   ]
  },
  {
   "cell_type": "markdown",
   "metadata": {},
   "source": [
    "## Simple LSTM Network Implementation\n",
    "\n",
    "In this section, we will explain the implementation of a simple LSTM (Long Short-Term Memory) network for sequence processing in PyTorch. This network is designed to process batches of sequences and predict outputs based on the sequence information."
   ]
  },
  {
   "cell_type": "markdown",
   "metadata": {},
   "source": [
    "### Task 7: LSTM Network Implementation\n",
    "\n",
    "Implement an LSTM network derived from `torch.nn.Module` class using `torch.nn.LSTM`, `torch.nn.Linear` and `torch.nn.Dropout` layers.\n",
    "\n",
    "1. In the constructor, instantiate all required layers for the given values of $D$ (input size), $K$ (hidden size), $O$ (output size).\n",
    "2. Network structure:\n",
    "    * One LSTM layer with input size $D$ and hidden size $K$. Please be careful about `batch_first` parameter when you consider the shape of the $X$ $(B\\times S\\times D)$.\n",
    "    * Dropout layer with the probability of $0.2$ on the LSTM network output.\n",
    "    * A Linear layer with the output neurons of $O$.\n",
    "3. Implement the input processing within the `forward` function of this LSTM network design. \n",
    "The `torch.nn.LSTM` layer returns three distinct elements. Refer to the documentation at https://pytorch.org/docs/stable/generated/torch.nn.LSTM.html to understand the behavior of this layer.\n",
    "Ensure you comprehend how this layer in PyTorch operates before passing the appropriate input from the LSTM layer to the linear layer.\n",
    "\n",
    "Note:\n",
    "\n",
    "* $D$ and $O$ should be passed correctly while you can select any suitable number for $K$"
   ]
  },
  {
   "cell_type": "code",
   "execution_count": 189,
   "metadata": {},
   "outputs": [],
   "source": [
    "class LSTMModel(torch.nn.Module):\n",
    "    def __init__(self, D, K, O):\n",
    "        super(LSTMModel,self).__init__()\n",
    "\n",
    "        self.lstm = torch.nn.LSTM(input_size = D, hidden_size = K, batch_first=True)\n",
    "        self.dropout = torch.nn.Dropout(p=0.2)\n",
    "        self.linear = torch.nn.Linear(in_features = K,out_features=O)\n",
    "\n",
    "    def forward(self, x):\n",
    "\n",
    "        # lstm layer\n",
    "        z1,_ = self.lstm(x)\n",
    "        # apply dropout to the output of lstm layer\n",
    "        z2 = self.dropout(z1)\n",
    "        # get correct element of the output of the lstm layer\n",
    "        Z = self.linear(z2)\n",
    "\n",
    "        return Z"
   ]
  },
  {
   "cell_type": "markdown",
   "metadata": {},
   "source": [
    "### Task 8: Training Loop\n",
    "\n",
    "Implement a function for the train loop. It takes network, dataloader, optimizer, loss function, device and the number epochs.\n",
    "\n",
    "If your dataset function from Task 5 is not fully compatible in terms of the shapes of logits and targets, you can use `squeeze()` or `unsqueeze()` operations to ensure smooth operation of the loss calculation. Alternatively, you may modify your dataset function to address this issue. Both works.\n",
    "\n",
    "Compute the average training loss per epoch and print it out.\n",
    "\n",
    "WARNING: Loss function will not complain when the index order for the output $\\mathcal Y$ and targets $\\mathcal T$ is incorrect, just the results will be wrong."
   ]
  },
  {
   "cell_type": "code",
   "execution_count": 190,
   "metadata": {},
   "outputs": [],
   "source": [
    "from tqdm import tqdm\n",
    "\n",
    "def train(network,train_dataloader,optimizer,loss,device,epochs=50):\n",
    "    network.to(device)\n",
    "\n",
    "    for epoch in tqdm(range(epochs)):\n",
    "\n",
    "        train_loss = 0.0\n",
    "        total_sample = 0\n",
    "\n",
    "        for x, t in train_dataloader:\n",
    "            optimizer.zero_grad()\n",
    "            x = x.to(device)\n",
    "            t = t.to(device)\n",
    "            \n",
    "            y = network(x)\n",
    "            J = loss(y,x)\n",
    "            \n",
    "            J.backward()\n",
    "            optimizer.step()\n",
    "            \n",
    "            train_loss+=J\n",
    "            total_sample+=len(t)\n",
    "            \n",
    "\n",
    "\n",
    "        # print average loss for training and validation\n",
    "        print(f\"\\rEpoch {epoch+1}; train loss: {train_loss/total_sample:1.5f}\")"
   ]
  },
  {
   "cell_type": "markdown",
   "metadata": {},
   "source": [
    "### Task 9: Run Training on Both Datasets\n",
    "\n",
    "* To train the LSTM network, you will decide the loss function when you consider the context of the problem.\n",
    "* Instantiate the optimizer with an appropriate learning rate $\\eta$.\n",
    "* Implement the training loop for $50$ epochs.\n",
    "* Run the network on the train sets of both datasets.\n",
    "\n",
    "Note that 50 epochs will not take long times, if implemented in an optimized way. So you may run on either GPU or CPU."
   ]
  },
  {
   "cell_type": "code",
   "execution_count": 191,
   "metadata": {},
   "outputs": [
    {
     "name": "stdout",
     "output_type": "stream",
     "text": [
      "cuda\n"
     ]
    },
    {
     "name": "stderr",
     "output_type": "stream",
     "text": [
      "  0%|                                                                                           | 0/50 [00:00<?, ?it/s]C:\\Users\\Varun\\anaconda3\\Lib\\site-packages\\torch\\nn\\modules\\loss.py:535: UserWarning: Using a target size (torch.Size([256, 12])) that is different to the input size (torch.Size([256, 1])). This will likely lead to incorrect results due to broadcasting. Please ensure they have the same size.\n",
      "  return F.mse_loss(input, target, reduction=self.reduction)\n",
      "C:\\Users\\Varun\\anaconda3\\Lib\\site-packages\\torch\\nn\\modules\\loss.py:535: UserWarning: Using a target size (torch.Size([54, 12])) that is different to the input size (torch.Size([54, 1])). This will likely lead to incorrect results due to broadcasting. Please ensure they have the same size.\n",
      "  return F.mse_loss(input, target, reduction=self.reduction)\n",
      "  2%|█▋                                                                                 | 1/50 [00:00<00:04,  9.80it/s]"
     ]
    },
    {
     "name": "stdout",
     "output_type": "stream",
     "text": [
      "\r",
      "Epoch 1; train loss: 0.00035\n"
     ]
    },
    {
     "name": "stderr",
     "output_type": "stream",
     "text": [
      "\r",
      "  4%|███▎                                                                               | 2/50 [00:00<00:04,  9.75it/s]"
     ]
    },
    {
     "name": "stdout",
     "output_type": "stream",
     "text": [
      "\r",
      "Epoch 2; train loss: 0.00007\n",
      "\r",
      "Epoch 3; train loss: 0.00002\n"
     ]
    },
    {
     "name": "stderr",
     "output_type": "stream",
     "text": [
      "\r",
      "  8%|██████▋                                                                            | 4/50 [00:00<00:04, 11.23it/s]"
     ]
    },
    {
     "name": "stdout",
     "output_type": "stream",
     "text": [
      "\r",
      "Epoch 4; train loss: 0.00002\n"
     ]
    },
    {
     "name": "stderr",
     "output_type": "stream",
     "text": [
      "\r",
      " 12%|█████████▉                                                                         | 6/50 [00:00<00:03, 12.53it/s]"
     ]
    },
    {
     "name": "stdout",
     "output_type": "stream",
     "text": [
      "\r",
      "Epoch 5; train loss: 0.00002\n",
      "\r",
      "Epoch 6; train loss: 0.00001\n",
      "\r",
      "Epoch 7; train loss: 0.00001\n"
     ]
    },
    {
     "name": "stderr",
     "output_type": "stream",
     "text": [
      "\r",
      " 16%|█████████████▎                                                                     | 8/50 [00:00<00:03, 13.61it/s]"
     ]
    },
    {
     "name": "stdout",
     "output_type": "stream",
     "text": [
      "\r",
      "Epoch 8; train loss: 0.00001\n"
     ]
    },
    {
     "name": "stderr",
     "output_type": "stream",
     "text": [
      "\r",
      " 20%|████████████████▍                                                                 | 10/50 [00:00<00:02, 14.55it/s]"
     ]
    },
    {
     "name": "stdout",
     "output_type": "stream",
     "text": [
      "\r",
      "Epoch 9; train loss: 0.00001\n",
      "\r",
      "Epoch 10; train loss: 0.00001\n",
      "\r",
      "Epoch 11; train loss: 0.00001\n"
     ]
    },
    {
     "name": "stderr",
     "output_type": "stream",
     "text": [
      "\r",
      " 24%|███████████████████▋                                                              | 12/50 [00:00<00:02, 15.29it/s]"
     ]
    },
    {
     "name": "stdout",
     "output_type": "stream",
     "text": [
      "\r",
      "Epoch 12; train loss: 0.00001\n"
     ]
    },
    {
     "name": "stderr",
     "output_type": "stream",
     "text": [
      "\r",
      " 28%|██████████████████████▉                                                           | 14/50 [00:00<00:02, 15.84it/s]"
     ]
    },
    {
     "name": "stdout",
     "output_type": "stream",
     "text": [
      "\r",
      "Epoch 13; train loss: 0.00001\n",
      "\r",
      "Epoch 14; train loss: 0.00001\n",
      "\r",
      "Epoch 15; train loss: 0.00001\n"
     ]
    },
    {
     "name": "stderr",
     "output_type": "stream",
     "text": [
      "\r",
      " 32%|██████████████████████████▏                                                       | 16/50 [00:01<00:02, 16.22it/s]"
     ]
    },
    {
     "name": "stdout",
     "output_type": "stream",
     "text": [
      "\r",
      "Epoch 16; train loss: 0.00001\n"
     ]
    },
    {
     "name": "stderr",
     "output_type": "stream",
     "text": [
      "\r",
      " 36%|█████████████████████████████▌                                                    | 18/50 [00:01<00:01, 16.23it/s]"
     ]
    },
    {
     "name": "stdout",
     "output_type": "stream",
     "text": [
      "\r",
      "Epoch 17; train loss: 0.00001\n",
      "\r",
      "Epoch 18; train loss: 0.00001\n",
      "\r",
      "Epoch 19; train loss: 0.00001\n"
     ]
    },
    {
     "name": "stderr",
     "output_type": "stream",
     "text": [
      "\r",
      " 40%|████████████████████████████████▊                                                 | 20/50 [00:01<00:01, 16.28it/s]"
     ]
    },
    {
     "name": "stdout",
     "output_type": "stream",
     "text": [
      "\r",
      "Epoch 20; train loss: 0.00001\n"
     ]
    },
    {
     "name": "stderr",
     "output_type": "stream",
     "text": [
      "\r",
      " 44%|████████████████████████████████████                                              | 22/50 [00:01<00:01, 16.40it/s]"
     ]
    },
    {
     "name": "stdout",
     "output_type": "stream",
     "text": [
      "\r",
      "Epoch 21; train loss: 0.00001\n",
      "\r",
      "Epoch 22; train loss: 0.00001\n",
      "\r",
      "Epoch 23; train loss: 0.00001\n"
     ]
    },
    {
     "name": "stderr",
     "output_type": "stream",
     "text": [
      "\r",
      " 48%|███████████████████████████████████████▎                                          | 24/50 [00:01<00:01, 16.43it/s]"
     ]
    },
    {
     "name": "stdout",
     "output_type": "stream",
     "text": [
      "\r",
      "Epoch 24; train loss: 0.00001\n"
     ]
    },
    {
     "name": "stderr",
     "output_type": "stream",
     "text": [
      "\r",
      " 52%|██████████████████████████████████████████▋                                       | 26/50 [00:01<00:01, 16.59it/s]"
     ]
    },
    {
     "name": "stdout",
     "output_type": "stream",
     "text": [
      "\r",
      "Epoch 25; train loss: 0.00001\n",
      "\r",
      "Epoch 26; train loss: 0.00001\n",
      "\r",
      "Epoch 27; train loss: 0.00001\n"
     ]
    },
    {
     "name": "stderr",
     "output_type": "stream",
     "text": [
      "\r",
      " 56%|█████████████████████████████████████████████▉                                    | 28/50 [00:01<00:01, 16.55it/s]"
     ]
    },
    {
     "name": "stdout",
     "output_type": "stream",
     "text": [
      "\r",
      "Epoch 28; train loss: 0.00001\n"
     ]
    },
    {
     "name": "stderr",
     "output_type": "stream",
     "text": [
      "\r",
      " 60%|█████████████████████████████████████████████████▏                                | 30/50 [00:01<00:01, 16.62it/s]"
     ]
    },
    {
     "name": "stdout",
     "output_type": "stream",
     "text": [
      "\r",
      "Epoch 29; train loss: 0.00001\n",
      "\r",
      "Epoch 30; train loss: 0.00001\n",
      "\r",
      "Epoch 31; train loss: 0.00001\n"
     ]
    },
    {
     "name": "stderr",
     "output_type": "stream",
     "text": [
      "\r",
      " 64%|████████████████████████████████████████████████████▍                             | 32/50 [00:02<00:01, 16.72it/s]"
     ]
    },
    {
     "name": "stdout",
     "output_type": "stream",
     "text": [
      "\r",
      "Epoch 32; train loss: 0.00001\n"
     ]
    },
    {
     "name": "stderr",
     "output_type": "stream",
     "text": [
      "\r",
      " 68%|███████████████████████████████████████████████████████▊                          | 34/50 [00:02<00:00, 16.74it/s]"
     ]
    },
    {
     "name": "stdout",
     "output_type": "stream",
     "text": [
      "\r",
      "Epoch 33; train loss: 0.00001\n",
      "\r",
      "Epoch 34; train loss: 0.00001\n",
      "\r",
      "Epoch 35; train loss: 0.00001\n"
     ]
    },
    {
     "name": "stderr",
     "output_type": "stream",
     "text": [
      "\r",
      " 72%|███████████████████████████████████████████████████████████                       | 36/50 [00:02<00:00, 16.76it/s]"
     ]
    },
    {
     "name": "stdout",
     "output_type": "stream",
     "text": [
      "\r",
      "Epoch 36; train loss: 0.00001\n"
     ]
    },
    {
     "name": "stderr",
     "output_type": "stream",
     "text": [
      "\r",
      " 76%|██████████████████████████████████████████████████████████████▎                   | 38/50 [00:02<00:00, 16.82it/s]"
     ]
    },
    {
     "name": "stdout",
     "output_type": "stream",
     "text": [
      "\r",
      "Epoch 37; train loss: 0.00001\n",
      "\r",
      "Epoch 38; train loss: 0.00001\n",
      "\r",
      "Epoch 39; train loss: 0.00001\n"
     ]
    },
    {
     "name": "stderr",
     "output_type": "stream",
     "text": [
      "\r",
      " 80%|█████████████████████████████████████████████████████████████████▌                | 40/50 [00:02<00:00, 16.94it/s]"
     ]
    },
    {
     "name": "stdout",
     "output_type": "stream",
     "text": [
      "\r",
      "Epoch 40; train loss: 0.00001\n"
     ]
    },
    {
     "name": "stderr",
     "output_type": "stream",
     "text": [
      "\r",
      " 84%|████████████████████████████████████████████████████████████████████▉             | 42/50 [00:02<00:00, 16.99it/s]"
     ]
    },
    {
     "name": "stdout",
     "output_type": "stream",
     "text": [
      "\r",
      "Epoch 41; train loss: 0.00001\n",
      "\r",
      "Epoch 42; train loss: 0.00001\n",
      "\r",
      "Epoch 43; train loss: 0.00001\n"
     ]
    },
    {
     "name": "stderr",
     "output_type": "stream",
     "text": [
      "\r",
      " 88%|████████████████████████████████████████████████████████████████████████▏         | 44/50 [00:02<00:00, 16.97it/s]"
     ]
    },
    {
     "name": "stdout",
     "output_type": "stream",
     "text": [
      "\r",
      "Epoch 44; train loss: 0.00001\n"
     ]
    },
    {
     "name": "stderr",
     "output_type": "stream",
     "text": [
      "\r",
      " 92%|███████████████████████████████████████████████████████████████████████████▍      | 46/50 [00:02<00:00, 16.84it/s]"
     ]
    },
    {
     "name": "stdout",
     "output_type": "stream",
     "text": [
      "\r",
      "Epoch 45; train loss: 0.00001\n",
      "\r",
      "Epoch 46; train loss: 0.00001\n",
      "\r",
      "Epoch 47; train loss: 0.00001\n"
     ]
    },
    {
     "name": "stderr",
     "output_type": "stream",
     "text": [
      "\r",
      " 96%|██████████████████████████████████████████████████████████████████████████████▋   | 48/50 [00:03<00:00, 16.87it/s]"
     ]
    },
    {
     "name": "stdout",
     "output_type": "stream",
     "text": [
      "\r",
      "Epoch 48; train loss: 0.00001\n"
     ]
    },
    {
     "name": "stderr",
     "output_type": "stream",
     "text": [
      "100%|██████████████████████████████████████████████████████████████████████████████████| 50/50 [00:03<00:00, 15.97it/s]"
     ]
    },
    {
     "name": "stdout",
     "output_type": "stream",
     "text": [
      "\r",
      "Epoch 49; train loss: 0.00001\n",
      "\r",
      "Epoch 50; train loss: 0.00001\n"
     ]
    },
    {
     "name": "stderr",
     "output_type": "stream",
     "text": [
      "\n"
     ]
    }
   ],
   "source": [
    "device = torch.device(\"cuda\") if torch.cuda.is_available() == True else torch.device(\"cpu\")\n",
    "print(device)\n",
    "loss = torch.nn.MSELoss()\n",
    "epochs = 50\n",
    "ETA = 0.005\n",
    "HIDDEN  = S*4\n",
    "\n",
    "# for gail dataset\n",
    "lstm_gail_network = LSTMModel(D=S,K=HIDDEN,O=1)\n",
    "optimizer_gail = torch.optim.Adam(params=lstm_gail_network.parameters(), lr= ETA)\n",
    "train(network = lstm_gail_network,\n",
    "      train_dataloader = gail_train_dataloader,\n",
    "      optimizer = optimizer_gail,\n",
    "      loss = loss,\n",
    "      device = device,\n",
    "      epochs = epochs,     \n",
    "     )"
   ]
  },
  {
   "cell_type": "code",
   "execution_count": 192,
   "metadata": {},
   "outputs": [
    {
     "name": "stderr",
     "output_type": "stream",
     "text": [
      "\r",
      "  0%|                                                                                           | 0/50 [00:00<?, ?it/s]"
     ]
    },
    {
     "name": "stdout",
     "output_type": "stream",
     "text": [
      "\r",
      "Epoch 1; train loss: 0.00019\n"
     ]
    },
    {
     "name": "stderr",
     "output_type": "stream",
     "text": [
      "C:\\Users\\Varun\\anaconda3\\Lib\\site-packages\\torch\\nn\\modules\\loss.py:535: UserWarning: Using a target size (torch.Size([181, 12])) that is different to the input size (torch.Size([181, 1])). This will likely lead to incorrect results due to broadcasting. Please ensure they have the same size.\n",
      "  return F.mse_loss(input, target, reduction=self.reduction)\n",
      "  6%|████▉                                                                              | 3/50 [00:00<00:02, 21.58it/s]"
     ]
    },
    {
     "name": "stdout",
     "output_type": "stream",
     "text": [
      "Epoch 2; train loss: 0.00006\n",
      "Epoch 3; train loss: 0.00002\n",
      "Epoch 4; train loss: 0.00001\n",
      "Epoch 5; train loss: 0.00001\n"
     ]
    },
    {
     "name": "stderr",
     "output_type": "stream",
     "text": [
      "\r",
      " 12%|█████████▉                                                                         | 6/50 [00:00<00:02, 21.58it/s]"
     ]
    },
    {
     "name": "stdout",
     "output_type": "stream",
     "text": [
      "Epoch 6; train loss: 0.00001\n",
      "Epoch 7; train loss: 0.00001\n",
      "Epoch 8; train loss: 0.00001\n"
     ]
    },
    {
     "name": "stderr",
     "output_type": "stream",
     "text": [
      "\r",
      " 18%|██████████████▉                                                                    | 9/50 [00:00<00:01, 21.79it/s]"
     ]
    },
    {
     "name": "stdout",
     "output_type": "stream",
     "text": [
      "Epoch 9; train loss: 0.00001\n",
      "Epoch 10; train loss: 0.00001\n",
      "Epoch 11; train loss: 0.00001\n"
     ]
    },
    {
     "name": "stderr",
     "output_type": "stream",
     "text": [
      "\r",
      " 24%|███████████████████▋                                                              | 12/50 [00:00<00:01, 21.77it/s]"
     ]
    },
    {
     "name": "stdout",
     "output_type": "stream",
     "text": [
      "\r",
      "Epoch 12; train loss: 0.00001\n",
      "\r",
      "Epoch 13; train loss: 0.00001\n"
     ]
    },
    {
     "name": "stderr",
     "output_type": "stream",
     "text": [
      "\r",
      " 30%|████████████████████████▌                                                         | 15/50 [00:00<00:01, 21.87it/s]"
     ]
    },
    {
     "name": "stdout",
     "output_type": "stream",
     "text": [
      "Epoch 14; train loss: 0.00001\n",
      "Epoch 15; train loss: 0.00001\n",
      "Epoch 16; train loss: 0.00001\n"
     ]
    },
    {
     "name": "stderr",
     "output_type": "stream",
     "text": [
      "\r",
      " 36%|█████████████████████████████▌                                                    | 18/50 [00:00<00:01, 21.82it/s]"
     ]
    },
    {
     "name": "stdout",
     "output_type": "stream",
     "text": [
      "Epoch 17; train loss: 0.00001\n",
      "Epoch 18; train loss: 0.00001\n",
      "Epoch 19; train loss: 0.00001\n",
      "Epoch 20; train loss: 0.00001\n"
     ]
    },
    {
     "name": "stderr",
     "output_type": "stream",
     "text": [
      "\r",
      " 42%|██████████████████████████████████▍                                               | 21/50 [00:00<00:01, 21.90it/s]"
     ]
    },
    {
     "name": "stdout",
     "output_type": "stream",
     "text": [
      "Epoch 21; train loss: 0.00001\n",
      "Epoch 22; train loss: 0.00000\n",
      "Epoch 23; train loss: 0.00000\n"
     ]
    },
    {
     "name": "stderr",
     "output_type": "stream",
     "text": [
      "\r",
      " 48%|███████████████████████████████████████▎                                          | 24/50 [00:01<00:01, 21.90it/s]"
     ]
    },
    {
     "name": "stdout",
     "output_type": "stream",
     "text": [
      "Epoch 24; train loss: 0.00000\n",
      "Epoch 25; train loss: 0.00001\n",
      "Epoch 26; train loss: 0.00000\n"
     ]
    },
    {
     "name": "stderr",
     "output_type": "stream",
     "text": [
      "\r",
      " 54%|████████████████████████████████████████████▎                                     | 27/50 [00:01<00:01, 21.90it/s]"
     ]
    },
    {
     "name": "stdout",
     "output_type": "stream",
     "text": [
      "\r",
      "Epoch 27; train loss: 0.00000\n",
      "\r",
      "Epoch 28; train loss: 0.00000\n"
     ]
    },
    {
     "name": "stderr",
     "output_type": "stream",
     "text": [
      "\r",
      " 60%|█████████████████████████████████████████████████▏                                | 30/50 [00:01<00:00, 21.80it/s]"
     ]
    },
    {
     "name": "stdout",
     "output_type": "stream",
     "text": [
      "Epoch 29; train loss: 0.00000\n",
      "Epoch 30; train loss: 0.00001\n",
      "Epoch 31; train loss: 0.00000\n"
     ]
    },
    {
     "name": "stderr",
     "output_type": "stream",
     "text": [
      "\r",
      " 66%|██████████████████████████████████████████████████████                            | 33/50 [00:01<00:00, 21.73it/s]"
     ]
    },
    {
     "name": "stdout",
     "output_type": "stream",
     "text": [
      "Epoch 32; train loss: 0.00000\n",
      "Epoch 33; train loss: 0.00000\n",
      "Epoch 34; train loss: 0.00000\n",
      "Epoch 35; train loss: 0.00000\n"
     ]
    },
    {
     "name": "stderr",
     "output_type": "stream",
     "text": [
      "\r",
      " 72%|███████████████████████████████████████████████████████████                       | 36/50 [00:01<00:00, 21.78it/s]"
     ]
    },
    {
     "name": "stdout",
     "output_type": "stream",
     "text": [
      "Epoch 36; train loss: 0.00000\n",
      "Epoch 37; train loss: 0.00000\n",
      "Epoch 38; train loss: 0.00000\n"
     ]
    },
    {
     "name": "stderr",
     "output_type": "stream",
     "text": [
      "\r",
      " 78%|███████████████████████████████████████████████████████████████▉                  | 39/50 [00:01<00:00, 21.86it/s]"
     ]
    },
    {
     "name": "stdout",
     "output_type": "stream",
     "text": [
      "Epoch 39; train loss: 0.00000\n",
      "Epoch 40; train loss: 0.00000\n",
      "Epoch 41; train loss: 0.00000\n"
     ]
    },
    {
     "name": "stderr",
     "output_type": "stream",
     "text": [
      "\r",
      " 84%|████████████████████████████████████████████████████████████████████▉             | 42/50 [00:01<00:00, 21.92it/s]"
     ]
    },
    {
     "name": "stdout",
     "output_type": "stream",
     "text": [
      "\r",
      "Epoch 42; train loss: 0.00000\n",
      "\r",
      "Epoch 43; train loss: 0.00000\n"
     ]
    },
    {
     "name": "stderr",
     "output_type": "stream",
     "text": [
      "\r",
      " 90%|█████████████████████████████████████████████████████████████████████████▊        | 45/50 [00:02<00:00, 21.91it/s]"
     ]
    },
    {
     "name": "stdout",
     "output_type": "stream",
     "text": [
      "Epoch 44; train loss: 0.00000\n",
      "Epoch 45; train loss: 0.00000\n",
      "Epoch 46; train loss: 0.00000\n"
     ]
    },
    {
     "name": "stderr",
     "output_type": "stream",
     "text": [
      "\r",
      " 96%|██████████████████████████████████████████████████████████████████████████████▋   | 48/50 [00:02<00:00, 21.86it/s]"
     ]
    },
    {
     "name": "stdout",
     "output_type": "stream",
     "text": [
      "\r",
      "Epoch 47; train loss: 0.00000\n",
      "\r",
      "Epoch 48; train loss: 0.00000\n"
     ]
    },
    {
     "name": "stderr",
     "output_type": "stream",
     "text": [
      "\r",
      "100%|██████████████████████████████████████████████████████████████████████████████████| 50/50 [00:02<00:00, 21.82it/s]"
     ]
    },
    {
     "name": "stdout",
     "output_type": "stream",
     "text": [
      "\r",
      "Epoch 49; train loss: 0.00000\n",
      "\r",
      "Epoch 50; train loss: 0.00000\n"
     ]
    },
    {
     "name": "stderr",
     "output_type": "stream",
     "text": [
      "\n"
     ]
    }
   ],
   "source": [
    "# for ntpc dataset, initialize the network again with the same D,K and O\n",
    "lstm_ntpc_network = LSTMModel(D=S,K=HIDDEN,O=1)\n",
    "optimizer_ntpc =  torch.optim.Adam(params=lstm_ntpc_network.parameters(), lr= ETA)\n",
    "train(network = lstm_ntpc_network,\n",
    "      train_dataloader = ntpc_train_dataloader,\n",
    "      optimizer = optimizer_ntpc,\n",
    "      loss = loss,\n",
    "      device = device,\n",
    "      epochs = epochs,     \n",
    "     )"
   ]
  },
  {
   "cell_type": "markdown",
   "metadata": {},
   "source": [
    "### Task 10: Future Price Prediction\n",
    "\n",
    "Write a function that predicts the next price of the sequence (test set) based on the values obtained from the network.\n",
    "\n",
    "This function executes the trained model on the test datasets from both datasets. It takes the trained model and the test data loader.\n",
    "\n",
    "Keep in mind that all predictions are also normalized, as the input data is normalized. These normalized predictions should be reversed to the original scale for visualization in the next task."
   ]
  },
  {
   "cell_type": "code",
   "execution_count": 193,
   "metadata": {},
   "outputs": [],
   "source": [
    "def predict(network,test_dataloader):\n",
    "    predictions = []\n",
    "    for x,t in test_dataloader:\n",
    "        x = x.to(device)\n",
    "        y = network(x)\n",
    "        \n",
    "        predictions.append(y.cpu().detach())\n",
    "        \n",
    "    predictions = torch.cat(predictions)\n",
    "    #print(predictions)\n",
    "\n",
    "    return predictions\n",
    "\n",
    "# run the test for both datasets\n",
    "scaled_lstm_gail_preds = predict(lstm_gail_network,gail_test_dataloader)\n",
    "scaled_lstm_ntpc_preds = predict(lstm_ntpc_network,ntpc_test_dataloader)\n",
    "\n",
    "# reverse the test input and its predictions to original scales\n",
    "# reverse its predictions to original scales\n",
    "original_lstm_gail_preds = inverse_min_max_scaler(scaled_lstm_gail_preds,min_gail,max_gail)\n",
    "original_lstm_ntpc_preds = inverse_min_max_scaler(scaled_lstm_ntpc_preds,min_ntpc,max_ntpc)"
   ]
  },
  {
   "cell_type": "markdown",
   "metadata": {},
   "source": [
    "### Task 11: Plotting Future Predictions\n",
    "\n",
    "Plot the actual prices and model predictions for only both test datasets."
   ]
  },
  {
   "cell_type": "code",
   "execution_count": 194,
   "metadata": {},
   "outputs": [
    {
     "data": {
      "image/png": "[encoded data removed]",
      "text/plain": [
       "<Figure size 1600x400 with 2 Axes>"
      ]
     },
     "metadata": {},
     "output_type": "display_data"
    }
   ],
   "source": [
    "import matplotlib.pyplot as plt\n",
    "\n",
    "future_preds = {\n",
    "    'GAIL': (gail_test[S:], original_lstm_gail_preds),\n",
    "    'NTPC': (ntpc_test[S:], original_lstm_ntpc_preds)\n",
    "}\n",
    "\n",
    "fig, ax = plt.subplots(1, 2, figsize=(16, 4))\n",
    "\n",
    "for idx, (dataset, (data, preds)) in enumerate(future_preds.items()):\n",
    "    # Plot on the corresponding subplot (idx+1) within the 1x2 grid\n",
    "\n",
    "    plt.subplot(1, 2, idx+1)\n",
    "\n",
    "    # Plot the training data on the left side of the split subplot\n",
    "    plt.plot(data, label='Actual Price')\n",
    "\n",
    "    # Plot the test data on the right side of the split subplot\n",
    "    plt.plot(preds, label='Model Prediction')\n",
    "\n",
    "    # Set labels and title for the subplot\n",
    "    plt.xlabel('Time (days)')\n",
    "    plt.ylabel('Price')\n",
    "    plt.title(dataset)\n",
    "\n",
    "    # Display legend for the plotted lines\n",
    "    plt.legend()\n",
    "\n",
    "    # Add gridlines with specified style, width, and color\n",
    "    plt.grid(True, linestyle='--', linewidth=0.5, color='gray')\n",
    "\n",
    "plt.tight_layout()\n",
    "plt.show()"
   ]
  }
 ],
 "metadata": {
  "interpreter": {
   "hash": "a29cabff5744fce69e08a959ab87b9e77a9f67b498d08783caa8c3bb16f23a00"
  },
  "kernelspec": {
   "display_name": "Python 3 (ipykernel)",
   "language": "python",
   "name": "python3"
  },
  "language_info": {
   "codemirror_mode": {
    "name": "ipython",
    "version": 3
   },
   "file_extension": ".py",
   "mimetype": "text/x-python",
   "name": "python",
   "nbconvert_exporter": "python",
   "pygments_lexer": "ipython3",
   "version": "3.11.5"
  }
 },
 "nbformat": 4,
 "nbformat_minor": 2
}

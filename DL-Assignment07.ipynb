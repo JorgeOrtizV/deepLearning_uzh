{
  "cells": [
    {
      "cell_type": "markdown",
      "source": [
        "### Group Members:\n",
        "\n",
        "- Shantam raj, 21-743-034\n",
        "- Jorge Alejandro Ortiz Valerio, 23-743-958\n",
        "- Varun Ghat Ravikumar,  23-744-535"
      ],
      "metadata": {
        "id": "tGNH2CMsPLHL"
      }
    },
    {
      "cell_type": "markdown",
      "metadata": {
        "id": "qWJSKZRgfHr4"
      },
      "source": [
        "# Assignment 7: Transfer Learning\n",
        "\n",
        "\n",
        "The goal of this exercise is to learn how to use pre-trained networks in transfer learning tasks.\n",
        "We will make use of networks trained on ImageNet, and apply them to related problems, i.e., the classification of $6$ categories such as buildings, forests, glaciers, mountains, seas, and streets."
      ]
    },
    {
      "cell_type": "markdown",
      "metadata": {
        "id": "XJ_M-OBcfHr5"
      },
      "source": [
        "## Dataset\n",
        "\n",
        "For this exercise we use the  [Intel Image Classification](https://www.kaggle.com/datasets/puneet6060/intel-image-classification) dataset that can be downloaded from the official website [here]({https://www.kaggle.com/datasets/puneet6060/intel-image-classification}).\n",
        "The dataset contains $25000$ color images of pixels size $150\\times 150$ in $6$ classes: buildings, forests, glaciers, mountains, seas, and streets. We will be using only $17000$ of those images where $14000$ are for training and $3000$ for test."
      ]
    },
    {
      "cell_type": "markdown",
      "metadata": {
        "id": "-WrpMKGQfHr5"
      },
      "source": [
        "### Test 0: Download and check if dataset is downloaded correctly"
      ]
    },
    {
      "cell_type": "markdown",
      "metadata": {
        "id": "kfgsjfQgfHr6"
      },
      "source": [
        "#### Download the dataset by running the code below"
      ]
    },
    {
      "cell_type": "code",
      "execution_count": 1,
      "metadata": {
        "id": "lhQyBkaEfHr6"
      },
      "outputs": [],
      "source": [
        "#Library for downloading datasets from Kaggle\n",
        "! pip install opendatasets --upgrade --quiet"
      ]
    },
    {
      "cell_type": "code",
      "execution_count": 2,
      "metadata": {
        "colab": {
          "base_uri": "https://localhost:8080/"
        },
        "id": "cyeuyh2nfHr6",
        "outputId": "aac00b7c-2f9e-4072-c12b-b426bd481f68"
      },
      "outputs": [
        {
          "output_type": "stream",
          "name": "stdout",
          "text": [
            "Downloading intel-image-classification.zip to ./intel-image-classification\n"
          ]
        },
        {
          "output_type": "stream",
          "name": "stderr",
          "text": [
            "100%|██████████| 346M/346M [00:16<00:00, 21.5MB/s]\n"
          ]
        },
        {
          "output_type": "stream",
          "name": "stdout",
          "text": [
            "\n"
          ]
        }
      ],
      "source": [
        "import json\n",
        "\n",
        "# Write kaggle.json file\n",
        "with open('kaggle.json', 'w') as file:\n",
        "    json.dump({'username': '', 'key': ''}, file)\n",
        "\n",
        "import opendatasets\n",
        "opendatasets.download('https://www.kaggle.com/puneet6060/intel-image-classification')"
      ]
    },
    {
      "cell_type": "markdown",
      "metadata": {
        "id": "kV2NAbD1fHr7"
      },
      "source": [
        "After running the cell above, just verify that the dataset has been downloaded correctly by running the cell below."
      ]
    },
    {
      "cell_type": "code",
      "execution_count": 3,
      "metadata": {
        "colab": {
          "base_uri": "https://localhost:8080/"
        },
        "id": "XPUPdkLpfHr7",
        "outputId": "2f4bc58a-52ce-409d-ae3d-d6dcddbc9c73"
      },
      "outputs": [
        {
          "output_type": "stream",
          "name": "stdout",
          "text": [
            "Dataset is validated successfully. Test Passed\n"
          ]
        }
      ],
      "source": [
        "import os\n",
        "\n",
        "def count_images(directory):\n",
        "    \"\"\"Count the number of image files in the given directory and its subdirectories.\"\"\"\n",
        "    count = 0\n",
        "    for root, dirs, files in os.walk(directory):\n",
        "        count += sum(1 for file in files if file.endswith(('.jpg', '.jpeg', '.png')))\n",
        "    return count\n",
        "\n",
        "def validate_dataset(base_path):\n",
        "    \"\"\"Validate the structure and the count of images in the dataset.\"\"\"\n",
        "    expected_structure = {\n",
        "        'seg_train': 14034,\n",
        "        'seg_test': 3000\n",
        "    }\n",
        "\n",
        "    errors = []\n",
        "\n",
        "    # Check if base directory exists\n",
        "    if not os.path.exists(base_path):\n",
        "        errors.append(f\"Base directory {base_path} does not exist.\")\n",
        "        return errors\n",
        "\n",
        "    # Check each subdirectory and count images\n",
        "    for folder, expected_count in expected_structure.items():\n",
        "        folder_path = os.path.join(base_path, folder)\n",
        "        if not os.path.exists(folder_path):\n",
        "            errors.append(f\"Expected folder {folder_path} does not exist.\")\n",
        "        else:\n",
        "            image_count = count_images(folder_path)\n",
        "            if image_count != expected_count:\n",
        "                errors.append(f\"Folder {folder} has {image_count} images, expected {expected_count}.\")\n",
        "\n",
        "    return errors\n",
        "\n",
        "# Specify the path to the base of the dataset\n",
        "base_dataset_path = \"intel-image-classification/\" #Change if you downloaded manually to some other path\n",
        "\n",
        "# Perform the validation\n",
        "validation_errors = validate_dataset(base_dataset_path)\n",
        "\n",
        "if not validation_errors:\n",
        "    print(\"Dataset is validated successfully. Test Passed\")\n",
        "else:\n",
        "    print(\"Errors found in dataset validation:\")\n",
        "    for error in validation_errors:\n",
        "        print(error)"
      ]
    },
    {
      "cell_type": "markdown",
      "metadata": {
        "id": "SpOk3TcsfHr7"
      },
      "source": [
        "### Task 1: Data Transformation\n",
        "\n",
        "We need to instantiate a proper `torchvision.transform` instance to create the same input structure as used for training our network.\n",
        "We need to combine 4 transforms. The different transforms in Pytorch are available here: https://pytorch.org/vision/0.9/transforms.html.\n",
        "\n",
        "1. We need to resize the image such that the shorter side has size 256.\n",
        "2. We need to take the center crop of size $224\\times224$ from the image.\n",
        "3. We need to convert the image into a tensor (including pixel values scaling)\n",
        "4. We need to normalize the pixel values with mean $(0.485, 0.456, 0.406)$ and standard deviation $(0.229, 0.224, 0.225)$.\n",
        "\n",
        "Since we will use networks pre-trained on ImageNet, we need to perform the exact same transform as used for ImageNet testing."
      ]
    },
    {
      "cell_type": "code",
      "execution_count": 4,
      "metadata": {
        "colab": {
          "base_uri": "https://localhost:8080/"
        },
        "id": "NI_CbcqBfHr7",
        "outputId": "313fee7a-264b-49f7-caa2-c3adb4962eb9"
      },
      "outputs": [
        {
          "output_type": "stream",
          "name": "stdout",
          "text": [
            "Requirement already satisfied: torchvision in /usr/local/lib/python3.10/dist-packages (0.17.1+cu121)\n",
            "Requirement already satisfied: numpy in /usr/local/lib/python3.10/dist-packages (from torchvision) (1.25.2)\n",
            "Requirement already satisfied: torch==2.2.1 in /usr/local/lib/python3.10/dist-packages (from torchvision) (2.2.1+cu121)\n",
            "Requirement already satisfied: pillow!=8.3.*,>=5.3.0 in /usr/local/lib/python3.10/dist-packages (from torchvision) (9.4.0)\n",
            "Requirement already satisfied: filelock in /usr/local/lib/python3.10/dist-packages (from torch==2.2.1->torchvision) (3.13.4)\n",
            "Requirement already satisfied: typing-extensions>=4.8.0 in /usr/local/lib/python3.10/dist-packages (from torch==2.2.1->torchvision) (4.11.0)\n",
            "Requirement already satisfied: sympy in /usr/local/lib/python3.10/dist-packages (from torch==2.2.1->torchvision) (1.12)\n",
            "Requirement already satisfied: networkx in /usr/local/lib/python3.10/dist-packages (from torch==2.2.1->torchvision) (3.3)\n",
            "Requirement already satisfied: jinja2 in /usr/local/lib/python3.10/dist-packages (from torch==2.2.1->torchvision) (3.1.3)\n",
            "Requirement already satisfied: fsspec in /usr/local/lib/python3.10/dist-packages (from torch==2.2.1->torchvision) (2023.6.0)\n",
            "Collecting nvidia-cuda-nvrtc-cu12==12.1.105 (from torch==2.2.1->torchvision)\n",
            "  Using cached nvidia_cuda_nvrtc_cu12-12.1.105-py3-none-manylinux1_x86_64.whl (23.7 MB)\n",
            "Collecting nvidia-cuda-runtime-cu12==12.1.105 (from torch==2.2.1->torchvision)\n",
            "  Using cached nvidia_cuda_runtime_cu12-12.1.105-py3-none-manylinux1_x86_64.whl (823 kB)\n",
            "Collecting nvidia-cuda-cupti-cu12==12.1.105 (from torch==2.2.1->torchvision)\n",
            "  Using cached nvidia_cuda_cupti_cu12-12.1.105-py3-none-manylinux1_x86_64.whl (14.1 MB)\n",
            "Collecting nvidia-cudnn-cu12==8.9.2.26 (from torch==2.2.1->torchvision)\n",
            "  Using cached nvidia_cudnn_cu12-8.9.2.26-py3-none-manylinux1_x86_64.whl (731.7 MB)\n",
            "Collecting nvidia-cublas-cu12==12.1.3.1 (from torch==2.2.1->torchvision)\n",
            "  Using cached nvidia_cublas_cu12-12.1.3.1-py3-none-manylinux1_x86_64.whl (410.6 MB)\n",
            "Collecting nvidia-cufft-cu12==11.0.2.54 (from torch==2.2.1->torchvision)\n",
            "  Using cached nvidia_cufft_cu12-11.0.2.54-py3-none-manylinux1_x86_64.whl (121.6 MB)\n",
            "Collecting nvidia-curand-cu12==10.3.2.106 (from torch==2.2.1->torchvision)\n",
            "  Using cached nvidia_curand_cu12-10.3.2.106-py3-none-manylinux1_x86_64.whl (56.5 MB)\n",
            "Collecting nvidia-cusolver-cu12==11.4.5.107 (from torch==2.2.1->torchvision)\n",
            "  Using cached nvidia_cusolver_cu12-11.4.5.107-py3-none-manylinux1_x86_64.whl (124.2 MB)\n",
            "Collecting nvidia-cusparse-cu12==12.1.0.106 (from torch==2.2.1->torchvision)\n",
            "  Using cached nvidia_cusparse_cu12-12.1.0.106-py3-none-manylinux1_x86_64.whl (196.0 MB)\n",
            "Collecting nvidia-nccl-cu12==2.19.3 (from torch==2.2.1->torchvision)\n",
            "  Using cached nvidia_nccl_cu12-2.19.3-py3-none-manylinux1_x86_64.whl (166.0 MB)\n",
            "Collecting nvidia-nvtx-cu12==12.1.105 (from torch==2.2.1->torchvision)\n",
            "  Using cached nvidia_nvtx_cu12-12.1.105-py3-none-manylinux1_x86_64.whl (99 kB)\n",
            "Requirement already satisfied: triton==2.2.0 in /usr/local/lib/python3.10/dist-packages (from torch==2.2.1->torchvision) (2.2.0)\n",
            "Collecting nvidia-nvjitlink-cu12 (from nvidia-cusolver-cu12==11.4.5.107->torch==2.2.1->torchvision)\n",
            "  Using cached nvidia_nvjitlink_cu12-12.4.127-py3-none-manylinux2014_x86_64.whl (21.1 MB)\n",
            "Requirement already satisfied: MarkupSafe>=2.0 in /usr/local/lib/python3.10/dist-packages (from jinja2->torch==2.2.1->torchvision) (2.1.5)\n",
            "Requirement already satisfied: mpmath>=0.19 in /usr/local/lib/python3.10/dist-packages (from sympy->torch==2.2.1->torchvision) (1.3.0)\n",
            "Installing collected packages: nvidia-nvtx-cu12, nvidia-nvjitlink-cu12, nvidia-nccl-cu12, nvidia-curand-cu12, nvidia-cufft-cu12, nvidia-cuda-runtime-cu12, nvidia-cuda-nvrtc-cu12, nvidia-cuda-cupti-cu12, nvidia-cublas-cu12, nvidia-cusparse-cu12, nvidia-cudnn-cu12, nvidia-cusolver-cu12\n",
            "Successfully installed nvidia-cublas-cu12-12.1.3.1 nvidia-cuda-cupti-cu12-12.1.105 nvidia-cuda-nvrtc-cu12-12.1.105 nvidia-cuda-runtime-cu12-12.1.105 nvidia-cudnn-cu12-8.9.2.26 nvidia-cufft-cu12-11.0.2.54 nvidia-curand-cu12-10.3.2.106 nvidia-cusolver-cu12-11.4.5.107 nvidia-cusparse-cu12-12.1.0.106 nvidia-nccl-cu12-2.19.3 nvidia-nvjitlink-cu12-12.4.127 nvidia-nvtx-cu12-12.1.105\n",
            "cuda\n"
          ]
        }
      ],
      "source": [
        "import torch\n",
        "!pip install torchvision\n",
        "import torchvision\n",
        "\n",
        "\n",
        "device = None\n",
        "if torch.cuda.is_available():\n",
        "    device=torch.device(\"cuda\")\n",
        "else:\n",
        "    device=torch.device(\"cpu\")\n",
        "\n",
        "print(device)\n",
        "\n",
        "\n",
        "\n",
        "imagenet_transform = torchvision.transforms.Compose([\n",
        "    torchvision.transforms.Resize(256),\n",
        "    torchvision.transforms.CenterCrop(224),\n",
        "    torchvision.transforms.ToTensor(),\n",
        "    torchvision.transforms.Normalize((0.485,0.456,0.406),(0.229,0.224,0.225)),\n",
        "])"
      ]
    },
    {
      "cell_type": "markdown",
      "metadata": {
        "id": "IV8xHjrifHr8"
      },
      "source": [
        "### Task 2: Dataset Loading\n",
        "\n",
        "We here use the [ImageFolder](https://pytorch.org/vision/main/generated/torchvision.datasets.ImageFolder.html) class from pytorch to load our training and test set respectively.\n",
        "\n",
        "This task consists of two parts:\n",
        "\n",
        "1. Create two datasets, one for the training set, one for the test set. Use the transform defined above.\n",
        "2. Once the datasets are created, create two data loaders, one for training set, one for test set. Use a proper value of the batch-size $B = 256$. Make sure the trainloader shuffle is set to True."
      ]
    },
    {
      "cell_type": "code",
      "execution_count": 5,
      "metadata": {
        "id": "jEYmmXOMfHr8"
      },
      "outputs": [],
      "source": [
        "from torchvision.datasets import ImageFolder\n",
        "\n",
        "#Path to your training and test data (If different, change the path accordingly)\n",
        "train_dir = './intel-image-classification/seg_train/seg_train/'\n",
        "test_dir = './intel-image-classification/seg_test/seg_test/'\n",
        "\n",
        "trainset = ImageFolder(\n",
        "  root = train_dir, transform = imagenet_transform\n",
        ")\n",
        "\n",
        "testset = ImageFolder(\n",
        "    root = test_dir, transform = imagenet_transform\n",
        ")"
      ]
    },
    {
      "cell_type": "code",
      "execution_count": 6,
      "metadata": {
        "id": "BZ6gFg54fHr8"
      },
      "outputs": [],
      "source": [
        "B = 256\n",
        "trainloader = torch.utils.data.DataLoader(trainset,batch_size=B,shuffle=True)\n",
        "testloader = torch.utils.data.DataLoader(testset,batch_size=B,shuffle=False)"
      ]
    },
    {
      "cell_type": "markdown",
      "metadata": {
        "id": "59LSMC-VfHr8"
      },
      "source": [
        "### Test 1: Data Size and Types\n",
        "\n",
        "We check that all input images are `torch.tensors` of size $3\\times224\\times224$ and of type `torch.float` and that all labels are of type `int`.\n",
        "\n",
        "Note: the sanity check is only performed on the test set."
      ]
    },
    {
      "cell_type": "code",
      "execution_count": 7,
      "metadata": {
        "id": "a88oZ2NIfHr9"
      },
      "outputs": [],
      "source": [
        "for x, t in testset:\n",
        "  assert isinstance(x, torch.Tensor)\n",
        "  assert isinstance(t, int)\n",
        "  assert x.shape==(3,224,224)\n",
        "  assert x.dtype==torch.float\n",
        "  assert x.max() < 3.0\n",
        "  assert x.min() > -3.0"
      ]
    },
    {
      "cell_type": "markdown",
      "metadata": {
        "id": "gJEJ6ZLQfHr9"
      },
      "source": [
        "## Deep Feature Extraction\n",
        "\n",
        "We will use a pre-trained network available in `PyTorch`.\n",
        "Particularly, we will use a ResNet-50 architecture, but other architectures can also be tested.\n",
        "Fortunately, PyTorch provides simple interfaces to obtain pre-trained models, e.g., using the `torchvision.models.resnet50` interface function.\n",
        "\n",
        "In order to use the networks in a different dataset, we need to change their outputs.\n",
        "There are several possibilities on how to achieve that, and you have the freedom to choose.\n",
        "\n",
        "For your reference, the implementation of the `forward` function of ResNet networks (including ResNet-50) can be found here: https://github.com/pytorch/vision/blob/main/torchvision/models/resnet.py#L266\n",
        "\n",
        "You can also check if other networks perform better, for example, deeper ResNet topologies.\n",
        "Be aware that the strategy to replace the last fully-connected layer might not work the same way in other network topologies, only in residual networks."
      ]
    },
    {
      "cell_type": "markdown",
      "metadata": {
        "id": "vnUofpLifHr9"
      },
      "source": [
        "### Task 3: Pre-trained Network Instantiation\n",
        "\n",
        "Instantiate two pre-trained networks of type ResNet-50.\n",
        "\n",
        "1. Freeze the feature layers of the first network.\n",
        "\n",
        "Note: Make use the `old TorchVision Interface` to load your pre-trained network. Here is the link: https://pytorch.org/vision/0.12/models.html"
      ]
    },
    {
      "cell_type": "code",
      "execution_count": 8,
      "metadata": {
        "colab": {
          "base_uri": "https://localhost:8080/"
        },
        "id": "pNSnDWkgfHr9",
        "outputId": "b8f2dc4a-743e-4bcf-c3c3-b0806e6b6806"
      },
      "outputs": [
        {
          "output_type": "stream",
          "name": "stderr",
          "text": [
            "Downloading: \"https://download.pytorch.org/models/resnet50-11ad3fa6.pth\" to /root/.cache/torch/hub/checkpoints/resnet50-11ad3fa6.pth\n",
            "100%|██████████| 97.8M/97.8M [00:01<00:00, 89.8MB/s]\n"
          ]
        }
      ],
      "source": [
        "# instantiate the first pre-trained resnet 50 network\n",
        "network_1 = torchvision.models.resnet50(weights='DEFAULT')\n",
        "\n",
        "# Make sure to freeze all the layers of the network.\n",
        "for param in network_1.parameters():\n",
        "    param.requires_grad = False\n",
        "\n",
        "# instantiate the second pre-trained resnet 50 network (optinally) without the freezing\n",
        "network_2 = torchvision.models.resnet50(weights='DEFAULT')"
      ]
    },
    {
      "cell_type": "markdown",
      "metadata": {
        "id": "NLB-BpCMfHr9"
      },
      "source": [
        "### Task 4: Network Implementation\n",
        "\n",
        "We want to modify the network such that we extract the logits for the 6 classes from the last fully-connected layer of the network.\n",
        "\n",
        "Implement a function that:\n",
        "1. Replaces the current last linear layer of the pre-trained network with a new linear layer that has $O$ units ($O$ represents the number of classes in our dataset)."
      ]
    },
    {
      "cell_type": "code",
      "execution_count": 9,
      "metadata": {
        "id": "zBhWsOqVfHr9"
      },
      "outputs": [],
      "source": [
        "def replace_last_layer(network, O=6):\n",
        "    # replace the last linear layer with the new layer\n",
        "    in_features = network.fc.in_features\n",
        "    new_fc = torch.nn.Linear(in_features, O)\n",
        "    network.fc =  new_fc\n",
        "\n",
        "    return network"
      ]
    },
    {
      "cell_type": "markdown",
      "metadata": {
        "id": "3wo16Rc4fHr-"
      },
      "source": [
        "### Test 2: Last layer dimensions\n",
        "\n",
        "This test ensures that the function return a network having the correct number of input and output units in the last layer."
      ]
    },
    {
      "cell_type": "code",
      "execution_count": 10,
      "metadata": {
        "id": "29AwylBufHr-"
      },
      "outputs": [],
      "source": [
        "O = 6\n",
        "for network in (network_1, network_2):\n",
        "    new_model = replace_last_layer(network, O=O)\n",
        "    assert new_model.fc.out_features == O\n",
        "    assert new_model.fc.in_features == 2048"
      ]
    },
    {
      "cell_type": "markdown",
      "metadata": {
        "id": "iRvenLP2fHr-"
      },
      "source": [
        "## Network Training\n",
        "Implement a function that takes all necessary parameters to run a training on a given dataset.\n",
        "Select the optimizer to be `torch.optim.SGD` and `torch.nn.CrossEntropyLoss` as the loss function.\n",
        "The test set will be used as the validation set."
      ]
    },
    {
      "cell_type": "markdown",
      "metadata": {
        "id": "Yz0M_Uw5fHr-"
      },
      "source": [
        "### Task 5: Training and Evaluation Loop\n",
        "\n",
        "Implement a training loop over a specific number of epochs (5) with a learning rate of $\\eta=0.001$ and momentum of $\\mu = 0.9$. The function should return the predictions and the labels on the validation set after 5 epochs.\n",
        "\n",
        "In each loop, compute and print the training loss, training accuracy, validation loss and validation accuracy.\n",
        "\n",
        "Make sure that you train on the training data only, and `not` on the validation data."
      ]
    },
    {
      "cell_type": "code",
      "execution_count": 11,
      "metadata": {
        "id": "fYs3nP3ifHr-"
      },
      "outputs": [],
      "source": [
        "from tqdm import tqdm\n",
        "\n",
        "def train_eval(network,epochs,eta,momentum):\n",
        "    optimizer = torch.optim.SGD(params=network.parameters(),lr=eta, momentum=momentum)\n",
        "    loss = torch.nn.CrossEntropyLoss()\n",
        "\n",
        "    pred, target = [], [] #Store only the test results\n",
        "    network=network.to(device)\n",
        "\n",
        "    for epoch in tqdm(range(epochs)):\n",
        "\n",
        "        # training process\n",
        "        network.train()\n",
        "        count = 0\n",
        "        for x,t in trainloader:\n",
        "            # train\n",
        "            x = x.to(device)\n",
        "            t = t.to(device)\n",
        "\n",
        "            optimizer.zero_grad()\n",
        "            z = network(x)\n",
        "            J = loss(z, t)\n",
        "            J.backward()\n",
        "            optimizer.step()\n",
        "\n",
        "        # testing process\n",
        "        network.eval()\n",
        "        with torch.no_grad():\n",
        "\n",
        "            correct = 0\n",
        "            count = 0\n",
        "            for x,t in testloader:\n",
        "                # put data to device\n",
        "                x = x.to(device)\n",
        "                t = t.to(device)\n",
        "                # compute validation loss\n",
        "                z = network(x)\n",
        "                J = loss(z, t)\n",
        "                # compute validation accuracy\n",
        "                correct += torch.sum(torch.argmax(z, dim=1) == t).item()\n",
        "                count+=len(t)\n",
        "\n",
        "                # Save predictions and target labels of the test set after the last epoch\n",
        "                if(epoch==epochs-1):\n",
        "                    p = torch.argmax(z,dim=1)\n",
        "                    pred+= p.detach().cpu().numpy().tolist()\n",
        "                    target += t.detach().cpu().numpy().tolist()\n",
        "\n",
        "\n",
        "            # Calculate and print accuracies and losses for current epoch\n",
        "            acc = correct / count\n",
        "            print(f\"Epoch: {epoch}: Loss = {J}, Acc = {acc}\")\n",
        "\n",
        "\n",
        "\n",
        "\n",
        "\n",
        "    torch.cuda.empty_cache()\n",
        "\n",
        "    return pred, target"
      ]
    },
    {
      "cell_type": "markdown",
      "metadata": {
        "id": "jF6o8t_dfHr-"
      },
      "source": [
        "### Task 6: Network Fine-Tuning with Frozen Layers\n",
        "\n",
        "Create a network that has feature layers frozen with $6$ output units.\n",
        "Fine-tune the created network on our Intel Image Classification data using the previous function."
      ]
    },
    {
      "cell_type": "code",
      "execution_count": 12,
      "metadata": {
        "colab": {
          "base_uri": "https://localhost:8080/"
        },
        "id": "bX158lGcfHr-",
        "outputId": "c2e275be-fb6b-45d4-b4f1-914763a526bd"
      },
      "outputs": [
        {
          "output_type": "stream",
          "name": "stderr",
          "text": [
            " 20%|██        | 1/5 [01:03<04:14, 63.74s/it]"
          ]
        },
        {
          "output_type": "stream",
          "name": "stdout",
          "text": [
            "Epoch: 0: Loss = 0.8855019211769104, Acc = 0.7826666666666666\n"
          ]
        },
        {
          "output_type": "stream",
          "name": "stderr",
          "text": [
            "\r 40%|████      | 2/5 [02:09<03:14, 64.96s/it]"
          ]
        },
        {
          "output_type": "stream",
          "name": "stdout",
          "text": [
            "Epoch: 1: Loss = 0.6349467039108276, Acc = 0.8506666666666667\n"
          ]
        },
        {
          "output_type": "stream",
          "name": "stderr",
          "text": [
            "\r 60%|██████    | 3/5 [03:09<02:04, 62.48s/it]"
          ]
        },
        {
          "output_type": "stream",
          "name": "stdout",
          "text": [
            "Epoch: 2: Loss = 0.4921407997608185, Acc = 0.857\n"
          ]
        },
        {
          "output_type": "stream",
          "name": "stderr",
          "text": [
            "\r 80%|████████  | 4/5 [04:10<01:02, 62.05s/it]"
          ]
        },
        {
          "output_type": "stream",
          "name": "stdout",
          "text": [
            "Epoch: 3: Loss = 0.43018636107444763, Acc = 0.866\n"
          ]
        },
        {
          "output_type": "stream",
          "name": "stderr",
          "text": [
            "100%|██████████| 5/5 [05:11<00:00, 62.40s/it]"
          ]
        },
        {
          "output_type": "stream",
          "name": "stdout",
          "text": [
            "Epoch: 4: Loss = 0.4053354263305664, Acc = 0.8696666666666667\n"
          ]
        },
        {
          "output_type": "stream",
          "name": "stderr",
          "text": [
            "\n"
          ]
        }
      ],
      "source": [
        "network_with_frozen_layers = network_1\n",
        "pred_frozen, targ_frozen = train_eval(network=network_1,epochs=5,eta=0.001,momentum=0.9)\n"
      ]
    },
    {
      "cell_type": "code",
      "execution_count": null,
      "metadata": {
        "id": "paGdELZHh5wq"
      },
      "outputs": [],
      "source": [
        "torch.cuda.empty_cache()"
      ]
    },
    {
      "cell_type": "markdown",
      "metadata": {
        "id": "WJK_hBU0fHr_"
      },
      "source": [
        "### Task 7: Network Fine-Tuning without Frozen Layers\n",
        "\n",
        "Create a network from the second pre-trained network with $6$ output units. This network should not have the layers frozen.\n",
        "Fine-tune the created network on our dataset.\n",
        "\n",
        "Note:\n",
        "\n",
        "  * The fine-tuning of the network can take a long time (> 30 minutes) when the layers are not frozen."
      ]
    },
    {
      "cell_type": "code",
      "source": [
        "#Reduce Batch size for unfrozen\n",
        "B = 128\n",
        "trainloader = torch.utils.data.DataLoader(trainset,batch_size=B,shuffle=True)\n",
        "testloader = torch.utils.data.DataLoader(testset,batch_size=B,shuffle=False)"
      ],
      "metadata": {
        "id": "4WQXolcDIRru"
      },
      "execution_count": 16,
      "outputs": []
    },
    {
      "cell_type": "code",
      "execution_count": 18,
      "metadata": {
        "colab": {
          "base_uri": "https://localhost:8080/"
        },
        "id": "iyNFIoqofHr_",
        "outputId": "afb5e40b-067d-4e12-8c1b-25010b0fb4d0"
      },
      "outputs": [
        {
          "output_type": "stream",
          "name": "stderr",
          "text": [
            " 20%|██        | 1/5 [02:31<10:04, 151.00s/it]"
          ]
        },
        {
          "output_type": "stream",
          "name": "stdout",
          "text": [
            "Epoch: 0: Loss = 0.34831735491752625, Acc = 0.8963333333333333\n"
          ]
        },
        {
          "output_type": "stream",
          "name": "stderr",
          "text": [
            "\r 40%|████      | 2/5 [05:02<07:34, 151.49s/it]"
          ]
        },
        {
          "output_type": "stream",
          "name": "stdout",
          "text": [
            "Epoch: 1: Loss = 0.27203813195228577, Acc = 0.906\n"
          ]
        },
        {
          "output_type": "stream",
          "name": "stderr",
          "text": [
            "\r 60%|██████    | 3/5 [07:34<05:03, 151.58s/it]"
          ]
        },
        {
          "output_type": "stream",
          "name": "stdout",
          "text": [
            "Epoch: 2: Loss = 0.2838664948940277, Acc = 0.9126666666666666\n"
          ]
        },
        {
          "output_type": "stream",
          "name": "stderr",
          "text": [
            "\r 80%|████████  | 4/5 [10:06<02:31, 151.79s/it]"
          ]
        },
        {
          "output_type": "stream",
          "name": "stdout",
          "text": [
            "Epoch: 3: Loss = 0.2832658290863037, Acc = 0.9146666666666666\n"
          ]
        },
        {
          "output_type": "stream",
          "name": "stderr",
          "text": [
            "100%|██████████| 5/5 [12:38<00:00, 151.70s/it]"
          ]
        },
        {
          "output_type": "stream",
          "name": "stdout",
          "text": [
            "Epoch: 4: Loss = 0.28675249218940735, Acc = 0.9213333333333333\n"
          ]
        },
        {
          "output_type": "stream",
          "name": "stderr",
          "text": [
            "\n"
          ]
        }
      ],
      "source": [
        "network_normal = network_2 # Use network_2 defined above and replace the last layer\n",
        "pred_unfrozen, targ_unfrozen = train_eval(network=network_2,epochs=5,eta=0.001,momentum=0.9)"
      ]
    },
    {
      "cell_type": "markdown",
      "metadata": {
        "id": "5CI_FLebfHr_"
      },
      "source": [
        "## Plotting\n",
        "\n",
        "Finally, we want to plot the confusion matrix of the test set.\n",
        "For this, we need use the predictions and target values we saved from the previous tasks (Task 6 and Task 7).\n",
        "Finally, we can make use of the `sklearn.metrics.confusion_matrix` to compute the confusion matrix.\n",
        "You can utilize `sklearn.metrics.ConfusionMatrixDisplay` for displaying the confusion matrix, or `pyplot.imshow` and adding the according labels.\n",
        "\n",
        "Note:\n",
        "\n",
        "  * The documentation for the confusion matrix can be found here: https://scikit-learn.org/stable/modules/generated/sklearn.metrics.confusion_matrix.html\n",
        "  * The interface and an example for the `ConfusionMatrixDisplay` can be found here: https://scikit-learn.org/stable/modules/generated/sklearn.metrics.ConfusionMatrixDisplay.html"
      ]
    },
    {
      "cell_type": "markdown",
      "metadata": {
        "id": "Tr84usJKfHr_"
      },
      "source": [
        "### Task 8: Confusion Matrix Plotting\n",
        "\n",
        "* Plot the confusion matrix for the fine-tuned network with frozen layers.\n",
        "* Also plot the confusion matrix for the second fine-tuned network without frozen layers.\n",
        "* Compare the two\n",
        "\n",
        "Comparision: We can see clearly that the confusion matrix of the unfrozen model is much better than the frozen one, as it had a lot more paramters that could be finetuned for the particular task. However, the frozen model is pretty good considering the training time was almost 1/3 of the unfrozen model."
      ]
    },
    {
      "cell_type": "code",
      "execution_count": 15,
      "metadata": {
        "id": "MaITTbswfHr_",
        "colab": {
          "base_uri": "https://localhost:8080/",
          "height": 502
        },
        "outputId": "d4744864-45b0-4de1-86b0-d2767c82eda9"
      },
      "outputs": [
        {
          "output_type": "display_data",
          "data": {
            "text/plain": [
              "<Figure size 640x480 with 2 Axes>"
            ],
            "image/png": "[encoded data removed]"
          },
          "metadata": {}
        }
      ],
      "source": [
        "from sklearn.metrics import confusion_matrix, ConfusionMatrixDisplay\n",
        "import matplotlib.pyplot as plt\n",
        "\n",
        "# add axis labels if required\n",
        "classes = trainset.classes\n",
        "\n",
        "# compute confusion matrix\n",
        "matrix_frozen = confusion_matrix(y_true=targ_frozen,y_pred=pred_frozen) # Use predictions and target from the fine-tuned network with frozen layers\n",
        "\n",
        "# plot confusion matrices\n",
        "plot_conf_matrix1 = ConfusionMatrixDisplay(matrix_frozen, display_labels=classes)\n",
        "plot_conf_matrix1.plot(xticks_rotation = \"vertical\")\n",
        "plt.show()"
      ]
    },
    {
      "cell_type": "code",
      "execution_count": 20,
      "metadata": {
        "id": "JlTx253lfHr_",
        "colab": {
          "base_uri": "https://localhost:8080/",
          "height": 502
        },
        "outputId": "e4719dbe-6ad4-4233-eb3f-558d594a77d6"
      },
      "outputs": [
        {
          "output_type": "display_data",
          "data": {
            "text/plain": [
              "<Figure size 640x480 with 2 Axes>"
            ],
            "image/png": "[encoded data removed]"
          },
          "metadata": {}
        }
      ],
      "source": [
        "matrix_unfrozen = confusion_matrix(y_true=targ_unfrozen,y_pred=pred_unfrozen) # Use predictions and target from the fine-tuned network without frozen layers\n",
        "\n",
        "plot_conf_matrix2 = ConfusionMatrixDisplay(matrix_unfrozen, display_labels=classes)\n",
        "plot_conf_matrix2.plot(xticks_rotation = \"vertical\")\n",
        "plt.show()"
      ]
    }
  ],
  "metadata": {
    "accelerator": "GPU",
    "colab": {
      "gpuType": "T4",
      "provenance": []
    },
    "interpreter": {
      "hash": "2dd53f8ad749bca69f7250ce75eb4f0def59db5cf79075a9716322ffc58e8a2e"
    },
    "kernelspec": {
      "display_name": "Python 3 (ipykernel)",
      "language": "python",
      "name": "python3"
    },
    "language_info": {
      "codemirror_mode": {
        "name": "ipython",
        "version": 3
      },
      "file_extension": ".py",
      "mimetype": "text/x-python",
      "name": "python",
      "nbconvert_exporter": "python",
      "pygments_lexer": "ipython3",
      "version": "3.11.5"
    }
  },
  "nbformat": 4,
  "nbformat_minor": 0
}
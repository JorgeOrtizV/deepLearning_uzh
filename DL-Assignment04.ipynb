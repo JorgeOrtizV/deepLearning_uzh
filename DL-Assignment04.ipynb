{
 "cells": [
  {
   "cell_type": "markdown",
   "metadata": {},
   "source": [
    "### Group Members:\n",
    "\n",
    "- Name, matriculation number\n",
    "- Name, matriculation number\n",
    "- Name, matriculation number"
   ]
  },
  {
   "cell_type": "markdown",
   "metadata": {
    "id": "9DKZj8jK_Dry"
   },
   "source": [
    "# Assignment 4: Multi-Output Networks and Batch Processing\n",
    "\n",
    "The goal of this exercise is to get to know some regularization techniques when implementing deep learning methods.\n",
    "For this purpose, we select a dataset that contains data in different formats, some binary ($x_d \\in \\{-1,1\\}$) and some numerical ($x_d\\in \\mathbb N$); and some are categorical, which we ignore for now.\n",
    "As target values, this dataset contains three numerical outputs, so, $\\vec t \\in \\mathbb R^3$ for each sample.\n",
    "These target values should be approximated with a two-layer multi-output network that we will train with the $\\mathcal J^{L_2}$ loss.\n",
    "\n",
    "Remember to make use of `numpy` in the matrix calculation, e.g. `numpy.dot`, `numpy.exp`, `numpy.mean` "
   ]
  },
  {
   "cell_type": "markdown",
   "metadata": {
    "id": "5lrQLreklXtS"
   },
   "source": [
    "## Dataset\n",
    "\n",
    "The dataset of our choice is the Student Performance estimation dataset that was collected in Portugal in two different schools and with two different subjects, i.e., math and Portuguese (the mother tongue).\n",
    "The dataset contains many different inputs such as a binary representation of the school, gender, family sizes, and alike, as well as numerical representations of age, travel time, and alcohol consumption.\n",
    "The dataset also includes some categorical data, which we skip in this assignment.\n",
    "See https://archive.ics.uci.edu/ml/datasets/Student+Performance for more information on the dataset.\n",
    "As a start, we will rely on the Portuguese performance (`\"por\"`), but you can also try to use the Math samples (`\"mat\"`)."
   ]
  },
  {
   "cell_type": "markdown",
   "metadata": {
    "id": "HSol7VoalR-7"
   },
   "source": [
    "### Task 1: Dataset Loading\n",
    "\n",
    "\n",
    "Load the dataset from files and provide the input matrix $\\mathbf X \\in \\mathbb R^{(D+1)\\times N}$ and the output matrix $\\mathbf T \\in \\mathbb R^{O\\times N}$.\n",
    "\n",
    "Due to the difficulty of the task, most of the implementation is provided.\n",
    "The implementation is very literal and, therefore, hopefully readable, while maybe not the most efficient.\n",
    "\n",
    "We skip categorical inputs (indexes 8-11) for now.\n",
    "All other entries are converted either into binary $(-1,1)$ or into an integer range $(0,1,\\ldots)$.\n",
    "The three outputs range between 0 and 20 each. The bias value for $x_0=1$ is also already included.\n",
    "You just need to make sure that the data $(X,T)$ is returned in the desired format."
   ]
  },
  {
   "cell_type": "code",
   "execution_count": 1,
   "metadata": {
    "id": "wE3DlW-e_Dr1"
   },
   "outputs": [],
   "source": [
    "import math\n",
    "import numpy\n",
    "import numpy as np\n",
    "import os\n",
    "\n",
    "# Dataset origin: https://archive.ics.uci.edu/ml/datasets/Student+Performance\n",
    "\n",
    "def dataset(course=\"por\"):\n",
    "  # load dataset and provide input and target data\n",
    "  # possible data files are \"mat\" and \"por\"\n",
    "\n",
    "  # download data file from URL\n",
    "  dataset_zip_file = \"student.zip\"\n",
    "  if not os.path.exists(dataset_zip_file):\n",
    "    import urllib.request\n",
    "    urllib.request.urlretrieve(\"https://archive.ics.uci.edu/ml/machine-learning-databases/00320/student.zip\", dataset_zip_file)\n",
    "    print (\"Downloaded datafile\", dataset_zip_file)\n",
    "\n",
    "  import zipfile\n",
    "  import csv\n",
    "  import io\n",
    "\n",
    "  # collect inputs\n",
    "  inputs = []\n",
    "  targets = []\n",
    "  # some default values: yes=1, no=-1\n",
    "  yn = {\"yes\":1.,\"no\":-1.}\n",
    "  # read through dataset (without actually unzippiung to a file):\n",
    "  # ... open zip file\n",
    "  zip = zipfile.ZipFile(dataset_zip_file)\n",
    "  # ... open data file inside of zip file and convert bytes to text\n",
    "  datafile = io.TextIOWrapper(zip.open(os.path.join(F\"student-{course}.csv\"), 'r'))\n",
    "  # ... read through the lines via CSV reader, using the correct delimiter\n",
    "  reader = csv.reader(datafile, delimiter=\";\")\n",
    "  # ... skip header line\n",
    "  next(reader)\n",
    "  for splits in reader:\n",
    "    # read input values\n",
    "    inputs.append([\n",
    "      1.,                             #### BIAS ####\n",
    "      {\"GP\":1.,\"MS\":-1.}[splits[0]],  # school\n",
    "      {\"M\":1.,\"F\":-1.}[splits[1]],    # gender\n",
    "      float(splits[2]),               # age\n",
    "      {\"U\":1.,\"R\":-1.}[splits[3]],    # address\n",
    "      {\"LE3\":1.,\"GT3\":-1.}[splits[4]],# family size\n",
    "      {\"T\":1.,\"A\":-1.}[splits[5]],    # parents living together\n",
    "      float(splits[6]),               # mother education\n",
    "      float(splits[7]),               # father education\n",
    "      # skip categorical values\n",
    "      float(splits[12]),              # travel time\n",
    "      float(splits[13]),              # study time\n",
    "      float(splits[14]),              # failures\n",
    "      yn[splits[15]],                 # extra support\n",
    "      yn[splits[16]],                 # family support\n",
    "      yn[splits[17]],                 # paid support\n",
    "      yn[splits[18]],                 # activities\n",
    "      yn[splits[19]],                 # nursery school\n",
    "      yn[splits[20]],                 # higher education\n",
    "      yn[splits[21]],                 # internet\n",
    "      yn[splits[22]],                 # romantic\n",
    "      float(splits[23]),              # family relation\n",
    "      float(splits[24]),              # free time\n",
    "      float(splits[25]),              # going out\n",
    "      float(splits[26]),              # workday alcohol\n",
    "      float(splits[27]),              # weekend alcohol\n",
    "      float(splits[28]),              # health\n",
    "      float(splits[29]),              # absences\n",
    "    ])\n",
    "\n",
    "    # read targets values\n",
    "    targets.append([\n",
    "      float(splits[30]),              # grade for primary school\n",
    "      float(splits[31]),              # grade for secondary school\n",
    "      float(splits[32]),              # grade for tertiary school\n",
    "    ])\n",
    "\n",
    "  print(F\"Loaded dataset with {len(targets)} samples\")\n",
    "  # We traspose to match the requirements: X->((D+1),N); t -> (O,N)\n",
    "  return np.array(inputs).T, np.array(targets).T"
   ]
  },
  {
   "cell_type": "markdown",
   "metadata": {
    "id": "FWNwt2Rb_Dr3"
   },
   "source": [
    "### Test 1: Assert Valid Outputs\n",
    "\n",
    "This test will check the dimension of the loaded dataset, i.e. $\\mathbf X\\in \\mathbb R^{(D+1)\\times N}$ and $\\mathbf T \\in \\mathbb R^{O\\times N}$, and also assure that all target data is in the range $t\\in[0,20]$.\n",
    "\n",
    "Please make sure that your implementation can pass these tests before moving to the next task"
   ]
  },
  {
   "cell_type": "code",
   "execution_count": 2,
   "metadata": {
    "colab": {
     "base_uri": "https://localhost:8080/"
    },
    "id": "jaCpzc-l_Dr3",
    "outputId": "6fefb52a-492d-489a-aec3-156623dd939c"
   },
   "outputs": [
    {
     "name": "stdout",
     "output_type": "stream",
     "text": [
      "Loaded dataset with 649 samples\n"
     ]
    }
   ],
   "source": [
    "X_orig, T = dataset(\"por\")\n",
    "\n",
    "assert numpy.all(T >= 0) and numpy.all(T <= 20)\n",
    "\n",
    "assert X_orig.shape[0] == 27\n",
    "assert T.shape[0] == 3\n",
    "assert T.shape[1] == X_orig.shape[1]"
   ]
  },
  {
   "cell_type": "markdown",
   "metadata": {
    "id": "dfk_P5eG_Dr3"
   },
   "source": [
    "### Task 2: Input Data Normalization (Min-Max)\n",
    "\n",
    "Since the data is in different input regimes, we want to normalize the data.\n",
    "For this purpose, we need to compute the minimum and the maximum of the data for each input dimension.\n",
    "Then, we implement a function to perform the normalization of the data using the previously computed minimum and maximum. Make sure that you handle the bias neuron $x_0$ correctly. The formula for min-max normalization is provided below:\n",
    "\n",
    "  $$\\forall d >= 1\\colon x_d^{\\text{norm}} = \\frac{x_d - \\min\\limits_{\\vec x'\\in \\mathbf X^T} x_d'}{\\max\\limits_{\\vec x'\\in \\mathbf X^T} x_d' - \\min\\limits_{\\vec x'\\in \\mathbf X^T} x_d'}$$"
   ]
  },
  {
   "cell_type": "code",
   "execution_count": 3,
   "metadata": {
    "id": "0bUpUAHR_Dr3"
   },
   "outputs": [],
   "source": [
    "# compute maximum and minimum over dataset\n",
    "min_val = np.amin(X_orig, axis=1)\n",
    "max_val = np.amax(X_orig, axis=1)\n",
    "\n",
    "# assure to handle x_0 correctly\n",
    "x_0 = X_orig[0,:]\n",
    "\n",
    "def normalize(x, min_val, max_val):\n",
    "  # normalize the given data with the given minimum and maximum values\n",
    "  return np.concatenate((x_0.reshape(1,-1), np.array([(x[i,:] - min_val[i])/(max_val[i]-min_val[i]) for i in range(1, x.shape[0])])), axis=0)\n",
    "\n",
    "# Normalize our dataset\n",
    "X = normalize(X_orig, min_val, max_val)"
   ]
  },
  {
   "cell_type": "code",
   "execution_count": 5,
   "metadata": {},
   "outputs": [
    {
     "name": "stdout",
     "output_type": "stream",
     "text": [
      "(27, 649)\n"
     ]
    }
   ],
   "source": [
    "print(X.shape)"
   ]
  },
  {
   "cell_type": "markdown",
   "metadata": {
    "id": "6MZ_MPc-_Dr4"
   },
   "source": [
    "### Task 3: Batch Processing\n",
    "\n",
    "In order to run stochastic gradient descent, we need to split our dataset into batches of a certain batch size $B$. Implement a function that turns the dataset $(\\mathbf X, \\mathbf T)$ into batches of a certain batch size $B$.\n",
    "Implement this function as a generator function, i.e., use ``yield`` instead of ``return``.\n",
    "Circulate the dataset afresh when all data is consumed, and shuffle the data in each epoch.\n",
    "Make sure that you yield both the input batch and the target batch."
   ]
  },
  {
   "cell_type": "code",
   "execution_count": 6,
   "metadata": {
    "id": "GoDHo80J_Dr4"
   },
   "outputs": [],
   "source": [
    "from tqdm import tqdm\n",
    "\n",
    "def batch(X, T, batch_size=16):\n",
    "  epoch = 0\n",
    "  current_batch = 0\n",
    "  samples = X.shape[1]\n",
    "\n",
    "  while True:\n",
    "    e = False\n",
    "    # Check if our next split will overpass our number of samples\n",
    "    if((current_batch) * batch_size > samples):\n",
    "        epoch += 1\n",
    "        current_batch = 0\n",
    "        \n",
    "    if((current_batch+1) * batch_size > samples):\n",
    "        epoch += 1\n",
    "        current_batch = 0\n",
    "    \n",
    "    # Shuffle dataset in each epoch\n",
    "    if(current_batch == 0):\n",
    "        indices = np.random.permutation(samples)\n",
    "        X = X[:, indices]\n",
    "        T = T[:, indices]\n",
    "        # Indicates a new batch has started\n",
    "        e = True\n",
    "    \n",
    "    # Yield the sample\n",
    "    start_idx = current_batch*batch_size\n",
    "    end_idx = min((current_batch+1)*batch_size, samples)\n",
    "    \n",
    "    # Iteration condition\n",
    "    current_batch += 1\n",
    "    \n",
    "    yield X[:,start_idx:end_idx], T[:,start_idx:end_idx], e"
   ]
  },
  {
   "cell_type": "markdown",
   "metadata": {
    "id": "NgBsBOsa_Dr4"
   },
   "source": [
    "### Test 2: Test your Batches\n",
    "\n",
    "This test is to assure that your batch generation function works as expected. \n",
    "We define some test data for this purpose.\n",
    "The code below checks whether your batch function returns batches with correct content, i.e., $(\\vec x, \\vec t)$-alignment. \n",
    "It also checks that the batches are in the correct dimensions, i.e., that $\\mathbf X \\in \\mathbb R^{(D+1)\\times B}$ and $\\mathbf T \\in \\mathbb R^{O\\times B}$.\n",
    "\n",
    "Make sure you can pass this test before moving forward."
   ]
  },
  {
   "cell_type": "code",
   "execution_count": 7,
   "metadata": {
    "id": "fFndxbf1_CmR"
   },
   "outputs": [],
   "source": [
    "XX = numpy.array([[i] * 5 for i in range(50)]).T\n",
    "TT = numpy.array([[i] for i in range(10,60)]).T\n",
    "\n",
    "for counter, (x,t,e) in enumerate(batch(XX, TT, 16)):\n",
    "  assert x.shape[0] == 5\n",
    "  assert x.shape[1] == 16\n",
    "  assert t.shape[0] == 1\n",
    "  assert t.shape[1] == 16\n",
    "  assert numpy.all(x == t-10)\n",
    "  assert e == (counter % 3 == 0)\n",
    "  if counter == 20: break"
   ]
  },
  {
   "cell_type": "markdown",
   "metadata": {
    "id": "0B8o_mE1l6mp"
   },
   "source": [
    "## Gradient Descent\n",
    "\n",
    "To train a two-layer multi-output regression network, we need to implement some functions.\n",
    "The network output is computed in three steps:\n",
    "\n",
    "  * Compute network activation for a batch of inputs $\\mathbf X$: $\\mathbf A = \\mathbf W^{(1)}\\mathbf X$\n",
    "  * Call the activation function element-wise: $\\mathbf H = g(\\mathbf A)$. Here, we rely on the logistic activation function $\\sigma$. Assure that the hidden neuron bias $\\mathbf H_{0,:}$ is set appropriately.\n",
    "  * Compute the output $\\mathbf Y$ of the batch: $\\mathbf Y = \\mathbf W^{(2)}\\mathbf H$."
   ]
  },
  {
   "cell_type": "markdown",
   "metadata": {
    "id": "0pGCwC0L_Dr4"
   },
   "source": [
    "### Task 4: Multi-Output Network\n",
    "\n",
    "Implement a multi-target network that computes the output matrix $\\mathbf Y$ for a given input dataset/batch $\\mathbf X$ and given parameters $\\Theta=(\\mathbf W^{(1)}, \\mathbf W^{(2)})$ using `numpy` operations. \n",
    "The function should return both the output $\\mathbf Y$ and the output of the hidden units $\\mathbf H$ since we will need these in gradient descent. Select the logistic function $\\sigma$ as the activation function."
   ]
  },
  {
   "cell_type": "code",
   "execution_count": 36,
   "metadata": {
    "id": "j1gErN4z_Dr4"
   },
   "outputs": [],
   "source": [
    "def activation(x):\n",
    "    return 1/(1+np.exp(-x))\n",
    "\n",
    "def network(X, Theta):\n",
    "  W1, W2 = Theta\n",
    "\n",
    "  # compute activation\n",
    "  A = np.matmul(W1, X)\n",
    "    \n",
    "  # compute hidden unit output\n",
    "  H = activation(A)\n",
    "  try:\n",
    "      H = np.concatenate((np.ones((1, X.shape[1])), H), axis=0)\n",
    "  except:\n",
    "      # Received a vector\n",
    "      H = np.concatenate((np.ones(1), H), axis=0)\n",
    "    \n",
    "  # compute network output\n",
    "  Y = W2 @ H\n",
    "\n",
    "  return Y, H"
   ]
  },
  {
   "cell_type": "markdown",
   "metadata": {
    "id": "Zt0CMab4_Dr5"
   },
   "source": [
    "### Task 5: Loss Implementation\n",
    "\n",
    "Implement a loss function that returns the squared loss $\\mathcal J^{L_2} = \\frac1B \\|\\mathbf Y - \\mathbf T\\|_F^2$ for given network outputs $\\mathbf Y$ and target values $\\mathbf T$.\n",
    "Use `numpy` or `scipy` functionality for this task."
   ]
  },
  {
   "cell_type": "code",
   "execution_count": 26,
   "metadata": {
    "id": "RSwKiqIc_Dr5"
   },
   "outputs": [],
   "source": [
    "def loss(Y, T):\n",
    "  return (1/T.shape[1])*(np.linalg.norm(Y-T, ord='fro'))**2"
   ]
  },
  {
   "cell_type": "markdown",
   "metadata": {
    "id": "fD2srCKN_Dr5"
   },
   "source": [
    "### Task 6: Gradient Implementation\n",
    "\n",
    "Implement a function that computes and returns the gradient for a given batch $(\\mathbf X, \\mathbf T)$, the given network outputs $\\mathbf Y$ and $\\mathbf H$ as well as current parameters $\\Theta=(\\mathbf W^{(1)}, \\mathbf W^{(2)})$.\n",
    "Make sure to compute the gradient with respect to both weight matrices. Remember that we have used $\\sigma$ as the activation function.\n",
    "Implement the function using the fast version provided in the lecture and make use of `numpy` operations."
   ]
  },
  {
   "cell_type": "code",
   "execution_count": 27,
   "metadata": {
    "id": "Qe8QYVnP_Dr5"
   },
   "outputs": [],
   "source": [
    "def gradient(X, T, Y, H, Theta):\n",
    "  W1, W2 = Theta\n",
    "\n",
    "  # first layer gradient\n",
    "  sample_size = X.shape[1]\n",
    "  g1 = (2/sample_size)*((W2.T@(Y-T)*H*(1-H))@X.T)\n",
    "  # second layer gradient\n",
    "  g2 = (2/sample_size)*((Y-T)@H.T)\n",
    "\n",
    "  return g1, g2"
   ]
  },
  {
   "cell_type": "markdown",
   "metadata": {
    "id": "CpeCOHbE_Dr5"
   },
   "source": [
    "### Task 7: Iterative Gradient Descent\n",
    "\n",
    "\n",
    "Implement gradient descent for a given number of 10'000 epochs (**not batches!**) using given initial parameters $\\Theta$ and a given batch size $B$, as well as a learning rate of $\\eta=0.001$.\n",
    "\n",
    "Make use of the normalized dataset from Task 2, split into batches with the function from Task 3, the network from Task 4, the loss from Task 5, and the gradient from Task 6.\n",
    "\n",
    "Make sure that the network output $\\mathbf Y$ and the hidden unit output $\\mathbf H$ are computed only once for each batch. After applying gradient descent, add an option to use momentum learning with the given parameter `mu`.\n",
    "At the end of each epoch, compute and store the loss values for each batch in a list, and this list will be returned at the end.\n",
    "\n",
    "How many iterations do we need when $B < N$? How can you know whether your current batch is the last one of the current epoch?"
   ]
  },
  {
   "cell_type": "code",
   "execution_count": 28,
   "metadata": {
    "id": "QnuFqkg-82l2"
   },
   "outputs": [],
   "source": [
    "def gradient_descent(X, T, Theta, B, eta=0.001, mu=None):\n",
    "  loss_values = []\n",
    "\n",
    "  samples = X.shape[1]\n",
    "  max_epochs = 10000\n",
    "  # Num of all the batches we would run considering all epochs\n",
    "  max_batches = max_epochs*(samples // B)\n",
    "    \n",
    "  last_update = 0\n",
    "\n",
    "  \n",
    "  for batch_index, (x,t,e) in enumerate(tqdm(batch(X,T,B))):\n",
    "    if batch_index > max_batches:\n",
    "        break\n",
    "    # compute network output\n",
    "    output, h = network(x, Theta)\n",
    "    # compute and append loss - only at the start of the batch\n",
    "    if e:\n",
    "        loss_values.append(loss(output, t))\n",
    "    # compute gradient\n",
    "    grad = gradient(x,t, output, h, Theta)\n",
    "    w1 = grad[0][1:,:]\n",
    "    grad = (w1, grad[1])\n",
    "    \n",
    "    # and apply gradient descent\n",
    "    Theta = [t-eta*g for t,g in zip(Theta, grad)]\n",
    "\n",
    "    # apply momentum learning if desired\n",
    "    if mu != None:\n",
    "      if last_update != 0:\n",
    "        Theta = [t+mu*(t-t_old) for t, t_old in zip(Theta, last_update)]\n",
    "\n",
    "      last_update = Theta   \n",
    "    \n",
    "  # return the obtained loss values at the end\n",
    "  return loss_values"
   ]
  },
  {
   "cell_type": "markdown",
   "metadata": {
    "id": "NIvoljpW_Dr5"
   },
   "source": [
    "### Task 8: Run Gradient Descent\n",
    "\n",
    "Select an appropriate number of hidden neurons $K$.\n",
    "Instantiate the weight matrices $\\Theta=(\\mathbf W^{(1)}, \\mathbf W^{(2)})$ using the Xavier method as introduced in the lecture.\n",
    "\n",
    "Run the gradient descent three times, first as normal gradient descent, second as stochastic gradient descent with batch size $B=16$, and third with the same setup as the second but with momentum learning involved, select $\\mu =0.9$.\n",
    "\n",
    "How can you achieve this without requiring separate implementations of the ``gradient_descent`` function from Task 7?"
   ]
  },
  {
   "cell_type": "code",
   "execution_count": 29,
   "metadata": {
    "id": "r4BnX1m8_Dr6"
   },
   "outputs": [
    {
     "name": "stderr",
     "output_type": "stream",
     "text": [
      "10001it [00:02, 3365.07it/s]\n"
     ]
    }
   ],
   "source": [
    "K = 20\n",
    "D = X.shape[0]\n",
    "s_w1 = 1/(D**0.5)\n",
    "s_w2 = 1/(K**0.5)\n",
    "O = T.shape[0]\n",
    "W1 = np.random.uniform(-1*s_w1, s_w1, (K, D)) # In this case only D since we already added the bias term to X\n",
    "W2 = np.random.uniform(-1*s_w2, s_w2, (O, K+1))\n",
    "Theta = [W1, W2]\n",
    "\n",
    "import copy\n",
    "\n",
    "# run gradient descent with full dataset\n",
    "Theta1 = copy.deepcopy(Theta)\n",
    "GD = gradient_descent(X, T, Theta, X.shape[1])"
   ]
  },
  {
   "cell_type": "code",
   "execution_count": 30,
   "metadata": {},
   "outputs": [
    {
     "name": "stderr",
     "output_type": "stream",
     "text": [
      "400001it [00:18, 21591.62it/s]\n"
     ]
    }
   ],
   "source": [
    "# run stochastic gradient descent with batches of size 16\n",
    "Theta2 = copy.deepcopy(Theta)\n",
    "SGD = gradient_descent(X, T, Theta, 16)"
   ]
  },
  {
   "cell_type": "code",
   "execution_count": 31,
   "metadata": {},
   "outputs": [
    {
     "name": "stderr",
     "output_type": "stream",
     "text": [
      "400001it [00:22, 18041.97it/s]\n"
     ]
    }
   ],
   "source": [
    "# run stochastic gradient descent with batches of size 16 and momentum mu=0.9\n",
    "Theta3 = copy.deepcopy(Theta)\n",
    "SGD_Mo = gradient_descent(X, T, Theta, 16, mu=0.9)"
   ]
  },
  {
   "cell_type": "markdown",
   "metadata": {
    "id": "Mi5Wt88CnsNB"
   },
   "source": [
    "## Evaluation\n",
    "\n",
    "Finally, we want to evaluate how the learning process went and what the network has actually learned.\n",
    "For the former, we will plot the loss values obtained during training.\n",
    "For the latter, we define one specific sample of our own, and we evaluate the impact of several factors on the performance."
   ]
  },
  {
   "cell_type": "markdown",
   "metadata": {
    "id": "t1CGUw7k_Dr6"
   },
   "source": [
    "### Task 9: Plotting Loss Progression\n",
    "\n",
    "To show the learning process of the networks, plot the loss values of the three gradient descent steps from Task 8 together into one plot.\n",
    "Do we need to take care of something when plotting both together?\n",
    "\n",
    "Use logarithmic axes wherever you see fit.\n",
    "An exemplary loss progression plot can be found in the slides.\n",
    "\n"
   ]
  },
  {
   "cell_type": "code",
   "execution_count": 32,
   "metadata": {
    "id": "wMFMvuRg_Dr6"
   },
   "outputs": [
    {
     "data": {
      "text/plain": [
       "<matplotlib.legend.Legend at 0x24ec89d3a10>"
      ]
     },
     "execution_count": 32,
     "metadata": {},
     "output_type": "execute_result"
    },
    {
     "data": {
      "image/png": "[encoded data removed]",
      "text/plain": [
       "<Figure size 640x480 with 1 Axes>"
      ]
     },
     "metadata": {},
     "output_type": "display_data"
    }
   ],
   "source": [
    "from matplotlib import pyplot\n",
    "\n",
    "pyplot.plot(SGD, \"b-\", label=\"Stochastic Gradient Descent\")\n",
    "pyplot.plot(SGD_Mo, \"r-\", label=\"Stochastic Gradient Descent with Momentum\")\n",
    "pyplot.plot(GD, \"g-\", label=\"Gradient Descent\")\n",
    "pyplot.xscale('log')\n",
    "pyplot.yscale('log')\n",
    "\n",
    "pyplot.legend()"
   ]
  },
  {
   "cell_type": "markdown",
   "metadata": {
    "id": "sDJp99mK_Dr6"
   },
   "source": [
    "### Task 10: Best and Worst Performers\n",
    "\n",
    "We want to see what the network has learned.\n",
    "Therefore, we evaluate the best student in our dataset as well as the worst student based on their average grade. \n",
    "The best student would be the one with the highest average of the 3 outputs from the model and the worst student would be the one with the lowest average of the 3 outputs from the model.\n",
    "We will look into the features that represent the best student and the worst. \n",
    "\n",
    "Remember that input data need to be normalized before feeding it to the network. "
   ]
  },
  {
   "cell_type": "code",
   "execution_count": 37,
   "metadata": {},
   "outputs": [],
   "source": [
    "# Variables to store your info on best and worst student\n",
    "grades = np.array([(a1+ a2+ a3)/3 for a1, a2, a3 in T.T])\n",
    "best_student_idx = np.argmax(grades) # Index of the top student from the dataset\n",
    "worst_student_idx = np.argmin(grades) # Index of the bottom student from the dataset\n",
    "current_best_score = grades[best_student_idx] # Best average score of the top student\n",
    "current_worst_score = grades[worst_student_idx] # Worst average score of the bottom student\n",
    "\n",
    "min_avg=9999999999\n",
    "max_avg = 0\n",
    "best_student=None\n",
    "worst_student=None\n",
    "\n",
    "# Iterate over the whole dataset\n",
    "for i, x in enumerate(X.T):\n",
    "\n",
    "    # compute network predictions\n",
    "    prediction, _ = network(x, Theta3)\n",
    "\n",
    "    # Take the average of the predictions\n",
    "    avg = np.mean(prediction.flatten())\n",
    "\n",
    "    # Check for top student. (Save their index and their average scores)\n",
    "    if avg>max_avg:\n",
    "        best_student=i\n",
    "\n",
    "    # Check for bottom student. (Save their index and their average scores)\n",
    "    if avg<min_avg:\n",
    "        best_student=i\n"
   ]
  },
  {
   "cell_type": "markdown",
   "metadata": {},
   "source": [
    "##### Use the code below to see the features of top and bottom student in a table."
   ]
  },
  {
   "cell_type": "code",
   "execution_count": 38,
   "metadata": {},
   "outputs": [
    {
     "data": {
      "text/html": [
       "<div>\n",
       "<style scoped>\n",
       "    .dataframe tbody tr th:only-of-type {\n",
       "        vertical-align: middle;\n",
       "    }\n",
       "\n",
       "    .dataframe tbody tr th {\n",
       "        vertical-align: top;\n",
       "    }\n",
       "\n",
       "    .dataframe thead th {\n",
       "        text-align: right;\n",
       "    }\n",
       "</style>\n",
       "<table border=\"1\" class=\"dataframe\">\n",
       "  <thead>\n",
       "    <tr style=\"text-align: right;\">\n",
       "      <th></th>\n",
       "      <th>BIAS</th>\n",
       "      <th>School</th>\n",
       "      <th>Gender</th>\n",
       "      <th>Age</th>\n",
       "      <th>Address</th>\n",
       "      <th>Small family</th>\n",
       "      <th>Parents Living Together</th>\n",
       "      <th>Mother with higher education</th>\n",
       "      <th>Father with secondary education</th>\n",
       "      <th>Travel time</th>\n",
       "      <th>Study time</th>\n",
       "      <th>Failures</th>\n",
       "      <th>School Support</th>\n",
       "      <th>Family Support</th>\n",
       "      <th>Additional Classes</th>\n",
       "      <th>Out-of-school activities</th>\n",
       "      <th>Nursery school</th>\n",
       "      <th>Higher education</th>\n",
       "      <th>Internet access</th>\n",
       "      <th>Romantic Relationship</th>\n",
       "      <th>Good relation with family</th>\n",
       "      <th>Free time</th>\n",
       "      <th>Goes out with peers</th>\n",
       "      <th>Workday alcohol consumption</th>\n",
       "      <th>Weekend alcohol consumption</th>\n",
       "      <th>Current health status</th>\n",
       "      <th>Absences</th>\n",
       "      <th>Average Score</th>\n",
       "    </tr>\n",
       "  </thead>\n",
       "  <tbody>\n",
       "    <tr>\n",
       "      <th>0</th>\n",
       "      <td>1.0</td>\n",
       "      <td>1.0</td>\n",
       "      <td>-1.0</td>\n",
       "      <td>17.0</td>\n",
       "      <td>-1.0</td>\n",
       "      <td>1.0</td>\n",
       "      <td>1.0</td>\n",
       "      <td>3.0</td>\n",
       "      <td>1.0</td>\n",
       "      <td>2.0</td>\n",
       "      <td>4.0</td>\n",
       "      <td>0.0</td>\n",
       "      <td>-1.0</td>\n",
       "      <td>1.0</td>\n",
       "      <td>-1.0</td>\n",
       "      <td>-1.0</td>\n",
       "      <td>1.0</td>\n",
       "      <td>1.0</td>\n",
       "      <td>-1.0</td>\n",
       "      <td>-1.0</td>\n",
       "      <td>3.0</td>\n",
       "      <td>1.0</td>\n",
       "      <td>2.0</td>\n",
       "      <td>1.0</td>\n",
       "      <td>1.0</td>\n",
       "      <td>3.0</td>\n",
       "      <td>0.0</td>\n",
       "      <td>18.666667</td>\n",
       "    </tr>\n",
       "    <tr>\n",
       "      <th>1</th>\n",
       "      <td>1.0</td>\n",
       "      <td>-1.0</td>\n",
       "      <td>1.0</td>\n",
       "      <td>18.0</td>\n",
       "      <td>-1.0</td>\n",
       "      <td>-1.0</td>\n",
       "      <td>1.0</td>\n",
       "      <td>3.0</td>\n",
       "      <td>2.0</td>\n",
       "      <td>1.0</td>\n",
       "      <td>1.0</td>\n",
       "      <td>1.0</td>\n",
       "      <td>-1.0</td>\n",
       "      <td>-1.0</td>\n",
       "      <td>-1.0</td>\n",
       "      <td>-1.0</td>\n",
       "      <td>1.0</td>\n",
       "      <td>-1.0</td>\n",
       "      <td>1.0</td>\n",
       "      <td>-1.0</td>\n",
       "      <td>2.0</td>\n",
       "      <td>3.0</td>\n",
       "      <td>1.0</td>\n",
       "      <td>2.0</td>\n",
       "      <td>2.0</td>\n",
       "      <td>5.0</td>\n",
       "      <td>0.0</td>\n",
       "      <td>1.333333</td>\n",
       "    </tr>\n",
       "  </tbody>\n",
       "</table>\n",
       "</div>"
      ],
      "text/plain": [
       "   BIAS  School  Gender   Age  Address  Small family  Parents Living Together  \\\n",
       "0   1.0     1.0    -1.0  17.0     -1.0           1.0                      1.0   \n",
       "1   1.0    -1.0     1.0  18.0     -1.0          -1.0                      1.0   \n",
       "\n",
       "   Mother with higher education  Father with secondary education  Travel time  \\\n",
       "0                           3.0                              1.0          2.0   \n",
       "1                           3.0                              2.0          1.0   \n",
       "\n",
       "   Study time  Failures  School Support  Family Support  Additional Classes  \\\n",
       "0         4.0       0.0            -1.0             1.0                -1.0   \n",
       "1         1.0       1.0            -1.0            -1.0                -1.0   \n",
       "\n",
       "   Out-of-school activities  Nursery school  Higher education  \\\n",
       "0                      -1.0             1.0               1.0   \n",
       "1                      -1.0             1.0              -1.0   \n",
       "\n",
       "   Internet access  Romantic Relationship  Good relation with family  \\\n",
       "0             -1.0                   -1.0                        3.0   \n",
       "1              1.0                   -1.0                        2.0   \n",
       "\n",
       "   Free time  Goes out with peers  Workday alcohol consumption  \\\n",
       "0        1.0                  2.0                          1.0   \n",
       "1        3.0                  1.0                          2.0   \n",
       "\n",
       "   Weekend alcohol consumption  Current health status  Absences  Average Score  \n",
       "0                          1.0                    3.0       0.0      18.666667  \n",
       "1                          2.0                    5.0       0.0       1.333333  "
      ]
     },
     "execution_count": 38,
     "metadata": {},
     "output_type": "execute_result"
    }
   ],
   "source": [
    "# Save the best and worst student featuers\n",
    "best_student = X_orig[:, best_student_idx]\n",
    "worst_student = X_orig[:, worst_student_idx]\n",
    "\n",
    "# Append the average prediction in the above arrays for both students\n",
    "best_student_with_score = numpy.append(best_student, current_best_score)\n",
    "worst_student_with_score = numpy.append(worst_student, current_worst_score)\n",
    "\n",
    "# This is for your visualization purpose only. It will show you the top and bottom student in a tabular format.\n",
    "import pandas as pd\n",
    "\n",
    "# Set the option to display all columns\n",
    "pd.set_option('display.max_columns', None)\n",
    "\n",
    "#Just for visualization purposes\n",
    "columns = [\"BIAS\", \"School\", \"Gender\", \"Age\", \"Address\", \"Small family\", \"Parents Living Together\", \"Mother with higher education\", \"Father with secondary education\",\n",
    "           \"Travel time\", \"Study time\", \"Failures\", \"School Support\", \"Family Support\", \"Additional Classes\", \"Out-of-school activities\",\n",
    "           \"Nursery school\", \"Higher education\", \"Internet access\", \"Romantic Relationship\", \"Good relation with family\", \"Free time\",\n",
    "           \"Goes out with peers\", \"Workday alcohol consumption\", \"Weekend alcohol consumption\", \"Current health status\",\n",
    "           \"Absences\", \"Average Score\"]\n",
    "\n",
    "# Initialize an empty DataFrame with the specified columns\n",
    "df = pd.DataFrame(numpy.vstack([best_student_with_score, worst_student_with_score]), columns=columns)\n",
    "df"
   ]
  },
  {
   "cell_type": "markdown",
   "metadata": {
    "id": "9lB1b-8V_Dr6"
   },
   "source": [
    "### Task 11: Influence of Data Dimensions (Optional)\n",
    "\n",
    "\n",
    "For some dimensions in the input feature $\\vec x$, we want to test how different input values for this dimension would influence the outcome.\n",
    "Particularly, we test:\n",
    "\n",
    "  * Weekly study time at index $d=10$: vary in the range $[1,4]$ \n",
    "  * Past Failures at index $d=11$: vary in range $[0,3]$ \n",
    "  * Romantic relations at index $d=19$: change between yes ($1$) and no ($-1$)\n",
    "  * Weekday alcohol consumption at index $d=23$: varies in the range $[1,6]$.\n",
    "  * Absences at index $d=26$: vary with following values $[0,10,20,30]$.\n",
    "\n",
    "Note that the indexes include the fact that we are omitting some input dimensions, so they might differ from what is listed on the webpage.\n",
    "\n",
    "Check how the performance changes if the above features are changed for the best student and the worst student. \n",
    "\n",
    "Did the average increase or decrease? Did you expect this output?"
   ]
  },
  {
   "cell_type": "code",
   "execution_count": null,
   "metadata": {
    "id": "buTufJpd_Dr6"
   },
   "outputs": [],
   "source": [
    "# implement a way to modify the input at a given index with certain values\n",
    "# and to predict and print the network output for this modification\n",
    "...\n",
    "# run this with the 5 modifications and their according to values as seen above for both top and bottom student\n",
    "..."
   ]
  }
 ],
 "metadata": {
  "colab": {
   "provenance": []
  },
  "interpreter": {
   "hash": "2dd53f8ad749bca69f7250ce75eb4f0def59db5cf79075a9716322ffc58e8a2e"
  },
  "kernelspec": {
   "display_name": "Python 3 (ipykernel)",
   "language": "python",
   "name": "python3"
  },
  "language_info": {
   "codemirror_mode": {
    "name": "ipython",
    "version": 3
   },
   "file_extension": ".py",
   "mimetype": "text/x-python",
   "name": "python",
   "nbconvert_exporter": "python",
   "pygments_lexer": "ipython3",
   "version": "3.11.9"
  }
 },
 "nbformat": 4,
 "nbformat_minor": 1
}

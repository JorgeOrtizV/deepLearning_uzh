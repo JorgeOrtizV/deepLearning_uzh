{
 "cells": [
  {
   "cell_type": "markdown",
   "metadata": {},
   "source": [
    "### Group Members:\n",
    "\n",
    "- Varun Ghat Ravikumar, matriculation number\n",
    "- Shantam Raj, matriculation number\n",
    "- Jorge Alejandro Ortiz Valerio, 23-743-958"
   ]
  },
  {
   "cell_type": "markdown",
   "metadata": {},
   "source": [
    "# Assignment 1: Perceptron Learning\n",
    "\n",
    "The goal of this exercise is to apply the perceptron learning to a total of $N=100$ automatically generated, separable random data $X=\\bigl\\{\\vec x^1, \\vec x^2,\\ldots,\\vec x^ N \\bigr\\}$ with each $\\vec x^n = \\bigl(x_1^n, x_2^n\\bigr)^T$.\n",
    "Each data point $\\vec x^n$ is accompanied by an according target value $X=\\bigl\\{t^1, t^2,\\ldots,t^ N\\bigr\\}$ with $t^n \\in \\{-1,+1\\}$.\n",
    "\n",
    "## Data Generation\n",
    "The data should be generated such that\n",
    "$\\forall n\\leq\\frac N2\\colon \\vec x^n \\sim \\mathcal N_{\\vec\\mu_+, \\sigma_+}$.\n",
    "These samples will be our positive data labeled with $t^n=1$.\n",
    "Similarly, we generate our negative data with\n",
    "$\\forall n>\\frac N2\\colon \\vec x^n \\sim \\mathcal N_{\\vec\\mu_-, \\sigma_-}$\n",
    "and label them as $t^n=-1$.\n",
    "\n",
    "### Task 1: Data Samples\n",
    "\n",
    "Given the number of samples and the means (mu) and standard deviations (sigma) of positive (pos) and negative (neg) data, generate and return data samples including their labels. Remember to add the bias neuron $x_0=1$ to each of the samples.\n",
    "\n",
    "Hints:\n",
    "1. Use `numpy` package to generate data.\n",
    "2. Exemplary means could be selected as: $\\vec\\mu_+=(-5,3)^T$ and $\\vec\\mu_- = (5, -3)^T$. The standard deviations $\\sigma_+$ and $\\sigma_-$ should be selected such that the data is most likely separable."
   ]
  },
  {
   "cell_type": "code",
   "execution_count": 50,
   "metadata": {},
   "outputs": [],
   "source": [
    "import numpy\n",
    "import numpy as np\n",
    "\n",
    "def dataset(number_of_samples, mu_pos, sigma_pos, mu_neg, sigma_neg):\n",
    "  number_of_samples = int(number_of_samples/2)\n",
    "  # create positive and negative data\n",
    "  positive_data = np.random.normal(mu_pos, sigma_pos, size=(number_of_samples, len(mu_pos)))\n",
    "  negative_data = np.random.normal(mu_neg, sigma_neg, size=(number_of_samples, len(mu_neg)))\n",
    "\n",
    "  # assign positive and negative labels\n",
    "  positive_labels = np.ones((number_of_samples, 1))\n",
    "  negative_labels = -1*np.ones((number_of_samples, 1))\n",
    "\n",
    "  # concatenate positive and negative data\n",
    "  all_data = np.concatenate((positive_data, negative_data), axis=0)\n",
    "  all_labels = np.concatenate((positive_labels, negative_labels), axis=0)\n",
    "\n",
    "  # anything else to consider?\n",
    "  all_data = np.concatenate((np.ones((number_of_samples*2, 1)), all_data), axis=1)\n",
    "\n",
    "  # return both X and T\n",
    "  return all_data, all_labels"
   ]
  },
  {
   "cell_type": "markdown",
   "metadata": {},
   "source": [
    "### Task 2: Select Data Parameters and Line Parameters\n",
    "\n",
    "We want to select data points such that we exactly know where the ideal separating line should be placed.\n",
    "Note that data samples are not always separable since they are generated randomly.\n",
    "You should determine, which means and standard deviations are useful.\n",
    "\n",
    "Once you have defined your means, you should also define the separating line.\n",
    "The easiest is to provide it as Cartesian equation: $w_0 + w_1 x_1 + w_2 x_2$.\n",
    "Note that the separating line is orthogonal to the vector $\\overrightarrow{\\vec\\mu_- \\vec\\mu_+}$, that the normal of the line $(w_1, w_2)^T$ is orthogonal to the line, and that $w_0$ should be selected such that the line $\\vec w$ is in the middle of $\\vec\\mu_+$ and $\\vec\\mu_-$."
   ]
  },
  {
   "cell_type": "code",
   "execution_count": 51,
   "metadata": {},
   "outputs": [],
   "source": [
    "mu_pos=np.array([-5, 3])\n",
    "sigma_pos=0.5\n",
    "mu_neg=np.array([5,-3])\n",
    "sigma_neg=0.5\n",
    "\n",
    "\n",
    "X, T = dataset(100, mu_pos, sigma_pos, mu_neg, sigma_neg)\n",
    "# I return T as a column vector, so we need to traspose it\n",
    "T = T.T\n",
    "\n",
    "w_manual = np.array([0, -1, -1])"
   ]
  },
  {
   "cell_type": "code",
   "execution_count": 54,
   "metadata": {},
   "outputs": [
    {
     "data": {
      "text/plain": [
       "array([[ 1.        , -4.49034418,  2.97574069],\n",
       "       [ 1.        , -5.12000804,  2.63223054],\n",
       "       [ 1.        , -4.50657794,  2.42533231],\n",
       "       [ 1.        , -5.23399992,  3.49994434],\n",
       "       [ 1.        , -5.80231314,  2.87523168],\n",
       "       [ 1.        , -5.18130324,  2.73231176],\n",
       "       [ 1.        , -5.31518095,  2.69276334],\n",
       "       [ 1.        , -4.83462466,  2.8322418 ],\n",
       "       [ 1.        , -5.56996619,  4.05957322],\n",
       "       [ 1.        , -4.98171181,  3.07603103],\n",
       "       [ 1.        , -4.68076949,  3.58935015],\n",
       "       [ 1.        , -5.04007338,  2.60592457],\n",
       "       [ 1.        , -5.20549825,  3.35737914],\n",
       "       [ 1.        , -5.44593968,  3.23541488],\n",
       "       [ 1.        , -4.78027771,  3.21052268],\n",
       "       [ 1.        , -5.0294928 ,  3.18300409],\n",
       "       [ 1.        , -4.18488894,  3.11132044],\n",
       "       [ 1.        , -5.62913238,  3.71945403],\n",
       "       [ 1.        , -4.32316403,  2.77677757],\n",
       "       [ 1.        , -4.42498533,  3.08626056],\n",
       "       [ 1.        , -5.40104319,  2.19855733],\n",
       "       [ 1.        , -4.56540291,  3.27572291],\n",
       "       [ 1.        , -5.07603241,  2.4081861 ],\n",
       "       [ 1.        , -3.80865563,  2.80367576],\n",
       "       [ 1.        , -4.6592427 ,  3.11612358],\n",
       "       [ 1.        , -5.60916684,  2.52394971],\n",
       "       [ 1.        , -4.87594047,  3.90680346],\n",
       "       [ 1.        , -5.08485935,  4.17451953],\n",
       "       [ 1.        , -4.66601715,  3.22783926],\n",
       "       [ 1.        , -5.1332347 ,  3.13734405],\n",
       "       [ 1.        , -5.22084956,  2.8150554 ],\n",
       "       [ 1.        , -5.43930217,  2.57334026],\n",
       "       [ 1.        , -5.44414447,  2.90201014],\n",
       "       [ 1.        , -5.4413918 ,  3.07567858],\n",
       "       [ 1.        , -4.759975  ,  3.73314865],\n",
       "       [ 1.        , -4.93055122,  2.87402354],\n",
       "       [ 1.        , -4.43317585,  2.80804381],\n",
       "       [ 1.        , -5.04573619,  2.70106283],\n",
       "       [ 1.        , -5.93905788,  3.38784447],\n",
       "       [ 1.        , -5.76696335,  3.68568081],\n",
       "       [ 1.        , -5.60048988,  3.4044966 ],\n",
       "       [ 1.        , -5.36968165,  3.10816628],\n",
       "       [ 1.        , -5.10206364,  4.10302898],\n",
       "       [ 1.        , -4.54167168,  2.51445239],\n",
       "       [ 1.        , -5.25270107,  2.88069323],\n",
       "       [ 1.        , -4.90247462,  2.55885723],\n",
       "       [ 1.        , -4.49870711,  3.28327361],\n",
       "       [ 1.        , -5.21089342,  3.02622861],\n",
       "       [ 1.        , -5.36825962,  3.00895214],\n",
       "       [ 1.        , -4.7199017 ,  2.51946646],\n",
       "       [ 1.        ,  5.02667048, -2.50566033],\n",
       "       [ 1.        ,  4.84108692, -2.40800989],\n",
       "       [ 1.        ,  4.89479178, -3.65703661],\n",
       "       [ 1.        ,  4.65628651, -3.28928984],\n",
       "       [ 1.        ,  4.57556093, -3.08351491],\n",
       "       [ 1.        ,  5.53015182, -3.51090645],\n",
       "       [ 1.        ,  4.82601358, -3.08343177],\n",
       "       [ 1.        ,  4.47731182, -2.90754778],\n",
       "       [ 1.        ,  4.91109008, -2.97484024],\n",
       "       [ 1.        ,  4.80249697, -3.26230701],\n",
       "       [ 1.        ,  5.87202064, -2.74738613],\n",
       "       [ 1.        ,  4.78999467, -3.27237044],\n",
       "       [ 1.        ,  5.03230292, -3.04035657],\n",
       "       [ 1.        ,  4.97014994, -2.55486825],\n",
       "       [ 1.        ,  6.14022417, -2.88655431],\n",
       "       [ 1.        ,  4.74683887, -3.46631397],\n",
       "       [ 1.        ,  4.60292441, -3.62167674],\n",
       "       [ 1.        ,  5.24720429, -3.91135502],\n",
       "       [ 1.        ,  5.1480623 , -2.63120382],\n",
       "       [ 1.        ,  4.49952439, -4.24654999],\n",
       "       [ 1.        ,  5.08748127, -2.84583826],\n",
       "       [ 1.        ,  5.0206662 , -3.1210937 ],\n",
       "       [ 1.        ,  5.15668363, -3.0840684 ],\n",
       "       [ 1.        ,  5.11147351, -3.34388889],\n",
       "       [ 1.        ,  4.69208302, -3.48994701],\n",
       "       [ 1.        ,  5.16227503, -2.9702303 ],\n",
       "       [ 1.        ,  5.03836036, -3.12681617],\n",
       "       [ 1.        ,  4.93085558, -2.57258723],\n",
       "       [ 1.        ,  4.88613046, -3.86324741],\n",
       "       [ 1.        ,  4.53593237, -3.12091462],\n",
       "       [ 1.        ,  4.33776313, -2.78701661],\n",
       "       [ 1.        ,  6.27879471, -3.24528287],\n",
       "       [ 1.        ,  5.3204382 , -2.99427344],\n",
       "       [ 1.        ,  4.87957098, -3.08878451],\n",
       "       [ 1.        ,  5.64256004, -2.56489292],\n",
       "       [ 1.        ,  4.87280006, -2.66302107],\n",
       "       [ 1.        ,  3.83657943, -2.8556985 ],\n",
       "       [ 1.        ,  6.19797544, -2.98551798],\n",
       "       [ 1.        ,  4.70982696, -3.79094249],\n",
       "       [ 1.        ,  4.38439816, -3.40927344],\n",
       "       [ 1.        ,  4.59662324, -3.07218655],\n",
       "       [ 1.        ,  4.74677959, -2.86504558],\n",
       "       [ 1.        ,  4.89289314, -3.6486822 ],\n",
       "       [ 1.        ,  5.70463514, -2.5861411 ],\n",
       "       [ 1.        ,  4.75137626, -3.28019081],\n",
       "       [ 1.        ,  4.82488912, -3.14263226],\n",
       "       [ 1.        ,  4.43468958, -3.77074761],\n",
       "       [ 1.        ,  4.87328129, -3.94647098],\n",
       "       [ 1.        ,  4.74438424, -3.63351132],\n",
       "       [ 1.        ,  5.34313831, -2.96478995]])"
      ]
     },
     "execution_count": 54,
     "metadata": {},
     "output_type": "execute_result"
    }
   ],
   "source": [
    "X"
   ]
  },
  {
   "cell_type": "code",
   "execution_count": 55,
   "metadata": {},
   "outputs": [
    {
     "data": {
      "text/plain": [
       "(1, 100)"
      ]
     },
     "execution_count": 55,
     "metadata": {},
     "output_type": "execute_result"
    }
   ],
   "source": [
    "T.shape"
   ]
  },
  {
   "cell_type": "code",
   "execution_count": 56,
   "metadata": {},
   "outputs": [
    {
     "data": {
      "text/plain": [
       "array([[1.51460349, 2.4877775 , 2.08124562, 1.73405558, 2.92708146,\n",
       "        2.44899149, 2.62241761, 2.00238286, 1.51039298, 1.90568078,\n",
       "        1.09141934, 2.43414881, 1.84811911, 2.2105248 , 1.56975503,\n",
       "        1.84648871, 1.0735685 , 1.90967835, 1.54638646, 1.33872477,\n",
       "        3.20248586, 1.28968   , 2.66784631, 1.00497987, 1.54311912,\n",
       "        3.08521713, 0.96913701, 0.91033982, 1.4381779 , 1.99589065,\n",
       "        2.40579416, 2.86596191, 2.54213433, 2.36571322, 1.02682636,\n",
       "        2.05652768, 1.62513203, 2.34467336, 2.55121341, 2.08128254,\n",
       "        2.19599328, 2.26151538, 0.99903466, 2.02721929, 2.37200784,\n",
       "        2.34361739, 1.2154335 , 2.1846648 , 2.35930747, 2.20043524,\n",
       "        2.52101014, 2.43307704, 1.23775517, 1.36699667, 1.49204603,\n",
       "        2.01924537, 1.74258181, 1.56976404, 1.93624984, 1.54018996,\n",
       "        3.12463451, 1.51762423, 1.99194636, 2.4152817 , 3.25366986,\n",
       "        1.2805249 , 0.98124767, 1.33584927, 2.51685848, 0.2529744 ,\n",
       "        2.24164301, 1.8995725 , 2.07261523, 1.76758462, 1.20213601,\n",
       "        2.19204473, 1.91154419, 2.35826835, 1.02288304, 1.41501775,\n",
       "        1.55074652, 3.03351184, 2.32616476, 1.79078648, 3.07766711,\n",
       "        2.20977899, 0.98088094, 3.21245746, 0.91888447, 0.97512472,\n",
       "        1.52443669, 1.881734  , 1.24421094, 3.11849404, 1.47118545,\n",
       "        1.68225686, 0.66394197, 0.92681032, 1.11087292, 2.37834836]])"
      ]
     },
     "execution_count": 56,
     "metadata": {},
     "output_type": "execute_result"
    }
   ],
   "source": [
    "X.dot(w_manual)*T"
   ]
  },
  {
   "cell_type": "markdown",
   "metadata": {},
   "source": [
    "### Test 1: Linear Separability Test\n",
    "\n",
    "A line $a = f_{\\vec w}(\\vec x) = w_0 + w_1 x_1 + w_2 x_2$ linearly separates the data $(X,T)$ if $\\forall n: a^{[n]} t^{[n]} > 0$ for $a^{[n]} = f_{\\vec w}(\\vec x^{[n]})$.\n",
    "The below function implements this linear separability test. We apply this test to your data $(X,T)$ from Task 1 and your manually selected line $\\vec w$ from Task 2 to assure that the line separates the data."
   ]
  },
  {
   "cell_type": "code",
   "execution_count": 68,
   "metadata": {},
   "outputs": [
    {
     "name": "stdout",
     "output_type": "stream",
     "text": [
      "[[1.51460349 2.4877775  2.08124562 1.73405558 2.92708146 2.44899149\n",
      "  2.62241761 2.00238286 1.51039298 1.90568078 1.09141934 2.43414881\n",
      "  1.84811911 2.2105248  1.56975503 1.84648871 1.0735685  1.90967835\n",
      "  1.54638646 1.33872477 3.20248586 1.28968    2.66784631 1.00497987\n",
      "  1.54311912 3.08521713 0.96913701 0.91033982 1.4381779  1.99589065\n",
      "  2.40579416 2.86596191 2.54213433 2.36571322 1.02682636 2.05652768\n",
      "  1.62513203 2.34467336 2.55121341 2.08128254 2.19599328 2.26151538\n",
      "  0.99903466 2.02721929 2.37200784 2.34361739 1.2154335  2.1846648\n",
      "  2.35930747 2.20043524 2.52101014 2.43307704 1.23775517 1.36699667\n",
      "  1.49204603 2.01924537 1.74258181 1.56976404 1.93624984 1.54018996\n",
      "  3.12463451 1.51762423 1.99194636 2.4152817  3.25366986 1.2805249\n",
      "  0.98124767 1.33584927 2.51685848 0.2529744  2.24164301 1.8995725\n",
      "  2.07261523 1.76758462 1.20213601 2.19204473 1.91154419 2.35826835\n",
      "  1.02288304 1.41501775 1.55074652 3.03351184 2.32616476 1.79078648\n",
      "  3.07766711 2.20977899 0.98088094 3.21245746 0.91888447 0.97512472\n",
      "  1.52443669 1.881734   1.24421094 3.11849404 1.47118545 1.68225686\n",
      "  0.66394197 0.92681032 1.11087292 2.37834836]]\n",
      "The data is separated by the manually selected line\n"
     ]
    }
   ],
   "source": [
    "def separability_test(X, T, w):\n",
    "  print(np.dot(X,w) * T)\n",
    "  return numpy.all(numpy.dot(X,w) * T > 0)\n",
    "\n",
    "# Test 1: check that the weights are separating the data\n",
    "if separability_test(X, T, w_manual):\n",
    "  print(\"The data is separated by the manually selected line\")\n",
    "else:\n",
    "  print(\"The anually selected line does not separate the data\")"
   ]
  },
  {
   "cell_type": "markdown",
   "metadata": {},
   "source": [
    "### Task 3: Perceptron\n",
    "\n",
    "The perceptron is defined as the Adaline $$a = f_{\\vec w}(\\vec x)$$ that is thresholded using the sign function $$\\mathrm{sign}(a) = \\begin{cases} +1 &\\text{if } a \\geq 0\\\\ -1 & \\text{otherwise.}\\end{cases}$$\n",
    "Implement a function that computes and returns the perceptron for a given data point $\\vec x$ and line parameters $\\vec w$."
   ]
  },
  {
   "cell_type": "code",
   "execution_count": 104,
   "metadata": {},
   "outputs": [],
   "source": [
    "def perceptron(x, w):\n",
    "  activation = np.dot(x,w)\n",
    "  if activation>=0:\n",
    "    return 1\n",
    "  return -1"
   ]
  },
  {
   "cell_type": "markdown",
   "metadata": {},
   "source": [
    "## Perceptron Learning\n",
    "\n",
    "The perceptron learning rule is defined as follows.\n",
    "First, the weights $\\vec w = (w_0, w_1, w_2)^T$ are initialized randomly.\n",
    "Then, for each sample $(x,t)$ of the dataset we check if the sample is correctly classified as $H(f_{\\vec w}(\\vec x)) t > 0$.\n",
    "If the sample is classified incorrectly, the weights are adapted: $w_0 = w_0 + t$, $w_1 = w_1 + tx_1$, $w_2 = w_2 + tx_2$.\n",
    "This step is repeated until all samples are classified correctly.\n",
    "\n",
    "\n",
    "### Task 4: Perceptron Learning Implementation\n",
    "\n",
    "Implement a function that performs perceptron learning for a given dataset $(X,T)$ and a given initial weight vector $\\vec w$.\n",
    "The final weight vector $\\vec w^*$ shall be returned from that function.\n",
    "Define a proper stopping criterion for the iteration.\n",
    "Consider in your implementation error cases that could arise.\n"
   ]
  },
  {
   "cell_type": "code",
   "execution_count": 114,
   "metadata": {},
   "outputs": [],
   "source": [
    "def perceptron_learning(X, T, w):\n",
    "  # first, make a copy of your weights\n",
    "  w_star = w.copy()\n",
    "\n",
    "  # then, iterate over the data and perform perceptron learning\n",
    "  # Adding epoch iterations\n",
    "  max_epoch = 10\n",
    "  epoch = 10\n",
    "  while not separability_test(X, T, w_star) and epoch<max_epoch:\n",
    "      for i in range(X.shape[0]):\n",
    "        result = perceptron(X[i,:], w_star)\n",
    "        expected = T[:, i]\n",
    "        if result != expected:\n",
    "            w_star = w_star + (T@X).reshape(3)\n",
    "      epoch+=1\n",
    "\n",
    "  # finally, return the optimal weights\n",
    "  return w_star"
   ]
  },
  {
   "cell_type": "markdown",
   "metadata": {},
   "source": [
    "### Test 2: Sanity Check\n",
    "\n",
    "We call the perceptron learning function with the data from task 1 and the manual line from task 2. If the line separates the data, it should not be changed. Here we test if this is the actual outcome of the perceptron learning function."
   ]
  },
  {
   "cell_type": "code",
   "execution_count": 115,
   "metadata": {},
   "outputs": [
    {
     "name": "stdout",
     "output_type": "stream",
     "text": [
      "[[1.51460349 2.4877775  2.08124562 1.73405558 2.92708146 2.44899149\n",
      "  2.62241761 2.00238286 1.51039298 1.90568078 1.09141934 2.43414881\n",
      "  1.84811911 2.2105248  1.56975503 1.84648871 1.0735685  1.90967835\n",
      "  1.54638646 1.33872477 3.20248586 1.28968    2.66784631 1.00497987\n",
      "  1.54311912 3.08521713 0.96913701 0.91033982 1.4381779  1.99589065\n",
      "  2.40579416 2.86596191 2.54213433 2.36571322 1.02682636 2.05652768\n",
      "  1.62513203 2.34467336 2.55121341 2.08128254 2.19599328 2.26151538\n",
      "  0.99903466 2.02721929 2.37200784 2.34361739 1.2154335  2.1846648\n",
      "  2.35930747 2.20043524 2.52101014 2.43307704 1.23775517 1.36699667\n",
      "  1.49204603 2.01924537 1.74258181 1.56976404 1.93624984 1.54018996\n",
      "  3.12463451 1.51762423 1.99194636 2.4152817  3.25366986 1.2805249\n",
      "  0.98124767 1.33584927 2.51685848 0.2529744  2.24164301 1.8995725\n",
      "  2.07261523 1.76758462 1.20213601 2.19204473 1.91154419 2.35826835\n",
      "  1.02288304 1.41501775 1.55074652 3.03351184 2.32616476 1.79078648\n",
      "  3.07766711 2.20977899 0.98088094 3.21245746 0.91888447 0.97512472\n",
      "  1.52443669 1.881734   1.24421094 3.11849404 1.47118545 1.68225686\n",
      "  0.66394197 0.92681032 1.11087292 2.37834836]]\n",
      "As desired, perceptron learning does not optimize an already separating line\n"
     ]
    }
   ],
   "source": [
    "w_star = perceptron_learning(X, T, w_manual)\n",
    "\n",
    "# check if the output is as expected\n",
    "if numpy.any(w_manual != w_star):\n",
    "    print(\"Warning: the perceptron algorithm seems to be wrong\")\n",
    "else:\n",
    "    print(\"As desired, perceptron learning does not optimize an already separating line\")"
   ]
  },
  {
   "cell_type": "markdown",
   "metadata": {},
   "source": [
    "### Task 5: Weight Initialization\n",
    "\n",
    "Implement a function that generates and returns randomly initialized weights $\\vec w \\in [-1,1]^3$."
   ]
  },
  {
   "cell_type": "code",
   "execution_count": 116,
   "metadata": {},
   "outputs": [],
   "source": [
    "def random_weights(lowest = -1, highest = 1):\n",
    "  return np.random.uniform(lowest, highest, size=(3,))"
   ]
  },
  {
   "cell_type": "markdown",
   "metadata": {},
   "source": [
    "### Task 6: Perceptron Learning Execution\n",
    "\n",
    "Call the perceptron learning function with the data from task 1 and the randomly generated initial weight vector from task 5.\n",
    "Store the resulting weight vector $\\vec w^*$."
   ]
  },
  {
   "cell_type": "code",
   "execution_count": 117,
   "metadata": {},
   "outputs": [
    {
     "name": "stdout",
     "output_type": "stream",
     "text": [
      "[[1.93019739 2.18040739 1.83578067 2.39890452 2.56612589 2.22963336\n",
      "  2.28906978 2.07525958 2.67078011 2.19406073 2.13950488 2.13562178\n",
      "  2.35812902 2.45538835 2.11859866 2.237827   1.8030333  2.6369536\n",
      "  1.80971935 1.91816953 2.23986448 2.02352395 2.11673463 1.55799886\n",
      "  2.04062193 2.40432085 2.2960194  2.45012999 2.06481001 2.28108787\n",
      "  2.26477779 2.32876073 2.39239382 2.42336714 2.20581039 2.13090733\n",
      "  1.8704368  2.15616752 2.72983646 2.6994383  2.56399868 2.3936361\n",
      "  2.44539905 1.869891   2.29289659 2.05819587 1.99165031 2.29914221\n",
      "  2.37444727 1.95975848 3.83956791 3.72877703 3.98821399 3.80070896\n",
      "  3.72210146 4.27802956 3.84705734 3.64030191 3.86928312 3.86863963\n",
      "  4.30640543 3.86427558 3.94196899 3.82053047 4.46615514 3.87886484\n",
      "  3.83599142 4.21142993 3.92352353 3.90078329 3.93327171 3.95120028\n",
      "  4.01217433 4.03800852 3.85594446 3.99376127 3.96109519 3.80422356\n",
      "  4.02230023 3.70929345 3.54821992 4.60211483 4.07716004 3.87477851\n",
      "  4.15791819 3.79209878 3.3109307  4.5134046  3.92086069 3.68738927\n",
      "  3.73050119 3.76684518 3.98571054 4.19285016 3.84646229 3.85752273\n",
      "  3.77981066 4.03138964 3.9087816  4.0829955 ]]\n"
     ]
    },
    {
     "data": {
      "text/plain": [
       "array([-0.8646544 , -0.49898204,  0.18625638])"
      ]
     },
     "execution_count": 117,
     "metadata": {},
     "output_type": "execute_result"
    }
   ],
   "source": [
    "# create random weights\n",
    "w_initial = random_weights()\n",
    "\n",
    "# perform perceptron learning\n",
    "w_star = perceptron_learning(X, T, w_initial)\n",
    "\n",
    "w_initial"
   ]
  },
  {
   "cell_type": "markdown",
   "metadata": {},
   "source": [
    "### Test 3: Result Validation\n",
    "\n",
    "We verify that the optimized $\\vec w^*$ actually separates the data."
   ]
  },
  {
   "cell_type": "code",
   "execution_count": 118,
   "metadata": {},
   "outputs": [
    {
     "name": "stdout",
     "output_type": "stream",
     "text": [
      "[[1.93019739 2.18040739 1.83578067 2.39890452 2.56612589 2.22963336\n",
      "  2.28906978 2.07525958 2.67078011 2.19406073 2.13950488 2.13562178\n",
      "  2.35812902 2.45538835 2.11859866 2.237827   1.8030333  2.6369536\n",
      "  1.80971935 1.91816953 2.23986448 2.02352395 2.11673463 1.55799886\n",
      "  2.04062193 2.40432085 2.2960194  2.45012999 2.06481001 2.28108787\n",
      "  2.26477779 2.32876073 2.39239382 2.42336714 2.20581039 2.13090733\n",
      "  1.8704368  2.15616752 2.72983646 2.6994383  2.56399868 2.3936361\n",
      "  2.44539905 1.869891   2.29289659 2.05819587 1.99165031 2.29914221\n",
      "  2.37444727 1.95975848 3.83956791 3.72877703 3.98821399 3.80070896\n",
      "  3.72210146 4.27802956 3.84705734 3.64030191 3.86928312 3.86863963\n",
      "  4.30640543 3.86427558 3.94196899 3.82053047 4.46615514 3.87886484\n",
      "  3.83599142 4.21142993 3.92352353 3.90078329 3.93327171 3.95120028\n",
      "  4.01217433 4.03800852 3.85594446 3.99376127 3.96109519 3.80422356\n",
      "  4.02230023 3.70929345 3.54821992 4.60211483 4.07716004 3.87477851\n",
      "  4.15791819 3.79209878 3.3109307  4.5134046  3.92086069 3.68738927\n",
      "  3.73050119 3.76684518 3.98571054 4.19285016 3.84646229 3.85752273\n",
      "  3.77981066 4.03138964 3.9087816  4.0829955 ]]\n",
      "The data is separated by the optimal line\n"
     ]
    }
   ],
   "source": [
    "# verify that we have learned to separate the data\n",
    "if separability_test(X, T, w_star):\n",
    "  print(\"The data is separated by the optimal line\")\n",
    "else:\n",
    "  print(\"The optimal line does not separate the data\")"
   ]
  },
  {
   "cell_type": "markdown",
   "metadata": {},
   "source": [
    "## Visualization\n",
    "\n",
    "We have selected our data to be 2-dimensional to be able to visualize the results.\n",
    "For this purpose, we would like to jointly plot the positive and the negative data from Task 1 together with the decision boundaries of the weight vectors obtained in Tasks 2 and 6.\n",
    "An example can be found in the exercise slides.\n",
    "\n",
    "### Task 7: Plotting\n",
    "\n",
    "First, we need to plot the data points such that positive data are plotted with green dots, and negative data with red dots.\n",
    "\n",
    "Then, we need to compute the line parameters. For this purpose, we define the separating line in Cartesian coordinates $f_{\\vec w}(\\vec x) = 0$ and solve it to the parametric form $x_2 = \\beta x_1 + \\gamma$."
   ]
  },
  {
   "cell_type": "code",
   "execution_count": 121,
   "metadata": {},
   "outputs": [
    {
     "data": {
      "image/png": "[encoded data removed]",
      "text/plain": [
       "<Figure size 800x800 with 1 Axes>"
      ]
     },
     "metadata": {},
     "output_type": "display_data"
    }
   ],
   "source": [
    "def line_parameters(w):\n",
    "  # compute parametric line parameters from Cartesian coordinates\n",
    "  beta = -1*(w[1]/w[2])\n",
    "  gamma = -1*(w[0]/w[2])\n",
    "  return beta, gamma\n",
    "\n",
    "\n",
    "from matplotlib import pyplot\n",
    "\n",
    "# create a square plot\n",
    "pyplot.figure(figsize=(8,8))\n",
    "\n",
    "# plot the positive data points\n",
    "pyplot.plot(X[:50,1], X[:50, 2], \"g.\", label=\"positive data\")\n",
    "# plot the negative data points\n",
    "pyplot.plot(X[50:,1], X[50:,2], \"r.\", label=\"negative data\")\n",
    "\n",
    "# define positions where to evaluate the line:\n",
    "x1 = np.array([-2,1])\n",
    "\n",
    "# compute line parameters for manual line\n",
    "beta, gamma = line_parameters(w_manual)\n",
    "# now, compute the values according to our parametric form:\n",
    "x2 = beta * x1 + gamma\n",
    "# plot manual line\n",
    "pyplot.plot(x1, x2, \"m-\", label=\"manual line\")\n",
    "\n",
    "# compute line parameters for optimized line\n",
    "beta, gamma = line_parameters(w_star)\n",
    "# now, compute the values according to our parametric form:\n",
    "x2 = beta * x1 + gamma\n",
    "# plot optimized line\n",
    "pyplot.plot(x1, x2, \"b-\", label=\"optimized line\")\n",
    "\n",
    "# make the plot more beautiful\n",
    "pyplot.show()"
   ]
  },
  {
   "cell_type": "code",
   "execution_count": null,
   "metadata": {},
   "outputs": [],
   "source": []
  }
 ],
 "metadata": {
  "kernelspec": {
   "display_name": "Python 3 (ipykernel)",
   "language": "python",
   "name": "python3"
  },
  "language_info": {
   "codemirror_mode": {
    "name": "ipython",
    "version": 3
   },
   "file_extension": ".py",
   "mimetype": "text/x-python",
   "name": "python",
   "nbconvert_exporter": "python",
   "pygments_lexer": "ipython3",
   "version": "3.10.13"
  },
  "vscode": {
   "interpreter": {
    "hash": "a29cabff5744fce69e08a959ab87b9e77a9f67b498d08783caa8c3bb16f23a00"
   }
  }
 },
 "nbformat": 4,
 "nbformat_minor": 2
}
